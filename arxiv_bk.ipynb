{
 "cells": [
  {
   "cell_type": "code",
   "execution_count": 1,
   "metadata": {},
   "outputs": [
    {
     "name": "stdout",
     "output_type": "stream",
     "text": [
      "Populating the interactive namespace from numpy and matplotlib\n"
     ]
    }
   ],
   "source": [
    "%pylab inline\n",
    "from papers import *"
   ]
  },
  {
   "cell_type": "code",
   "execution_count": 2,
   "metadata": {},
   "outputs": [
    {
     "name": "stdout",
     "output_type": "stream",
     "text": [
      "New submissions for Fri,  4 Oct 19\n",
      "Sleep...\n",
      "Awake...\n",
      "51\n"
     ]
    }
   ],
   "source": [
    "pl, ts = arxiv_reading()\n",
    "with open(\"./list_pkls/\"+ts.split(\",\")[-1].strip().replace(\" \", \"_\")+\"_paper_list.pkl\", \"w\") as f:\n",
    "    pck.dump(pl, f)\n",
    "print(len(pl))"
   ]
  },
  {
   "cell_type": "code",
   "execution_count": 3,
   "metadata": {},
   "outputs": [],
   "source": [
    "lp_c = ListPapers(pl)"
   ]
  },
  {
   "cell_type": "code",
   "execution_count": 4,
   "metadata": {},
   "outputs": [
    {
     "data": {
      "text/plain": [
       "[u'Astrophysics of Galaxies (astro-ph.GA)',\n",
       " u'Cosmology and Nongalactic Astrophysics (astro-ph.CO)',\n",
       " u'Solar and Stellar Astrophysics (astro-ph.SR)',\n",
       " u'Earth and Planetary Astrophysics (astro-ph.EP)',\n",
       " u'Instrumentation and Methods for Astrophysics (astro-ph.IM)',\n",
       " u'High Energy Astrophysical Phenomena (astro-ph.HE)',\n",
       " u'High Energy Physics - Theory (hep-th)',\n",
       " u'Nuclear Theory (nucl-th)',\n",
       " u'Space Physics (physics.space-ph)',\n",
       " u'General Relativity and Quantum Cosmology (gr-qc)']"
      ]
     },
     "execution_count": 4,
     "metadata": {},
     "output_type": "execute_result"
    }
   ],
   "source": [
    "lp_c.all_subjects()"
   ]
  },
  {
   "cell_type": "code",
   "execution_count": 5,
   "metadata": {},
   "outputs": [],
   "source": [
    "lp_c.add_key_words([\"Chemistry\",\"Galactic center\"])\n",
    "#lp_c.del_key_word(\"Chemistry\")"
   ]
  },
  {
   "cell_type": "code",
   "execution_count": 6,
   "metadata": {},
   "outputs": [
    {
     "name": "stdout",
     "output_type": "stream",
     "text": [
      "[0.0, 0.0, 0.0, 0.0, 0.0, 0.0, 0.0, 0.0, 0.0, 0.0, 0.0, 0.0, 3.3168297931300303, 0.0, 0.0, 0.0, 0.0, 0.0, 0.0, 0.0, 0.0, 4.89014580842331, 0.0, 0.0, 0.0, 0.0, 0.0, 0.0, 0.0, 0.0, 0.0, 0.0, 0.0, 0.0, 0.0, 0.0, 0.0, 0.0, 0.0, 0.0, 5.1505873268185747, 0.0, 0.0, 0.0, 0.0, 0.0, 0.0, 0.0, 0.0, 0.0, 0.0]\n",
      "['Chemistry', 'Galactic center']\n",
      "[0.0, 0.0, 0.0, 0.0, 0.0, 0.0, 0.0, 0.0, 0.0, 0.0, 0.0, 0.0, 3.3168297931300303, 0.0, 0.0, 0.0, 0.0, 0.0, 0.0, 0.0, 0.0, 0.0, 0.0, 0.0, 0.0, 0.0, 0.0, 0.0, 0.0, 0.0, 0.0, 0.0, 0.0, 0.0, 0.0, 0.0, 0.0, 0.0, 0.0, 0.0, 0.0, 0.0, 0.0, 0.0, 0.0, 0.0, 0.0, 0.0, 0.0, 0.0, 0.0]\n"
     ]
    }
   ],
   "source": [
    "print(lp_c.tot_scores)\n",
    "print(lp_c.key_words)\n",
    "print(lp_c.scores[\"galactic center\"])\n",
    "#print(lp_c.scores[\"snr\"])\n",
    "#print(lp_c.scores[\"chemistry\"])"
   ]
  },
  {
   "cell_type": "code",
   "execution_count": 7,
   "metadata": {},
   "outputs": [],
   "source": [
    "#lp_c.exclude_key_words(\"planet\")\n",
    "#print(lp_c.scores[\"planet\"])\n",
    "#print(lp_c.tot_scores)"
   ]
  },
  {
   "cell_type": "code",
   "execution_count": 8,
   "metadata": {},
   "outputs": [],
   "source": [
    "#lp_c.head(sync=True)"
   ]
  },
  {
   "cell_type": "code",
   "execution_count": 9,
   "metadata": {},
   "outputs": [
    {
     "name": "stdout",
     "output_type": "stream",
     "text": [
      "Number of papers: 39\n",
      "Subjects: \n",
      "[u'Astrophysics of Galaxies (astro-ph.GA)', u'Cosmology and Nongalactic Astrophysics (astro-ph.CO)', u'Solar and Stellar Astrophysics (astro-ph.SR)', u'Instrumentation and Methods for Astrophysics (astro-ph.IM)', u'High Energy Astrophysical Phenomena (astro-ph.HE)', u'High Energy Physics - Theory (hep-th)', u'Nuclear Theory (nucl-th)', u'Space Physics (physics.space-ph)', u'General Relativity and Quantum Cosmology (gr-qc)']\n",
      "Key words: \n",
      "['Chemistry', 'Galactic center']\n",
      "Exclude key words: \n",
      "Total scores:\n",
      "[0.0, 0.0, 0.0, 0.0, 0.0, 0.0, 0.0, 0.0, 0.0, 0.0, 0.0, 3.0544909702349208, 0.0, 0.0, 0.0, 0.0, 0.0, 0.0, 0.0, 0.0, 0.0, 0.0, 0.0, 0.0, 0.0, 0.0, 0.0, 0.0, 0.0, 0.0, 0.0, 0.0, 0.0, 0.0, 0.0, 0.0, 0.0, 0.0, 0.0]\n"
     ]
    }
   ],
   "source": [
    "#new_subjects = lp_c.all_subjects()\n",
    "#new_subjects.remove(u'Earth and Planetary Astrophysics (astro-ph.EP)')\n",
    "\n",
    "lp_d = lp_c.filter_subjects('Earth and Planetary Astrophysics (astro-ph.EP)', exclude=True)\n",
    "lp_d.summary()"
   ]
  },
  {
   "cell_type": "code",
   "execution_count": 10,
   "metadata": {},
   "outputs": [
    {
     "name": "stdout",
     "output_type": "stream",
     "text": [
      "['Chemistry', 'Galactic center']\n",
      "[0.0, 0.0, 0.0, 0.0, 0.0, 0.0, 0.0, 0.0, 0.0, 0.0, 0.0, 3.0544909702349208, 0.0, 0.0, 0.0, 0.0, 0.0, 0.0, 0.0, 0.0, 0.0, 0.0, 0.0, 0.0, 0.0, 0.0, 0.0, 0.0, 0.0, 0.0, 0.0, 0.0, 0.0, 0.0, 0.0, 0.0, 0.0, 0.0, 0.0]\n",
      "ID: arXiv:1910.01163\n",
      "Title: Evolution of giant molecular clouds across cosmic time\n",
      "Authors: David Guszejnov; Michael Y. Grudić; Stella S. R. Offner; Michael Boylan-Kolchin; Claude-André Faucher-Gigère; Andrew Wetzel; Samantha M. Benincasa; Sarah Loebman\n",
      "Date: New submissions for Fri,  4 Oct 19\n",
      "Abstract: Giant molecular clouds (GMCs) are well-studied in the local Universe,\n",
      "however, exactly how their properties vary during galaxy evolution is poorly\n",
      "understood due to challenging resolution requirements, both observational and\n",
      "computational. We present the first time-dependent analysis of giant molecular\n",
      "clouds in a Milky Way-like galaxy and an LMC-like dwarf galaxy of the FIRE-2\n",
      "(Feedback In Realistic Environments) simulation suite, which have sufficient\n",
      "resolution to predict the bulk properties of GMCs in cosmological galaxy\n",
      "formation self-consistently. We show explicitly that the majority of star\n",
      "formation outside the galactic center occurs within self-gravitating gas\n",
      "structures that have properties consistent with observed bound GMCs. We find\n",
      "that the typical cloud bulk properties such as mass and surface density do not\n",
      "vary more than a factor of 2 in any systematic way after the first Gyr of\n",
      "cosmic evolution within a given galaxy from its progenitor. While the median\n",
      "properties are constant, the tails of the distributions can briefly undergo\n",
      "drastic changes, which can produce very massive and dense self-gravitating gas\n",
      "clouds. Once the galaxy forms, we identify only two systematic trends in bulk\n",
      "properties over cosmic time: a steady increase in metallicity produced by\n",
      "previous stellar populations and a weak decrease in bulk cloud temperatures.\n",
      "With the exception of metallicity we find no significant differences in cloud\n",
      "properties between the Milky Way-like and dwarf galaxies. These results have\n",
      "important implications for cosmological star and star cluster formation and put\n",
      "especially strong constraints on theories relating the stellar initial mass\n",
      "function to cloud properties.\n",
      "Comments: 15 pages, 11 figures Submitted to MNRAS\n",
      "Link: \n",
      "Subjects: Astrophysics of Galaxies (astro-ph.GA)\n",
      "\n",
      "The total score is: 3.05\n",
      "\n",
      "ID: arXiv:1910.01121\n",
      "Title: An ALMA survey of the SCUBA-2 Cosmology Legacy Survey UKIDSS/UDS field:  High-resolution dust continuum morphologies and the link between  sub-millimetre galaxies and spheroid formation\n",
      "Authors: B. Gullberg; I. Smail; A. M. Swinbank; U. Dudzeviciute; S. M. Stach; A. P. Thomson; O. Almani; C. C. Chen; E. A. Cooke; D. Farrah; R. J. Ivison; D. Maltby; M. J. Michalowski; J. M. Simpson; D. Scott; J. L. Wardlow; A. Weiss\n",
      "Date: New submissions for Fri,  4 Oct 19\n",
      "Abstract: We present an analysis of the morphology and profiles of the dust continuum\n",
      "emission in 153 bright sub-millimetre galaxies (SMGs) detected with ALMA at S/N\n",
      "ratios of $>8$ in high-resolution $0.18''$ ($\\sim1$kpc) 870$\\mu$m maps. We\n",
      "measure sizes, shapes and light profiles for the rest-frame far-infrared\n",
      "emission from these luminous star-forming systems and derive a median effective\n",
      "radius ($R_e$) of $0.10''\\pm0.04''$ for our sample with a median flux of\n",
      "$S_{870}=5.6\\pm0.2$mJy. We find that the apparent axial ratio ($b/a$)\n",
      "distribution of the SMGs peaks at $b/a\\sim0.63\\pm0.24$ and is best described by\n",
      "triaxial morphologies, while their emission profiles are best fit by a Sersic\n",
      "model with $n\\simeq1.0\\pm0.1$, similar to exponential discs. This combination\n",
      "of triaxiality and $n\\sim1$ Sersic index are characteristic of bars and we\n",
      "suggest that the bulk of the 870$\\mu$m dust continuum emission in the central\n",
      "$\\sim2$kpc of these galaxies arises from bar-like structures. By stacking our\n",
      "870$\\mu$m maps we recover faint extended dust continuum emission on $\\sim4$kpc\n",
      "scales which contributes $13\\pm1$% of the total 870$\\mu$m emission. The scale\n",
      "of this extended emission is similar to that seen for the molecular gas and\n",
      "rest-frame optical light in these systems, suggesting that it represents an\n",
      "extended dust and gas disc at radii larger than the more active bar component.\n",
      "Including this component in our estimated size of the sources we derive a\n",
      "typical effective radius of $\\simeq0.15''\\pm0.05''$ or $1.2\\pm0.4$kpc. Our\n",
      "results suggest that kpc-scale bars are ubiquitous features of high\n",
      "star-formation rate systems at $z\\gg1$, while these systems also contain\n",
      "fainter and more extended gas and stellar envelopes. We suggest that these\n",
      "features, seen some $10-12$Gyrs ago, represent the formation phase of the\n",
      "earliest galactic-scale components: stellar bulges.\n",
      "Comments: 14 pages, 10 figures, accepted for publication in MNRAS\n",
      "Link: \n",
      "Subjects: Astrophysics of Galaxies (astro-ph.GA); Cosmology and Nongalactic Astrophysics (astro-ph.CO)\n",
      "\n",
      "The total score is: 0.00\n",
      "\n",
      "ID: arXiv:1910.01358\n",
      "Title: The SAMI Galaxy Survey: rules of behaviour for spin-ellipticity radial  tracks in galaxies\n",
      "Authors: Alexander Rawlings; Caroline Foster; Jesse van de Sande; Dan S. Taranu; Scott M. Croom; Joss Bland-Hawthorn; Sarah Brough; Julia J. Bryant; Matthew Colless; Claudia del P. Lago; Iraklis S. Konstantopoulos; Jon S. Lawrence; Ángel R. López-Sánchez; Nuria P.F. Lorente; Anne M. Medling; Sree Oh; Matt S. Owers; Samuel N. Richards; Nicholas Scott; Sarah M. Sweet; Sukyoung K. Yi\n",
      "Date: New submissions for Fri,  4 Oct 19\n",
      "Abstract: We study the behaviour of the spin-ellipticity radial tracks for 507 galaxies\n",
      "from the Sydney AAO Multi-object Integral Field (SAMI) Galaxy Survey with\n",
      "stellar kinematics out to $\\geq1.5R_\\text{e}$. We advocate for a\n",
      "morpho-dynamical classification of galaxies, relying on spatially-resolved\n",
      "photometric and kinematic data. We find the use of spin-ellipticity radial\n",
      "tracks is valuable in identifying substructures within a galaxy, including\n",
      "embedded and counter-rotating discs, that are easily missed in unilateral\n",
      "studies of the photometry alone. Conversely, bars are rarely apparent in the\n",
      "stellar kinematics but are readily identified on images. Consequently, we\n",
      "distinguish the spin-ellipticity radial tracks of seven morpho-dynamical types:\n",
      "elliptical, lenticular, early spiral, late spiral, barred spiral, embedded\n",
      "disc, and 2-sigma galaxies. The importance of probing beyond the inner radii of\n",
      "galaxies is highlighted by the characteristics of galactic features in the\n",
      "spin-ellipticity radial tracks present at larger radii. The density of\n",
      "information presented through spin-ellipticity radial tracks emphasises a clear\n",
      "advantage to representing galaxies as a track, rather than a single point, in\n",
      "spin-ellipticity parameter space.\n",
      "Comments: 23 pages, 15 figures\n",
      "Link: \n",
      "Subjects: Astrophysics of Galaxies (astro-ph.GA)\n",
      "\n",
      "The total score is: 0.00\n",
      "\n"
     ]
    }
   ],
   "source": [
    "#lp_d.reset_exclude()\n",
    "print(lp_d.key_words)\n",
    "print(lp_d.tot_scores)\n",
    "lp_d.head()"
   ]
  },
  {
   "cell_type": "code",
   "execution_count": 11,
   "metadata": {
    "collapsed": true
   },
   "outputs": [],
   "source": [
    "def pl_nap(time):\n",
    "    \"\"\"power law nap time\"\"\"\n",
    "    a = 1.\n",
    "    b = 0.75\n",
    "    return a*time**b"
   ]
  },
  {
   "cell_type": "code",
   "execution_count": 12,
   "metadata": {},
   "outputs": [
    {
     "data": {
      "text/plain": [
       "[<matplotlib.lines.Line2D at 0x1105e3f50>]"
      ]
     },
     "execution_count": 12,
     "metadata": {},
     "output_type": "execute_result"
    },
    {
     "data": {
      "image/png": "[encoded data removed]",
      "text/plain": [
       "<matplotlib.figure.Figure at 0x10f9726d0>"
      ]
     },
     "metadata": {},
     "output_type": "display_data"
    }
   ],
   "source": [
    "plot(arange(50)/49.*86400./60./60., pl_nap(arange(50)/49.*86400.)/60.)"
   ]
  }
 ],
 "metadata": {
  "kernelspec": {
   "display_name": "Python 3",
   "language": "python",
   "name": "python3"
  },
  "language_info": {
   "codemirror_mode": {
    "name": "ipython",
    "version": 3
   },
   "file_extension": ".py",
   "mimetype": "text/x-python",
   "name": "python",
   "nbconvert_exporter": "python",
   "pygments_lexer": "ipython3",
   "version": "3.6.2"
  }
 },
 "nbformat": 4,
 "nbformat_minor": 2
}
