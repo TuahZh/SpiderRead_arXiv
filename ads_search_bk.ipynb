{
 "cells": [
  {
   "cell_type": "code",
   "execution_count": 1,
   "metadata": {},
   "outputs": [],
   "source": [
    "from papers import *"
   ]
  },
  {
   "cell_type": "code",
   "execution_count": null,
   "metadata": {},
   "outputs": [],
   "source": []
  },
  {
   "cell_type": "code",
   "execution_count": 2,
   "metadata": {},
   "outputs": [
    {
     "name": "stderr",
     "output_type": "stream",
     "text": [
      "/Users/gaoyuan/programs/git/SpiderRead_arXiv/papers.py:544: UserWarning: No parser was explicitly specified, so I'm using the best available HTML parser for this system (\"html.parser\"). This usually isn't a problem, but if you run this code on another system, or in a different virtual environment, it may use a different parser and behave differently.\n",
      "\n",
      "The code that caused this warning is on line 544 of the file /Users/gaoyuan/programs/git/SpiderRead_arXiv/papers.py. To get rid of this warning, pass the additional argument 'features=\"html.parser\"' to the BeautifulSoup constructor.\n",
      "\n",
      "  soup = BeautifulSoup(plain_text)\n"
     ]
    },
    {
     "name": "stdout",
     "output_type": "stream",
     "text": [
      "https://ui.adsabs.harvard.edu/abs/\n"
     ]
    },
    {
     "data": {
      "text/plain": [
       "['__class__',\n",
       " '__delattr__',\n",
       " '__dict__',\n",
       " '__dir__',\n",
       " '__doc__',\n",
       " '__eq__',\n",
       " '__format__',\n",
       " '__ge__',\n",
       " '__getattribute__',\n",
       " '__gt__',\n",
       " '__hash__',\n",
       " '__init__',\n",
       " '__init_subclass__',\n",
       " '__le__',\n",
       " '__lt__',\n",
       " '__module__',\n",
       " '__ne__',\n",
       " '__new__',\n",
       " '__reduce__',\n",
       " '__reduce_ex__',\n",
       " '__repr__',\n",
       " '__setattr__',\n",
       " '__sizeof__',\n",
       " '__str__',\n",
       " '__subclasshook__',\n",
       " '__weakref__',\n",
       " '_authors_in_line',\n",
       " '_find_ads_page',\n",
       " '_find_paper',\n",
       " '_read_ads_page',\n",
       " '_read_page',\n",
       " '_url_prefix',\n",
       " 'abstract',\n",
       " 'access_arxiv',\n",
       " 'ads_id',\n",
       " 'ads_pdf_url',\n",
       " 'arxiv_id',\n",
       " 'authors',\n",
       " 'citation_url',\n",
       " 'comments',\n",
       " 'customized_fields',\n",
       " 'date',\n",
       " 'doi',\n",
       " 'fetch_pdf',\n",
       " 'get_ads_id',\n",
       " 'get_ref_cit_url',\n",
       " 'link',\n",
       " 'link_ads',\n",
       " 'nap_interval',\n",
       " 'reference_url',\n",
       " 'search_online',\n",
       " 'std_keywords',\n",
       " 'subjects',\n",
       " 'title']"
      ]
     },
     "execution_count": 2,
     "metadata": {},
     "output_type": "execute_result"
    }
   ],
   "source": [
    "ads_p = PaperExt(ads_id=\"2010ApJ...714..320A\")\n",
    "print(ads_p._url_prefix)\n",
    "dir(ads_p)"
   ]
  },
  {
   "cell_type": "code",
   "execution_count": 3,
   "metadata": {},
   "outputs": [
    {
     "name": "stdout",
     "output_type": "stream",
     "text": [
      "['galaxies: formation', 'galaxies: ISM', 'Galaxy: general', 'Astrophysics - Cosmology and Extragalactic Astrophysics']\n"
     ]
    }
   ],
   "source": [
    "print(ads_p.std_keywords)"
   ]
  },
  {
   "cell_type": "code",
   "execution_count": 4,
   "metadata": {},
   "outputs": [
    {
     "name": "stdout",
     "output_type": "stream",
     "text": [
      "ID: arXiv:1003.3273\n",
      "Title: Do Hot Halos Around Galaxies Contain the Missing Baryons?\n",
      "Authors: Anderson, Michael E.; Bregman, Joel N.\n",
      "Date: 2010-05-00\n",
      "Abstract: Galaxies are missing most of their baryons, and many models predict these baryons lie in a hot halo around galaxies. We establish observationally motivated constraints on the mass and radii of these halos using a variety of independent arguments. First, the observed dispersion measure of pulsars in the Large Magellanic Cloud allows us to constrain the hot halo around the Milky Way: if it obeys the standard Navarro, Frenk, and White (NFW) profile, it must contain less than 4%-5% of the missing baryons from the Galaxy. This is similar to other upper limits on the Galactic hot halo, such as the soft X-ray background and the pressure around high-velocity clouds. Second, we note that the X-ray surface brightness of hot halos with NFW profiles around large isolated galaxies is high enough that such emission should be observed, unless their halos contain less than 10%-25% of their missing baryons. Third, we place constraints on the column density of hot halos using nondetections of O VII absorption along active galactic nucleus (AGN) sightlines: in general they must contain less than 70% of the missing baryons or extend to no more than 40 kpc. Flattening the density profile of galactic hot halos weakens the surface brightness constraint so that a typical L <SUB>*</SUB> galaxy may hold half its missing baryons in its halo, but the O VII constraint remains unchanged, and around the Milky Way a flattened profile may only hold 6%-13% of the missing baryons from the Galaxy ((2-4) × 10<SUP>10</SUP> M <SUB>sun</SUB>). We also show that AGN and supernovae at low to moderate redshift—the theoretical sources of winds responsible for driving out the missing baryons—do not produce the expected correlations with the baryonic Tully-Fisher relationship and, therefore, are insufficient to explain the missing baryons from galaxies. We conclude that most of missing baryons from galaxies do not lie in hot halos around the galaxies, and that the missing baryons never fell into the potential wells of protogalaxies in the first place. They may have been expelled from the galaxies as part of the process of galaxy formation.\n",
      "Comments: \n",
      "Link: \n",
      "Subjects: \n",
      "\n"
     ]
    }
   ],
   "source": [
    "print(ads_p)"
   ]
  },
  {
   "cell_type": "code",
   "execution_count": 5,
   "metadata": {},
   "outputs": [
    {
     "name": "stderr",
     "output_type": "stream",
     "text": [
      "/Users/gaoyuan/programs/git/SpiderRead_arXiv/papers.py:90: UserWarning: No parser was explicitly specified, so I'm using the best available HTML parser for this system (\"html.parser\"). This usually isn't a problem, but if you run this code on another system, or in a different virtual environment, it may use a different parser and behave differently.\n",
      "\n",
      "The code that caused this warning is on line 90 of the file /Users/gaoyuan/programs/git/SpiderRead_arXiv/papers.py. To get rid of this warning, pass the additional argument 'features=\"html.parser\"' to the BeautifulSoup constructor.\n",
      "\n",
      "  soup = BeautifulSoup(plain_text)\n"
     ]
    }
   ],
   "source": [
    "ads_p.access_arxiv()"
   ]
  },
  {
   "cell_type": "code",
   "execution_count": 6,
   "metadata": {},
   "outputs": [
    {
     "name": "stdout",
     "output_type": "stream",
     "text": [
      "ID: arXiv:1003.3273\n",
      "Title: Do Hot Haloes Around Galaxies Contain the Missing Baryons?\n",
      "Authors: Anderson, Michael E.; Bregman, Joel N.\n",
      "Date: 2010-05-00\n",
      "Abstract: Galaxies are missing most of their baryons, and many models predict these\n",
      "baryons lie in a hot halo around galaxies. We establish observationally\n",
      "motivated constraints on the mass and radii of these haloes using a variety of\n",
      "independent arguments. First, the observed dispersion measure of pulsars in the\n",
      "Large Magellanic Cloud allows us to constrain the hot halo around the Milky\n",
      "Way: if it obeys the standard NFW profile, it must contain less than 4-5% of\n",
      "the missing baryons from the Galaxy. This is similar to other upper limits on\n",
      "the Galactic hot halo, such as the soft X-ray background and the pressure\n",
      "around high velocity clouds. Second, we note that the X-ray surface brightness\n",
      "of hot haloes with NFW profiles around large isolated galaxies is high enough\n",
      "that such emission should be observed, unless their haloes contain less than\n",
      "10-25% of their missing baryons. Third, we place constraints on the column\n",
      "density of hot haloes using nondetections of OVII absorption along AGN\n",
      "sightlines: in general they must contain less than 70% of the missing baryons\n",
      "or extend to no more than 40 kpc. Flattening the density profile of galactic\n",
      "hot haloes weakens the surface brightness constraint so that a typical L$_*$\n",
      "galaxy may hold half its missing baryons in its halo, but the OVII constraint\n",
      "remains unchanged, and around the Milky Way a flattened profile may only hold\n",
      "$6-13%$ of the missing baryons from the Galaxy ($2-4 \\times 10^{10}\n",
      "M_{\\odot}$). We also show that AGN and supernovae at low to moderate redshift -\n",
      "the theoretical sources of winds responsible for driving out the missing\n",
      "baryons - do not produce the expected correlations with the baryonic\n",
      "Tully-Fisher relationship and so are insufficient to explain the missing\n",
      "baryons from galaxies. We conclude that most of missing baryons from galaxies\n",
      "do not lie in hot haloes around the galaxies, and that the missing baryons\n",
      "never fell into the potential wells of protogalaxies in the first place. They\n",
      "may have been expelled from the galaxies as part of the process of galaxy\n",
      "formation.\n",
      "Comments: accepted for publication in the Astrophysical Journal\n",
      "Link: https://arxiv.org/abs/arXiv:1003.3273\n",
      "Subjects: Cosmology and Nongalactic Astrophysics (astro-ph.CO)\n",
      "\n"
     ]
    }
   ],
   "source": [
    "print(ads_p)"
   ]
  },
  {
   "cell_type": "code",
   "execution_count": 25,
   "metadata": {},
   "outputs": [
    {
     "name": "stdout",
     "output_type": "stream",
     "text": [
      "<Response [200]>\n"
     ]
    }
   ],
   "source": [
    "# listpaper of reference\n",
    "# try:\n",
    "header = {\"User-Agent\":random.choice(user_agent_list), \n",
    "         \"x-requested-with\": \"XMLHttpRequest\",\n",
    "         \"accept\": \"text/html,application/xhtml+xml,application/xml;q=0.9,image/webp,image/apng,*/*;q=0.8,application/signed-exchange;v=b3\",\n",
    "         \"accept-encoding\": \"gzip, deflate, br\",\n",
    "         \"accept-language\": \"en;q=0.7,ru;q=0.6\",\n",
    "         \"cookie\": \"_ga=GA1.2.1792250097.1567225807; _gid=GA1.2.1943081228.1570263096; session-core=.eJwVkNtyqjAAAP8lz8ok4c6bbYESLbdTFXlhNA0QoqCAUOj470c_YHdn9g8c730JrD9wpJR1XdY3gtXAAm-CyWl8yc1um9zLCdLreh9HkbaePyHhLXKJrrQ-R2ABTk0PrPx47tgCsN8rb1nGXwoMkblEcAm1b2hYCFmyLhmqqsoYPBaANo3grHulu2eYNy9EYmRElbA3RbU6RKG5zl0anuK9B20nmu1gff5JsZ1sW_97f9pccp5Py_e2yJgCYZSMyUCrN807CZfSz9XFfY-LwtEJmjWCfPUJivqfo1WX67Esvnp9GnKvu846cQoGg56uhhlhrN5I4PoZzkxRitr4SXf5eNg5PIz7w4R8TthZFodAKLucKDd_Qiwa7E1dTNuz57odD7hpbDxSZJwq-DZKSVpG4SjtQi0Y9EJZVWjv8o_IrPs5TOPMSMTzYdc29549DyBVM3QMNQ1LWDYlRZZUDGUdgsfjPxouh_8.XZhQQA.og5rjsn0kXckpenLtKxZr0VquEQ; _gat=1; session=.eJw1jkELgjAYQP9KfGcPugxE6BAo1EFjZq3tIupWWtNsutLE_14IXR-8xxshuSjRFuB2SgsDkpKDO8IiAxcCEklGsBnGvKJxbrKYrkKCESW-zarjEH58tPfuy8Cja5h-biNUldai7v61R6q7IsllOTOQyDkNvOFW7af966zfnoOyXh8iubM3V6y2-MnpjXEwQLdCzS9gwfQFfYs2gw.XZid6Q.A2fiaR3Lhh_e_VsWh6-xc9niEek\",\n",
    "         \"referer\": \"https://ui.adsabs.harvard.edu/abs/2019arXiv190912307S/references\",\n",
    "         \"sec-fetch-mode\": \"navigate\",\n",
    "         \"sec-fetch-site\": \"same-origin\"}\n",
    "#user-agent: Mozilla/5.0 (Macintosh; Intel Mac OS X 10_14_6) AppleWebKit/537.36 (KHTML, like Gecko) Chrome/77.0.3865.90 Safari/537.36\n",
    "#x-requested-with: XMLHttpRequest}\n",
    "#source_code = requests.get(\"https://ui.adsabs.harvard.edu/abs/2019arXiv190912307S/references\", headers=header)\n",
    "source_code = requests.get(\"https://ui.adsabs.harvard.edu/search/p_=0&q=references(bibcode%3A2019arXiv190912307S)&sort=first_author%20asc%2C%20bibcode%20asc\", headers=header)\n",
    "\n",
    "print(source_code)"
   ]
  },
  {
   "cell_type": "code",
   "execution_count": 26,
   "metadata": {},
   "outputs": [
    {
     "name": "stdout",
     "output_type": "stream",
     "text": [
      "<!doctype html><html lang=\"en\"><head profile=\"http://a9.com/-/spec/opensearch/1.1/\"><meta charset=\"utf-8\"><base href=\"/\"><meta http-equiv=\"X-UA-Compatible\" content=\"IE=edge,chrome=1\"><meta name=\"viewport\" content=\"width=device-width,initial-scale=1\"><meta name=\"google-site-verification\" content=\"XxQuw38lagr8-TgtCyhAMP_6ELS9dy35fgrqo9dxw3o\"><title>NASA/ADS</title><meta name=\"description\" content=\"A powerful, streamlined new Astrophysics Data System\"><link rel=\"preload\" href=\"./styles/css/styles.css\" as=\"style\"><link rel=\"preload\" href=\"./libs/requirejs/require.js\" as=\"script\"><link rel=\"preload\" href=\"./config/shim.js\" as=\"script\"><link rel=\"stylesheet\" href=\"./styles/css/styles.css\"><link rel=\"icon\" type=\"image/png\" sizes=\"32x32\" href=\"./styles/img/favicon.ico\"><link rel=\"search\" type=\"application/opensearchdescription+xml\" href=\"https://ui.adsabs.harvard.edu/config/opensearch.xml\" title=\"ADS Search\"><noscript><style>#app-container {\n",
      "        display: none;\n",
      "      }\n",
      "      body {\n",
      "        overflow: hidden;\n",
      "        position: absolute;\n",
      "        width: 100%;\n",
      "        height: 100%;\n",
      "        display: flex;\n",
      "        justify-content: center;\n",
      "        align-items: center;\n",
      "      }\n",
      "      #noscriptmsg {\n",
      "        max-width: 450px;\n",
      "        padding: 10px;\n",
      "      }</style></noscript></head><body><noscript><div id=\"noscriptmsg\"><div class=\"h3\">JavaScript Required</div><hr class=\"hr\"><p>Sorry, but ADS requires JavaScript to be enabled.</p><p class=\"pull-right\"><a href=\"//ui.adsabs.harvard.edu\" class=\"btn btn-info\">Reload</a></p></div></noscript><div id=\"app-container\"><div id=\"body-template-container\"><div class=\"loading-screen\" style=\"display: none\"><div class=\"row\"><div class=\"col-xs-8 col-xs-offset-2\"><div class=\"logo__astrophysics\">astrophysics</div><div class=\"logo__data-system\">data system</div></div></div><div class=\"row\"><div class=\"col-xs-6 col-xs-offset-3\"><span class=\"sr-only\">loading...</span><div class=\"progress\"><div class=\"progress-bar\" role=\"progressbar\" id=\"app_loading_progress\" aria-valuenow=\"0\" aria-valuemin=\"0\" aria-valuemax=\"100\" style=\"width: 0%\"><div class=\"sr-only\">0% Complete</div></div></div><span class=\"loading-screen__loading\" id=\"app_loading_message\"></span></div></div></div></div></div><script type=\"application/ld+json\">{{{this}}}</script><script>// Progress Bar\n",
      "        (function () {\n",
      "          var loadingContainer = document.querySelector('.loading-screen');\n",
      "          var progressBar = document.getElementById('app_loading_progress');\n",
      "          var message = document.getElementById('app_loading_message');\n",
      "          var progressInner = document.querySelector('#app_loading_progress>div');\n",
      "          var progressValue = 0;\n",
      "\n",
      "          // show nothing for the first 3 seconds\n",
      "          setTimeout(function () {\n",
      "            loadingContainer.setAttribute('style', '');\n",
      "          }, 3000);\n",
      "\n",
      "          window.__setAppLoadingProgress = function (val, msg) {\n",
      "            if (val < progressValue) return;\n",
      "            try {\n",
      "              progressBar.setAttribute('aria-valuenow', val);\n",
      "              progressBar.style = 'width: ' + val + '%';\n",
      "              progressInner.innerText = val + '% Complete';\n",
      "              message.innerHTML = msg ? msg : message.innerHTML;\n",
      "              progressValue = val;\n",
      "            } catch (e) {\n",
      "              // do nothing\n",
      "            }\n",
      "          };\n",
      "          setTimeout(__setAppLoadingProgress, 200, 10);\n",
      "          setTimeout(__setAppLoadingProgress, 500, 15);\n",
      "          window.__setAppLoadingProgress(5, 'Downloading Assets');\n",
      "          window.__PAGE_LOAD_TIMESTAMP = new Date();\n",
      "\n",
      "          // Show a reload button if the page is taking too long\n",
      "          setTimeout(function check () {\n",
      "            if (progressValue !== 100) {\n",
      "              var msg = 'Loading the application is taking a long time... ';\n",
      "              msg += '<button role=\"button\" onclick=\"location.reload()\" class=\"btn btn-default\">Reload</button>';\n",
      "              window.__setAppLoadingProgress(progressValue, msg);\n",
      "            } else {\n",
      "              window.APP_LOADING_TIMER = setTimeout(check, 10000);\n",
      "            }\n",
      "          }, 10000);\n",
      "        })();</script><script src=\"./libs/requirejs/require.js\"></script><script src=\"./config/shim.js\"></script></body></html>\n"
     ]
    }
   ],
   "source": [
    "print(source_code.text)"
   ]
  },
  {
   "cell_type": "code",
   "execution_count": 27,
   "metadata": {},
   "outputs": [
    {
     "name": "stdout",
     "output_type": "stream",
     "text": [
      "-1\n"
     ]
    }
   ],
   "source": [
    "print(source_code.text.find(\"thermal\"))"
   ]
  },
  {
   "cell_type": "code",
   "execution_count": 28,
   "metadata": {},
   "outputs": [],
   "source": [
    "import selenium"
   ]
  },
  {
   "cell_type": "code",
   "execution_count": 2,
   "metadata": {},
   "outputs": [],
   "source": [
    "# imports\n",
    "from selenium import webdriver\n",
    "from selenium.webdriver.common.desired_capabilities import DesiredCapabilities\n",
    "from selenium.webdriver.common.by import By\n",
    "from selenium.webdriver.support.ui import WebDriverWait\n",
    "from selenium.webdriver.support import expected_conditions as EC\n",
    "from selenium.webdriver.chrome.options import Options"
   ]
  },
  {
   "cell_type": "code",
   "execution_count": 3,
   "metadata": {},
   "outputs": [],
   "source": [
    "#options = Options()\n",
    "\n",
    "#options.add_argument(f'user-agent='+random.choice(user_agent_list))\n",
    "#driver = webdriver.Chrome(chrome_options=options, executable_path=r\"/usr/local/bin/chromedriver\")\n",
    "#driver.get(\"https://www.google.co.in\")\n",
    "driver = webdriver.Chrome(executable_path=r\"/usr/local/bin/chromedriver\")"
   ]
  },
  {
   "cell_type": "code",
   "execution_count": 4,
   "metadata": {},
   "outputs": [
    {
     "data": {
      "text/plain": [
       "'Mozilla/5.0 (Macintosh; Intel Mac OS X 10_14_6) AppleWebKit/537.36 (KHTML, like Gecko) Chrome/77.0.3865.90 Safari/537.36'"
      ]
     },
     "execution_count": 4,
     "metadata": {},
     "output_type": "execute_result"
    }
   ],
   "source": [
    "driver.execute_script(\"return navigator.userAgent\")"
   ]
  },
  {
   "cell_type": "code",
   "execution_count": 5,
   "metadata": {},
   "outputs": [
    {
     "name": "stdout",
     "output_type": "stream",
     "text": [
      "                           25\n",
      "                           50\n",
      "                           100\n",
      "                           200\n",
      "                           500\n",
      "                         \n"
     ]
    }
   ],
   "source": [
    "driver.get(\"https://ui.adsabs.harvard.edu/abs/1992MNRAS.259..345A/references\")\n",
    "element = WebDriverWait(driver, 50).until(\n",
    "        EC.presence_of_element_located((By.CLASS_NAME, 's-results-title'))\n",
    "        )\n",
    "el_per_page = driver.find_element_by_id(\"per-page-select\")\n",
    "print(el_per_page.text)"
   ]
  },
  {
   "cell_type": "code",
   "execution_count": 6,
   "metadata": {},
   "outputs": [],
   "source": [
    "el_per_page_500 = el_per_page.find_element_by_xpath(\"//select[@name='per-page-select']/option[text()='500']\")\n",
    "el_per_page_500.click()"
   ]
  },
  {
   "cell_type": "code",
   "execution_count": 15,
   "metadata": {},
   "outputs": [],
   "source": [
    "source_code = driver.page_source\n",
    "soup = BeautifulSoup(source_code)"
   ]
  },
  {
   "cell_type": "code",
   "execution_count": 26,
   "metadata": {},
   "outputs": [
    {
     "name": "stdout",
     "output_type": "stream",
     "text": [
      "54\n",
      "54\n",
      "2013A&A...550A.135A\n",
      "ID: \n",
      "Title: The existence and shapes of dust lanes in galactic bars.\n",
      "Authors: Athanassoula, E.\n",
      "Date: 1992-11-00\n",
      "Abstract: I study the flow of gas in and around the bars or ovals of model barred galaxies and show that it is intimately linked to the properties of the periodic orbits. Simulations show that the density of the gas in and around the bar region is low, except for the centre and two narrow lanes which are the loci of shocks. Such shocks form if the x_1_ periodic orbits have either loops or large curvature values at their apocentres. The form of the shock loci depends on a number of parameters characterizing the bar and disc potentials. In order for shocks to be offset from the bar major axis towards its leading side, the x_2_ and x_3_ families must not only exist but also cover a sufficient extent along the bar major axis. The shapes of the shock loci are then understood by the gradual shift of the orientation of the flow lines from that of the x_1_ orbits to that of x_2_. Along the shock there is also substantial shear, opposing star formation. The existence of offset shock loci of the observed shape puts strict constraints on the values the various model parameters may take. This should be most useful for deriving bar parameters for observed galaxies. For example, the Lagrangian radius has to lie in the interval (1.2+/-0.2) a, where a is the length of the bar semimajor axis. For low values of the bar axial ratio or the bar quadrupole moment the shock loci are curved, with their concave sides towards the bar major axis. Substantial inflow is found in models with strong shocks.\n",
      "Comments: \n",
      "Link: \n",
      "Subjects: \n",
      "\n"
     ]
    }
   ],
   "source": [
    "title_list_sp = soup.findAll(\"h3\", {\"class\":'s-results-title'})\n",
    "print(len(title_list_sp))\n",
    "bibcode_list_sp = soup.findAll(\"a\", {\"aria-label\":\"bibcode\"})\n",
    "print(len(bibcode_list_sp))\n",
    "print(bibcode_list_sp[0].get_text().strip())\n",
    "paper1 = PaperExt(ads_id=bibcode_list_sp[1].get_text().strip(), nap=10.)\n",
    "print(paper1)"
   ]
  },
  {
   "cell_type": "code",
   "execution_count": 58,
   "metadata": {},
   "outputs": [],
   "source": [
    "driver.quit()"
   ]
  },
  {
   "cell_type": "code",
   "execution_count": 16,
   "metadata": {},
   "outputs": [
    {
     "data": {
      "text/plain": [
       "54"
      ]
     },
     "execution_count": 16,
     "metadata": {},
     "output_type": "execute_result"
    }
   ],
   "source": [
    "len(soup.findAll(\"h3\", {\"class\":'s-results-title'}))"
   ]
  },
  {
   "cell_type": "code",
   "execution_count": 69,
   "metadata": {},
   "outputs": [],
   "source": [
    "def ads_get_ref_cit(url, nap=5., deep=False, depth=2):\n",
    "    \"\"\"Get the reference list or citation list from ADS.\"\"\"\n",
    "    wait_for_response = 10. #sec\n",
    "    try:\n",
    "        t0 = time.time()\n",
    "        options = Options()\n",
    "        options.add_argument(f'user-agent='+random.choice(user_agent_list))\n",
    "        driver = webdriver.Chrome(chrome_options=options, executable_path=r\"/usr/local/bin/chromedriver\")\n",
    "        #driver = webdriver.Chrome(executable_path=r\"/usr/local/bin/chromedriver\")\n",
    "        driver.get(url)\n",
    "        element = WebDriverWait(driver, 50).until(\n",
    "            EC.presence_of_element_located((By.CLASS_NAME, 's-results-title'))\n",
    "            )\n",
    "        el_per_page = driver.find_element_by_id(\"per-page-select\")\n",
    "        el_per_page_500 = el_per_page.find_element_by_xpath(\"//select[@name='per-page-select']/option[text()='500']\")\n",
    "        el_per_page_500.click()\n",
    "        # Wait for respond\n",
    "        time.sleep(wait_for_response)\n",
    "        source_code = driver.page_source\n",
    "        soup = BeautifulSoup(source_code)\n",
    "\n",
    "        if(not deep):\n",
    "            depth = 1\n",
    "\n",
    "        bibcode_list_sp = soup.findAll(\"a\", {\"aria-label\":\"bibcode\"})\n",
    "        # Maximum is 500\n",
    "        if (len(bibcode_list_sp) >= 500):\n",
    "            print(\"Warning: this page has at least 500 papers, which means the list could be larger than that.\")\n",
    "        print(\"The number of current page is \", len(bibcode_list_sp))  \n",
    "\n",
    "        paper_list = []\n",
    "        for bb in bibcode_list_sp:\n",
    "            tt = time.time()\n",
    "            paper_list.append(PaperExt(ads_id=bb.get_text().strip(), nap=pl_nap(tt-t0, nap)))\n",
    "    except:\n",
    "        raise\n",
    "    finally:\n",
    "        driver.quit()\n",
    "\n",
    "    print(\"Sleep...\")\n",
    "    time.sleep(random.random()*nap)\n",
    "    print(\"Awake...\")\n",
    "    return ListPapers(paper_list)"
   ]
  },
  {
   "cell_type": "code",
   "execution_count": 60,
   "metadata": {},
   "outputs": [],
   "source": [
    "def pl_nap(time, nap_min):\n",
    "    \"\"\"power law nap time\"\"\"\n",
    "    if(time<nap_min):\n",
    "        return nap_min\n",
    "    a = 2.\n",
    "    b = 0.5\n",
    "    nap_max = 3600 #1 hour\n",
    "    return (a*time**b)%nap_max"
   ]
  },
  {
   "cell_type": "code",
   "execution_count": 50,
   "metadata": {},
   "outputs": [
    {
     "name": "stdout",
     "output_type": "stream",
     "text": [
      "Populating the interactive namespace from numpy and matplotlib\n"
     ]
    },
    {
     "name": "stderr",
     "output_type": "stream",
     "text": [
      "/Users/gaoyuan/programs/anaconda/envs/web3/lib/python3.6/site-packages/IPython/core/magics/pylab.py:160: UserWarning: pylab import has clobbered these variables: ['random', 'e']\n",
      "`%matplotlib` prevents importing * from pylab and numpy\n",
      "  \"\\n`%matplotlib` prevents importing * from pylab and numpy\"\n"
     ]
    }
   ],
   "source": [
    "%pylab inline"
   ]
  },
  {
   "cell_type": "code",
   "execution_count": 61,
   "metadata": {},
   "outputs": [
    {
     "data": {
      "text/plain": [
       "[<matplotlib.lines.Line2D at 0x110f4c278>]"
      ]
     },
     "execution_count": 61,
     "metadata": {},
     "output_type": "execute_result"
    },
    {
     "data": {
      "image/png": "[encoded data removed]",
      "text/plain": [
       "<Figure size 432x288 with 1 Axes>"
      ]
     },
     "metadata": {
      "needs_background": "light"
     },
     "output_type": "display_data"
    }
   ],
   "source": [
    "plot(arange(50)/49.*86400./60./60., [pl_nap(t, 5.) for t in arange(50)/49.*86400.])"
   ]
  },
  {
   "cell_type": "code",
   "execution_count": 33,
   "metadata": {},
   "outputs": [],
   "source": [
    "ta = time.time()\n",
    "time.sleep(10)\n",
    "tb = time.time()"
   ]
  },
  {
   "cell_type": "code",
   "execution_count": 34,
   "metadata": {},
   "outputs": [],
   "source": [
    "dt = tb-ta"
   ]
  },
  {
   "cell_type": "code",
   "execution_count": 35,
   "metadata": {},
   "outputs": [
    {
     "data": {
      "text/plain": [
       "10.00570011138916"
      ]
     },
     "execution_count": 35,
     "metadata": {},
     "output_type": "execute_result"
    }
   ],
   "source": [
    "dt"
   ]
  },
  {
   "cell_type": "code",
   "execution_count": 63,
   "metadata": {},
   "outputs": [
    {
     "name": "stderr",
     "output_type": "stream",
     "text": [
      "/Users/gaoyuan/programs/anaconda/envs/web3/lib/python3.6/site-packages/ipykernel_launcher.py:7: DeprecationWarning: use options instead of chrome_options\n",
      "  import sys\n"
     ]
    },
    {
     "name": "stdout",
     "output_type": "stream",
     "text": [
      "The number of current page is  51\n"
     ]
    },
    {
     "name": "stderr",
     "output_type": "stream",
     "text": [
      "/Users/gaoyuan/programs/git/SpiderRead_arXiv/papers.py:544: UserWarning: No parser was explicitly specified, so I'm using the best available HTML parser for this system (\"html.parser\"). This usually isn't a problem, but if you run this code on another system, or in a different virtual environment, it may use a different parser and behave differently.\n",
      "\n",
      "The code that caused this warning is on line 544 of the file /Users/gaoyuan/programs/git/SpiderRead_arXiv/papers.py. To get rid of this warning, pass the additional argument 'features=\"html.parser\"' to the BeautifulSoup constructor.\n",
      "\n",
      "  soup = BeautifulSoup(plain_text)\n"
     ]
    },
    {
     "ename": "AttributeError",
     "evalue": "'NoneType' object has no attribute 'get'",
     "output_type": "error",
     "traceback": [
      "\u001b[0;31m---------------------------------------------------------------------------\u001b[0m",
      "\u001b[0;31mAttributeError\u001b[0m                            Traceback (most recent call last)",
      "\u001b[0;32m<ipython-input-63-c82092821ef9>\u001b[0m in \u001b[0;36m<module>\u001b[0;34m\u001b[0m\n\u001b[0;32m----> 1\u001b[0;31m \u001b[0mtest_lp\u001b[0m \u001b[0;34m=\u001b[0m \u001b[0mads_get_ref_cit\u001b[0m\u001b[0;34m(\u001b[0m\u001b[0;34m\"https://ui.adsabs.harvard.edu/abs/1992MNRAS.259..345A/references\"\u001b[0m\u001b[0;34m)\u001b[0m\u001b[0;34m\u001b[0m\u001b[0m\n\u001b[0m\u001b[1;32m      2\u001b[0m \u001b[0mtest_lp\u001b[0m\u001b[0;34m.\u001b[0m\u001b[0msummary\u001b[0m\u001b[0;34m(\u001b[0m\u001b[0;34m)\u001b[0m\u001b[0;34m\u001b[0m\u001b[0m\n",
      "\u001b[0;32m<ipython-input-62-987e944d25ea>\u001b[0m in \u001b[0;36mads_get_ref_cit\u001b[0;34m(url, nap, deep, depth)\u001b[0m\n\u001b[1;32m     31\u001b[0m         \u001b[0;32mfor\u001b[0m \u001b[0mbb\u001b[0m \u001b[0;32min\u001b[0m \u001b[0mbibcode_list_sp\u001b[0m\u001b[0;34m:\u001b[0m\u001b[0;34m\u001b[0m\u001b[0m\n\u001b[1;32m     32\u001b[0m             \u001b[0mtt\u001b[0m \u001b[0;34m=\u001b[0m \u001b[0mtime\u001b[0m\u001b[0;34m.\u001b[0m\u001b[0mtime\u001b[0m\u001b[0;34m(\u001b[0m\u001b[0;34m)\u001b[0m\u001b[0;34m\u001b[0m\u001b[0m\n\u001b[0;32m---> 33\u001b[0;31m             \u001b[0mpaper_list\u001b[0m\u001b[0;34m.\u001b[0m\u001b[0mappend\u001b[0m\u001b[0;34m(\u001b[0m\u001b[0mPaperExt\u001b[0m\u001b[0;34m(\u001b[0m\u001b[0mads_id\u001b[0m\u001b[0;34m=\u001b[0m\u001b[0mbb\u001b[0m\u001b[0;34m.\u001b[0m\u001b[0mget_text\u001b[0m\u001b[0;34m(\u001b[0m\u001b[0;34m)\u001b[0m\u001b[0;34m.\u001b[0m\u001b[0mstrip\u001b[0m\u001b[0;34m(\u001b[0m\u001b[0;34m)\u001b[0m\u001b[0;34m,\u001b[0m \u001b[0mnap\u001b[0m\u001b[0;34m=\u001b[0m\u001b[0mpl_nap\u001b[0m\u001b[0;34m(\u001b[0m\u001b[0mtt\u001b[0m\u001b[0;34m-\u001b[0m\u001b[0mt0\u001b[0m\u001b[0;34m,\u001b[0m \u001b[0mnap\u001b[0m\u001b[0;34m)\u001b[0m\u001b[0;34m)\u001b[0m\u001b[0;34m)\u001b[0m\u001b[0;34m\u001b[0m\u001b[0m\n\u001b[0m\u001b[1;32m     34\u001b[0m     \u001b[0;32mexcept\u001b[0m\u001b[0;34m:\u001b[0m\u001b[0;34m\u001b[0m\u001b[0m\n\u001b[1;32m     35\u001b[0m         \u001b[0;32mraise\u001b[0m\u001b[0;34m\u001b[0m\u001b[0m\n",
      "\u001b[0;32m~/programs/git/SpiderRead_arXiv/papers.py\u001b[0m in \u001b[0;36m__init__\u001b[0;34m(self, ads_id, arxiv_id, url, nap)\u001b[0m\n\u001b[1;32m    504\u001b[0m             \u001b[0mself\u001b[0m\u001b[0;34m.\u001b[0m\u001b[0mlink_ads\u001b[0m \u001b[0;34m=\u001b[0m \u001b[0murl\u001b[0m\u001b[0;34m+\u001b[0m\u001b[0mads_id\u001b[0m\u001b[0;34m\u001b[0m\u001b[0m\n\u001b[1;32m    505\u001b[0m             \u001b[0;34m(\u001b[0m\u001b[0mself\u001b[0m\u001b[0;34m.\u001b[0m\u001b[0mreference_url\u001b[0m\u001b[0;34m,\u001b[0m \u001b[0mself\u001b[0m\u001b[0;34m.\u001b[0m\u001b[0mcitation_url\u001b[0m\u001b[0;34m)\u001b[0m \u001b[0;34m=\u001b[0m \u001b[0mself\u001b[0m\u001b[0;34m.\u001b[0m\u001b[0mget_ref_cit_url\u001b[0m\u001b[0;34m(\u001b[0m\u001b[0mads_id\u001b[0m\u001b[0;34m)\u001b[0m\u001b[0;34m\u001b[0m\u001b[0m\n\u001b[0;32m--> 506\u001b[0;31m             \u001b[0mself\u001b[0m\u001b[0;34m.\u001b[0m\u001b[0m_find_ads_page\u001b[0m\u001b[0;34m(\u001b[0m\u001b[0mads_id\u001b[0m\u001b[0;34m,\u001b[0m \u001b[0mself\u001b[0m\u001b[0;34m.\u001b[0m\u001b[0mlink_ads\u001b[0m\u001b[0;34m)\u001b[0m\u001b[0;34m\u001b[0m\u001b[0m\n\u001b[0m\u001b[1;32m    507\u001b[0m             \u001b[0;31m#print(self.arxiv_id)\u001b[0m\u001b[0;34m\u001b[0m\u001b[0;34m\u001b[0m\u001b[0m\n\u001b[1;32m    508\u001b[0m         \u001b[0;32melse\u001b[0m\u001b[0;34m:\u001b[0m\u001b[0;34m\u001b[0m\u001b[0m\n",
      "\u001b[0;32m~/programs/git/SpiderRead_arXiv/papers.py\u001b[0m in \u001b[0;36m_find_ads_page\u001b[0;34m(self, ads_id, url)\u001b[0m\n\u001b[1;32m    528\u001b[0m         (self.title, self.authors, self.abstract, self.date, self.std_keywords, \\\n\u001b[1;32m    529\u001b[0m             self.doi, self.arxiv_id, self.ads_pdf_url, _) = \\\n\u001b[0;32m--> 530\u001b[0;31m             \u001b[0mself\u001b[0m\u001b[0;34m.\u001b[0m\u001b[0m_read_ads_page\u001b[0m\u001b[0;34m(\u001b[0m\u001b[0mads_id\u001b[0m\u001b[0;34m,\u001b[0m \u001b[0mself\u001b[0m\u001b[0;34m.\u001b[0m\u001b[0mlink_ads\u001b[0m\u001b[0;34m,\u001b[0m \u001b[0mnap\u001b[0m\u001b[0;34m=\u001b[0m\u001b[0mself\u001b[0m\u001b[0;34m.\u001b[0m\u001b[0mnap_interval\u001b[0m\u001b[0;34m)\u001b[0m\u001b[0;34m\u001b[0m\u001b[0m\n\u001b[0m\u001b[1;32m    531\u001b[0m         \u001b[0;32mreturn\u001b[0m\u001b[0;34m\u001b[0m\u001b[0m\n\u001b[1;32m    532\u001b[0m \u001b[0;34m\u001b[0m\u001b[0m\n",
      "\u001b[0;32m~/programs/git/SpiderRead_arXiv/papers.py\u001b[0m in \u001b[0;36m_read_ads_page\u001b[0;34m(ads_id, url, nap)\u001b[0m\n\u001b[1;32m    554\u001b[0m         std_key_words_list = list(ss.get(\"content\").strip() for ss in \\\n\u001b[1;32m    555\u001b[0m                                   soup.findAll(\"meta\", {\"name\":\"citation_keywords\"}))\n\u001b[0;32m--> 556\u001b[0;31m         \u001b[0mdoi\u001b[0m \u001b[0;34m=\u001b[0m \u001b[0msoup\u001b[0m\u001b[0;34m.\u001b[0m\u001b[0mfind\u001b[0m\u001b[0;34m(\u001b[0m\u001b[0;34m\"meta\"\u001b[0m\u001b[0;34m,\u001b[0m \u001b[0;34m{\u001b[0m\u001b[0;34m\"name\"\u001b[0m\u001b[0;34m:\u001b[0m\u001b[0;34m\"citation_doi\"\u001b[0m\u001b[0;34m}\u001b[0m\u001b[0;34m)\u001b[0m\u001b[0;34m.\u001b[0m\u001b[0mget\u001b[0m\u001b[0;34m(\u001b[0m\u001b[0;34m\"content\"\u001b[0m\u001b[0;34m)\u001b[0m\u001b[0;34m.\u001b[0m\u001b[0mstrip\u001b[0m\u001b[0;34m(\u001b[0m\u001b[0;34m)\u001b[0m\u001b[0;34m\u001b[0m\u001b[0m\n\u001b[0m\u001b[1;32m    557\u001b[0m         \u001b[0mads_pdf_url\u001b[0m \u001b[0;34m=\u001b[0m \u001b[0msoup\u001b[0m\u001b[0;34m.\u001b[0m\u001b[0mfind\u001b[0m\u001b[0;34m(\u001b[0m\u001b[0;34m\"meta\"\u001b[0m\u001b[0;34m,\u001b[0m \u001b[0;34m{\u001b[0m\u001b[0;34m\"name\"\u001b[0m\u001b[0;34m:\u001b[0m\u001b[0;34m\"citation_pdf_url\"\u001b[0m\u001b[0;34m}\u001b[0m\u001b[0;34m)\u001b[0m\u001b[0;34m\u001b[0m\u001b[0m\n\u001b[1;32m    558\u001b[0m         \u001b[0marxiv_id_sp\u001b[0m \u001b[0;34m=\u001b[0m \u001b[0msoup\u001b[0m\u001b[0;34m.\u001b[0m\u001b[0mfind\u001b[0m\u001b[0;34m(\u001b[0m\u001b[0;34m\"a\"\u001b[0m\u001b[0;34m,\u001b[0m \u001b[0mtext\u001b[0m\u001b[0;34m=\u001b[0m\u001b[0mre\u001b[0m\u001b[0;34m.\u001b[0m\u001b[0mcompile\u001b[0m\u001b[0;34m(\u001b[0m\u001b[0;34m\"arXiv*\"\u001b[0m\u001b[0;34m)\u001b[0m\u001b[0;34m)\u001b[0m\u001b[0;34m\u001b[0m\u001b[0m\n",
      "\u001b[0;31mAttributeError\u001b[0m: 'NoneType' object has no attribute 'get'"
     ]
    }
   ],
   "source": [
    "test_lp = ads_get_ref_cit(\"https://ui.adsabs.harvard.edu/abs/1992MNRAS.259..345A/references\")\n",
    "test_lp.summary()"
   ]
  },
  {
   "cell_type": "code",
   "execution_count": 89,
   "metadata": {},
   "outputs": [],
   "source": [
    "driver.quit()"
   ]
  },
  {
   "cell_type": "code",
   "execution_count": 68,
   "metadata": {},
   "outputs": [
    {
     "name": "stderr",
     "output_type": "stream",
     "text": [
      "/Users/gaoyuan/programs/anaconda/envs/web3/lib/python3.6/site-packages/ipykernel_launcher.py:5: DeprecationWarning: use options instead of chrome_options\n",
      "  \"\"\"\n"
     ]
    },
    {
     "name": "stdout",
     "output_type": "stream",
     "text": [
      "500\n"
     ]
    }
   ],
   "source": [
    "url=\"https://ui.adsabs.harvard.edu/abs/2005ApJ...635..931B/citations\"\n",
    "wait_max = 50.\n",
    "options = Options()\n",
    "options.add_argument(f'user-agent='+random.choice(user_agent_list))\n",
    "driver = webdriver.Chrome(chrome_options=options, executable_path=r\"/usr/local/bin/chromedriver\")\n",
    "driver.implicitly_wait(5.)\n",
    "#driver = webdriver.Chrome(executable_path=r\"/usr/local/bin/chromedriver\")\n",
    "driver.get(url)\n",
    "element = WebDriverWait(driver, wait_max).until(\n",
    "    EC.presence_of_element_located((By.CLASS_NAME, 's-results-title'))\n",
    "    )\n",
    "el_per_page = driver.find_element_by_id(\"per-page-select\")\n",
    "el_per_page_500 = el_per_page.find_element_by_xpath(\"//select[@name='per-page-select']/option[text()='500']\")\n",
    "el_per_page_500.click()\n",
    "# wait for loading\n",
    "time.sleep(10.)\n",
    "source_code = driver.page_source\n",
    "soup = BeautifulSoup(source_code)\n",
    "bibcode_list_sp = soup.findAll(\"a\", {\"aria-label\":\"bibcode\"})\n",
    "print(len(bibcode_list_sp))"
   ]
  },
  {
   "cell_type": "code",
   "execution_count": 78,
   "metadata": {},
   "outputs": [],
   "source": [
    "#np_button = driver.find_element_by_class_name(\"page-control next-page\")\n",
    "np_button = driver.find_element(By.XPATH, \"//li/a[@class='page-control next-page']\")"
   ]
  },
  {
   "cell_type": "code",
   "execution_count": 83,
   "metadata": {},
   "outputs": [],
   "source": [
    "#dir(np_button)\n",
    "np_button.is_enabled()\n",
    "np_button.click()"
   ]
  },
  {
   "cell_type": "code",
   "execution_count": 87,
   "metadata": {},
   "outputs": [],
   "source": [
    "from selenium.common.exceptions import WebDriverException"
   ]
  },
  {
   "cell_type": "code",
   "execution_count": 88,
   "metadata": {},
   "outputs": [
    {
     "name": "stdout",
     "output_type": "stream",
     "text": [
      "not clickable\n"
     ]
    }
   ],
   "source": [
    "np_button = driver.find_element(By.XPATH, \"//li/a[@class='page-control next-page']\")\n",
    "np_button.is_enabled()\n",
    "try:\n",
    "    np_button.click()\n",
    "except WebDriverException:\n",
    "    print(\"not clickable\")"
   ]
  },
  {
   "cell_type": "code",
   "execution_count": 72,
   "metadata": {},
   "outputs": [
    {
     "data": {
      "text/plain": [
       "'next '"
      ]
     },
     "execution_count": 72,
     "metadata": {},
     "output_type": "execute_result"
    }
   ],
   "source": [
    "soup.find(\"a\", {\"class\":\"page-control next-page\"}).get_text()"
   ]
  },
  {
   "cell_type": "code",
   "execution_count": 38,
   "metadata": {},
   "outputs": [
    {
     "data": {
      "text/plain": [
       "True"
      ]
     },
     "execution_count": 38,
     "metadata": {},
     "output_type": "execute_result"
    }
   ],
   "source": [
    "(driver.find_element(By.XPATH, \"//select[@name='per-page-select']/option[text()='50']\").is_displayed())"
   ]
  },
  {
   "cell_type": "code",
   "execution_count": 42,
   "metadata": {},
   "outputs": [
    {
     "name": "stdout",
     "output_type": "stream",
     "text": [
      "<selenium.webdriver.support.expected_conditions.visibility_of object at 0x10ffd35f8>\n"
     ]
    }
   ],
   "source": [
    "e = EC.visibility_of(driver.find_element(By.XPATH, \"//select[@name='per-page-select']/option[text()='500']\"))\n",
    "print(e)"
   ]
  },
  {
   "cell_type": "code",
   "execution_count": 9,
   "metadata": {},
   "outputs": [
    {
     "name": "stdout",
     "output_type": "stream",
     "text": [
      "25\n",
      "25\n",
      "1985LNP...232..155A\n"
     ]
    },
    {
     "name": "stderr",
     "output_type": "stream",
     "text": [
      "/Users/gaoyuan/programs/git/SpiderRead_arXiv/papers.py:544: UserWarning: No parser was explicitly specified, so I'm using the best available HTML parser for this system (\"html.parser\"). This usually isn't a problem, but if you run this code on another system, or in a different virtual environment, it may use a different parser and behave differently.\n",
      "\n",
      "The code that caused this warning is on line 544 of the file /Users/gaoyuan/programs/git/SpiderRead_arXiv/papers.py. To get rid of this warning, pass the additional argument 'features=\"html.parser\"' to the BeautifulSoup constructor.\n",
      "\n",
      "  soup = BeautifulSoup(plain_text)\n"
     ]
    },
    {
     "ename": "AttributeError",
     "evalue": "'NoneType' object has no attribute 'get'",
     "output_type": "error",
     "traceback": [
      "\u001b[0;31m---------------------------------------------------------------------------\u001b[0m",
      "\u001b[0;31mAttributeError\u001b[0m                            Traceback (most recent call last)",
      "\u001b[0;32m<ipython-input-9-d5c490729995>\u001b[0m in \u001b[0;36m<module>\u001b[0;34m\u001b[0m\n\u001b[1;32m      4\u001b[0m \u001b[0mprint\u001b[0m\u001b[0;34m(\u001b[0m\u001b[0mlen\u001b[0m\u001b[0;34m(\u001b[0m\u001b[0mbibcode_list_sp\u001b[0m\u001b[0;34m)\u001b[0m\u001b[0;34m)\u001b[0m\u001b[0;34m\u001b[0m\u001b[0m\n\u001b[1;32m      5\u001b[0m \u001b[0mprint\u001b[0m\u001b[0;34m(\u001b[0m\u001b[0mbibcode_list_sp\u001b[0m\u001b[0;34m[\u001b[0m\u001b[0;36m0\u001b[0m\u001b[0;34m]\u001b[0m\u001b[0;34m.\u001b[0m\u001b[0mget_text\u001b[0m\u001b[0;34m(\u001b[0m\u001b[0;34m)\u001b[0m\u001b[0;34m.\u001b[0m\u001b[0mstrip\u001b[0m\u001b[0;34m(\u001b[0m\u001b[0;34m)\u001b[0m\u001b[0;34m)\u001b[0m\u001b[0;34m\u001b[0m\u001b[0m\n\u001b[0;32m----> 6\u001b[0;31m \u001b[0mpaper1\u001b[0m \u001b[0;34m=\u001b[0m \u001b[0mPaperExt\u001b[0m\u001b[0;34m(\u001b[0m\u001b[0mads_id\u001b[0m\u001b[0;34m=\u001b[0m\u001b[0mbibcode_list_sp\u001b[0m\u001b[0;34m[\u001b[0m\u001b[0;36m1\u001b[0m\u001b[0;34m]\u001b[0m\u001b[0;34m.\u001b[0m\u001b[0mget_text\u001b[0m\u001b[0;34m(\u001b[0m\u001b[0;34m)\u001b[0m\u001b[0;34m.\u001b[0m\u001b[0mstrip\u001b[0m\u001b[0;34m(\u001b[0m\u001b[0;34m)\u001b[0m\u001b[0;34m,\u001b[0m \u001b[0mnap\u001b[0m\u001b[0;34m=\u001b[0m\u001b[0;36m10.\u001b[0m\u001b[0;34m)\u001b[0m\u001b[0;34m\u001b[0m\u001b[0m\n\u001b[0m\u001b[1;32m      7\u001b[0m \u001b[0mprint\u001b[0m\u001b[0;34m(\u001b[0m\u001b[0mpaper1\u001b[0m\u001b[0;34m)\u001b[0m\u001b[0;34m\u001b[0m\u001b[0m\n",
      "\u001b[0;32m~/programs/git/SpiderRead_arXiv/papers.py\u001b[0m in \u001b[0;36m__init__\u001b[0;34m(self, ads_id, arxiv_id, url, nap)\u001b[0m\n\u001b[1;32m    504\u001b[0m             \u001b[0mself\u001b[0m\u001b[0;34m.\u001b[0m\u001b[0mlink_ads\u001b[0m \u001b[0;34m=\u001b[0m \u001b[0murl\u001b[0m\u001b[0;34m+\u001b[0m\u001b[0mads_id\u001b[0m\u001b[0;34m\u001b[0m\u001b[0m\n\u001b[1;32m    505\u001b[0m             \u001b[0;34m(\u001b[0m\u001b[0mself\u001b[0m\u001b[0;34m.\u001b[0m\u001b[0mreference_url\u001b[0m\u001b[0;34m,\u001b[0m \u001b[0mself\u001b[0m\u001b[0;34m.\u001b[0m\u001b[0mcitation_url\u001b[0m\u001b[0;34m)\u001b[0m \u001b[0;34m=\u001b[0m \u001b[0mself\u001b[0m\u001b[0;34m.\u001b[0m\u001b[0mget_ref_cit_url\u001b[0m\u001b[0;34m(\u001b[0m\u001b[0mads_id\u001b[0m\u001b[0;34m)\u001b[0m\u001b[0;34m\u001b[0m\u001b[0m\n\u001b[0;32m--> 506\u001b[0;31m             \u001b[0mself\u001b[0m\u001b[0;34m.\u001b[0m\u001b[0m_find_ads_page\u001b[0m\u001b[0;34m(\u001b[0m\u001b[0mads_id\u001b[0m\u001b[0;34m,\u001b[0m \u001b[0mself\u001b[0m\u001b[0;34m.\u001b[0m\u001b[0mlink_ads\u001b[0m\u001b[0;34m)\u001b[0m\u001b[0;34m\u001b[0m\u001b[0m\n\u001b[0m\u001b[1;32m    507\u001b[0m             \u001b[0;31m#print(self.arxiv_id)\u001b[0m\u001b[0;34m\u001b[0m\u001b[0;34m\u001b[0m\u001b[0m\n\u001b[1;32m    508\u001b[0m         \u001b[0;32melse\u001b[0m\u001b[0;34m:\u001b[0m\u001b[0;34m\u001b[0m\u001b[0m\n",
      "\u001b[0;32m~/programs/git/SpiderRead_arXiv/papers.py\u001b[0m in \u001b[0;36m_find_ads_page\u001b[0;34m(self, ads_id, url)\u001b[0m\n\u001b[1;32m    528\u001b[0m         (self.title, self.authors, self.abstract, self.date, self.std_keywords, \\\n\u001b[1;32m    529\u001b[0m             self.doi, self.arxiv_id, self.ads_pdf_url, _) = \\\n\u001b[0;32m--> 530\u001b[0;31m             \u001b[0mself\u001b[0m\u001b[0;34m.\u001b[0m\u001b[0m_read_ads_page\u001b[0m\u001b[0;34m(\u001b[0m\u001b[0mads_id\u001b[0m\u001b[0;34m,\u001b[0m \u001b[0mself\u001b[0m\u001b[0;34m.\u001b[0m\u001b[0mlink_ads\u001b[0m\u001b[0;34m,\u001b[0m \u001b[0mnap\u001b[0m\u001b[0;34m=\u001b[0m\u001b[0mself\u001b[0m\u001b[0;34m.\u001b[0m\u001b[0mnap_interval\u001b[0m\u001b[0;34m)\u001b[0m\u001b[0;34m\u001b[0m\u001b[0m\n\u001b[0m\u001b[1;32m    531\u001b[0m         \u001b[0;32mreturn\u001b[0m\u001b[0;34m\u001b[0m\u001b[0m\n\u001b[1;32m    532\u001b[0m \u001b[0;34m\u001b[0m\u001b[0m\n",
      "\u001b[0;32m~/programs/git/SpiderRead_arXiv/papers.py\u001b[0m in \u001b[0;36m_read_ads_page\u001b[0;34m(ads_id, url, nap)\u001b[0m\n\u001b[1;32m    554\u001b[0m         std_key_words_list = list(ss.get(\"content\").strip() for ss in \\\n\u001b[1;32m    555\u001b[0m                                   soup.findAll(\"meta\", {\"name\":\"citation_keywords\"}))\n\u001b[0;32m--> 556\u001b[0;31m         \u001b[0mdoi\u001b[0m \u001b[0;34m=\u001b[0m \u001b[0msoup\u001b[0m\u001b[0;34m.\u001b[0m\u001b[0mfind\u001b[0m\u001b[0;34m(\u001b[0m\u001b[0;34m\"meta\"\u001b[0m\u001b[0;34m,\u001b[0m \u001b[0;34m{\u001b[0m\u001b[0;34m\"name\"\u001b[0m\u001b[0;34m:\u001b[0m\u001b[0;34m\"citation_doi\"\u001b[0m\u001b[0;34m}\u001b[0m\u001b[0;34m)\u001b[0m\u001b[0;34m.\u001b[0m\u001b[0mget\u001b[0m\u001b[0;34m(\u001b[0m\u001b[0;34m\"content\"\u001b[0m\u001b[0;34m)\u001b[0m\u001b[0;34m.\u001b[0m\u001b[0mstrip\u001b[0m\u001b[0;34m(\u001b[0m\u001b[0;34m)\u001b[0m\u001b[0;34m\u001b[0m\u001b[0m\n\u001b[0m\u001b[1;32m    557\u001b[0m         \u001b[0mads_pdf_url\u001b[0m \u001b[0;34m=\u001b[0m \u001b[0msoup\u001b[0m\u001b[0;34m.\u001b[0m\u001b[0mfind\u001b[0m\u001b[0;34m(\u001b[0m\u001b[0;34m\"meta\"\u001b[0m\u001b[0;34m,\u001b[0m \u001b[0;34m{\u001b[0m\u001b[0;34m\"name\"\u001b[0m\u001b[0;34m:\u001b[0m\u001b[0;34m\"citation_pdf_url\"\u001b[0m\u001b[0;34m}\u001b[0m\u001b[0;34m)\u001b[0m\u001b[0;34m\u001b[0m\u001b[0m\n\u001b[1;32m    558\u001b[0m         \u001b[0marxiv_id_sp\u001b[0m \u001b[0;34m=\u001b[0m \u001b[0msoup\u001b[0m\u001b[0;34m.\u001b[0m\u001b[0mfind\u001b[0m\u001b[0;34m(\u001b[0m\u001b[0;34m\"a\"\u001b[0m\u001b[0;34m,\u001b[0m \u001b[0mtext\u001b[0m\u001b[0;34m=\u001b[0m\u001b[0mre\u001b[0m\u001b[0;34m.\u001b[0m\u001b[0mcompile\u001b[0m\u001b[0;34m(\u001b[0m\u001b[0;34m\"arXiv*\"\u001b[0m\u001b[0;34m)\u001b[0m\u001b[0;34m)\u001b[0m\u001b[0;34m\u001b[0m\u001b[0m\n",
      "\u001b[0;31mAttributeError\u001b[0m: 'NoneType' object has no attribute 'get'"
     ]
    }
   ],
   "source": [
    "title_list_sp = soup.findAll(\"h3\", {\"class\":'s-results-title'})\n",
    "print(len(title_list_sp))\n",
    "bibcode_list_sp = soup.findAll(\"a\", {\"aria-label\":\"bibcode\"})\n",
    "print(len(bibcode_list_sp))\n",
    "print(bibcode_list_sp[0].get_text().strip())\n",
    "#paper1 = PaperExt(ads_id=bibcode_list_sp[1].get_text().strip(), nap=10.)\n",
    "#print(paper1)"
   ]
  },
  {
   "cell_type": "code",
   "execution_count": 11,
   "metadata": {},
   "outputs": [],
   "source": [
    "driver.quit()"
   ]
  },
  {
   "cell_type": "code",
   "execution_count": 13,
   "metadata": {},
   "outputs": [
    {
     "data": {
      "text/plain": [
       "['CLASS_NAME',\n",
       " 'CSS_SELECTOR',\n",
       " 'ID',\n",
       " 'LINK_TEXT',\n",
       " 'NAME',\n",
       " 'PARTIAL_LINK_TEXT',\n",
       " 'TAG_NAME',\n",
       " 'XPATH',\n",
       " '__class__',\n",
       " '__delattr__',\n",
       " '__dict__',\n",
       " '__dir__',\n",
       " '__doc__',\n",
       " '__eq__',\n",
       " '__format__',\n",
       " '__ge__',\n",
       " '__getattribute__',\n",
       " '__gt__',\n",
       " '__hash__',\n",
       " '__init__',\n",
       " '__init_subclass__',\n",
       " '__le__',\n",
       " '__lt__',\n",
       " '__module__',\n",
       " '__ne__',\n",
       " '__new__',\n",
       " '__reduce__',\n",
       " '__reduce_ex__',\n",
       " '__repr__',\n",
       " '__setattr__',\n",
       " '__sizeof__',\n",
       " '__str__',\n",
       " '__subclasshook__',\n",
       " '__weakref__']"
      ]
     },
     "execution_count": 13,
     "metadata": {},
     "output_type": "execute_result"
    }
   ],
   "source": [
    "dir(By)"
   ]
  },
  {
   "cell_type": "code",
   "execution_count": 46,
   "metadata": {},
   "outputs": [],
   "source": [
    "?EC.text_to_be_present_in_element"
   ]
  },
  {
   "cell_type": "code",
   "execution_count": 90,
   "metadata": {},
   "outputs": [],
   "source": [
    "a = [1,2,3]"
   ]
  },
  {
   "cell_type": "code",
   "execution_count": 93,
   "metadata": {},
   "outputs": [],
   "source": [
    "aa = iter(a)"
   ]
  },
  {
   "cell_type": "code",
   "execution_count": 98,
   "metadata": {},
   "outputs": [
    {
     "ename": "StopIteration",
     "evalue": "",
     "output_type": "error",
     "traceback": [
      "\u001b[0;31m---------------------------------------------------------------------------\u001b[0m",
      "\u001b[0;31mStopIteration\u001b[0m                             Traceback (most recent call last)",
      "\u001b[0;32m<ipython-input-98-4e14a8ea1ec1>\u001b[0m in \u001b[0;36m<module>\u001b[0;34m\u001b[0m\n\u001b[0;32m----> 1\u001b[0;31m \u001b[0mnext\u001b[0m\u001b[0;34m(\u001b[0m\u001b[0maa\u001b[0m\u001b[0;34m)\u001b[0m\u001b[0;34m\u001b[0m\u001b[0m\n\u001b[0m",
      "\u001b[0;31mStopIteration\u001b[0m: "
     ]
    }
   ],
   "source": [
    "next(aa)"
   ]
  },
  {
   "cell_type": "code",
   "execution_count": 99,
   "metadata": {},
   "outputs": [
    {
     "name": "stdout",
     "output_type": "stream",
     "text": [
      "Help on method-wrapper object:\n",
      "\n",
      "__iter__ = class method-wrapper(object)\n",
      " |  Methods defined here:\n",
      " |  \n",
      " |  __call__(self, /, *args, **kwargs)\n",
      " |      Call self as a function.\n",
      " |  \n",
      " |  __eq__(self, value, /)\n",
      " |      Return self==value.\n",
      " |  \n",
      " |  __ge__(self, value, /)\n",
      " |      Return self>=value.\n",
      " |  \n",
      " |  __getattribute__(self, name, /)\n",
      " |      Return getattr(self, name).\n",
      " |  \n",
      " |  __gt__(self, value, /)\n",
      " |      Return self>value.\n",
      " |  \n",
      " |  __hash__(self, /)\n",
      " |      Return hash(self).\n",
      " |  \n",
      " |  __le__(self, value, /)\n",
      " |      Return self<=value.\n",
      " |  \n",
      " |  __lt__(self, value, /)\n",
      " |      Return self<value.\n",
      " |  \n",
      " |  __ne__(self, value, /)\n",
      " |      Return self!=value.\n",
      " |  \n",
      " |  __reduce__(...)\n",
      " |      helper for pickle\n",
      " |  \n",
      " |  __repr__(self, /)\n",
      " |      Return repr(self).\n",
      " |  \n",
      " |  ----------------------------------------------------------------------\n",
      " |  Data descriptors defined here:\n",
      " |  \n",
      " |  __objclass__\n",
      " |  \n",
      " |  __self__\n",
      " |  \n",
      " |  __text_signature__\n",
      "\n"
     ]
    }
   ],
   "source": [
    "help(a.__iter__)"
   ]
  },
  {
   "cell_type": "code",
   "execution_count": 102,
   "metadata": {},
   "outputs": [],
   "source": [
    "class ListPapersExt(ListPapers):\n",
    "    pass"
   ]
  },
  {
   "cell_type": "code",
   "execution_count": null,
   "metadata": {},
   "outputs": [],
   "source": [
    "lp = ListPapersExt()"
   ]
  }
 ],
 "metadata": {
  "kernelspec": {
   "display_name": "Python 3",
   "language": "python",
   "name": "python3"
  },
  "language_info": {
   "codemirror_mode": {
    "name": "ipython",
    "version": 3
   },
   "file_extension": ".py",
   "mimetype": "text/x-python",
   "name": "python",
   "nbconvert_exporter": "python",
   "pygments_lexer": "ipython3",
   "version": "3.6.2"
  }
 },
 "nbformat": 4,
 "nbformat_minor": 2
}
