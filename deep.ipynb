{
 "cells": [
  {
   "cell_type": "code",
   "execution_count": 1,
   "metadata": {},
   "outputs": [],
   "source": [
    "from papers import *\n",
    "from ads import *"
   ]
  },
  {
   "cell_type": "code",
   "execution_count": 2,
   "metadata": {},
   "outputs": [
    {
     "name": "stdout",
     "output_type": "stream",
     "text": [
      "ID: arXiv:1502.02668\n",
      "Title: The Metal-enriched Thermal Composite Supernova Remnant Kesteven 41 (G337.8-0.1) in a Molecular Environment\n",
      "Authors: \n",
      "Date: 2015-01-00\n",
      "Abstract: The physical nature of thermal composite supernova remnants (SNRs) remains controversial. We have revisited the archival XMM-Newton and Chandra data of the thermal composite SNR Kesteven 41 (Kes 41 or G337.8-0.1) and performed a millimeter observation toward this source in the <SUP>12</SUP>CO, <SUP>13</SUP>CO, and C<SUP>18</SUP>O lines. The X-ray emission, mainly concentrated toward the southwestern part of the SNR, is characterized by distinct S and Ar He-like lines in the spectra. The X-ray spectra can be fitted with an absorbed nonequilibrium ionization collisional plasma model at a temperature of 1.3-2.6 keV and an ionization timescale of 0.1-1.2 × 10<SUP>12</SUP> cm<SUP>-3</SUP> s. The metal species S and Ar are overabundant, with 1.2-2.7 and 1.3-3.8 solar abundances, respectively, which strongly indicate the presence of a substantial ejecta component in the X-ray-emitting plasma of this SNR. Kes 41 is found to be associated with a giant molecular cloud (MC) at a systemic local standard of rest velocity of -50 km s<SUP>-1</SUP> and confined in a cavity delineated by a northern molecular shell, a western concave MC that features a discernible shell, and an H I cloud seen toward the southeast of the SNR. The birth of the SNR in a preexisting molecular cavity implies a mass of &gt;~ 18 M <SUB>☉</SUB> for the progenitor if it was not in a binary system. Thermal conduction and cloudlet evaporation seem to be feasible mechanisms to interpret the X-ray thermal composite morphology, and the scenario of gas reheating by the shock reflected from the cavity wall is quantitatively consistent with the observations. An updated list of thermal composite SNRs is also presented in this paper.\n",
      "Comments: \n",
      "Link: \n",
      "Subjects: \n",
      "\n"
     ]
    }
   ],
   "source": [
    "my_p = PaperExt(ads_id=\"2015ApJ...799..103Z\")\n",
    "print(my_p)"
   ]
  },
  {
   "cell_type": "code",
   "execution_count": null,
   "metadata": {},
   "outputs": [
    {
     "name": "stdout",
     "output_type": "stream",
     "text": [
      "The number of current page is  14\n",
      "0 The Age Evolution of the Radio Morphology of Supernova Remnants\n",
      "1 Multipole Analysis of Radio Continuum Images of Supernova Remnants: Comparison of Type Ia and Core Collapse\n",
      "2 Nonequilibrium Ionization in Mixed-morphology Supernova Remnants\n",
      "3 Unidentified γ-ray emission towards the SNR Kes 41 revisited\n",
      "4 Natal molecular cloud of SNR Kes 41. Complete characterisation\n",
      "5 A Suzaku X-ray study of the mixed-morphology supernova remnant Kes 69 and searching for its gamma-ray counterpart\n",
      "6 Eigenvalue Method for NEI Unit in FLASH Code\n",
      "7 A revisited study of the unidentified $\\gamma$-ray emission towards the SNR Kes 41\n",
      "8 Asymmetric Type-Ia supernova origin of W49B as revealed from spatially resolved X-ray spectroscopic study\n",
      "9 The gas-to-extinction ratio and the gas distribution in the Galaxy\n",
      "10 CTIO, ROSAT HRI, and Chandra ACIS Observations of the Archetypical Mixed-morphology Supernova Remnant W28 (G6.4-0.1)\n",
      "11 The GeV Gamma-Ray Emission Detected by Fermi-LAT Adjacent to SNR Kesteven 41\n",
      "12 Multi-wavelength Study of the Supernova Remnant Kes 79 (G33.6+0.1): On Its Supernova Properties and Expansion into a Molecular Environment\n",
      "13 GeV γ-ray Emission Detected by Fermi-LAT Probably Associated with the Thermal Composite Supernova Remnant Kesteven 41 in a Molecular Environment\n",
      "Sleep...\n",
      "Awake...\n",
      "The number of current page is  25\n",
      "0 The First Fermi LAT Supernova Remnant Catalog\n",
      "1 Dust Processing in Supernova Remnants: Spitzer MIPS Spectral Energy Distribution and Infrared Spectrograph Observations\n",
      "2 Fermi-LAT Observations of Supernova Remnants Kesteven 79\n",
      "3 Multi-wavelength Analysis of the Galactic Supernova Remnant MSH 11-61A\n",
      "4 The Fine-scale Structure of the Neutral Interstellar Medium in Nearby Galaxies\n",
      "5 Discovery of X-Ray Emission from the Galactic Supernova Remnant G32.8-0.1 with Suzaku\n",
      "6 New identification of the mixed-morphology supernova remnant G298.6-0.0 with possible gamma-ray association\n",
      "7 A Diffuse X-Ray Source, AX J1843.8-0352: Association with the Radio Complex G28.6-0.1 and Identification of a New Supernova Remnant\n",
      "8 The theory of synchrotron emission from supernova remnants\n",
      "9 Properties of supernova remnants at known distances. I. Surface brightness and radio spectral index.\n",
      "10 The HI/OH/Recombination line survey of the inner Milky Way (THOR). Survey overview and data release 1\n",
      "11 Transition to the Radiative Phase in Supernova Remnants\n",
      "12 The many sides of RCW 86: a Type Ia supernova remnant evolving in its progenitor's wind bubble\n",
      "13 Quantifying the Morphologies and Dynamical Evolution of Galaxy Clusters. I. The Method\n",
      "14 Quantifying the Morphologies and Dynamical Evolution of Galaxy Clusters. II. Application to a Sample of ROSAT Clusters\n",
      "15 An XMM-Newton Study of the Bright, Nearby Supernova Remnant G296.1-0.5\n",
      "16 Fermi Large Area Telescope Observations of Supernova Remnants Interacting with Molecular Clouds\n",
      "17 Fermi-LAT Observations of Supernova Remnants Interacting with Molecular Clouds: W41, MSH 17-39, and G337.7-0.1\n",
      "18 G308.8-0.1: an Unusual Supernova Remnant Containing a Short-Period Pulsar, PSR J1341-6220\n",
      "19 Neutral hydrogen absorption measurements yielding kinematic distances for 42 continuum sources in the galactic plan.\n",
      "20 The Thermal Composite Supernova Remnant Kesteven 27 as Viewed by Chandra: Shock Reflection from a Cavity Wall\n",
      "21 A Chandra ACIS View of the Thermal Composite Supernova Remnant 3C 391\n",
      "22 Are young supernova remnants interacting with circumstellar gas\n",
      "23 Self-similar solutions for the interaction of stellar ejecta with an external medium.\n",
      "24 A Universal Luminosity Function for Radio Supernova Remnants\n",
      "Page read  1\n",
      "The number of current page is  25\n",
      "25 Dynamics of Radiative Supernova Remnants\n",
      "26 Polarization Observations of 1720 MHz OH Masers toward the Three Supernova Remnants W28, W44, and IC 443\n",
      "27 Radio-Continuum Emission from the Young Galactic Supernova Remnant G1.9+0.3\n",
      "28 Radio Emission from the Composite Supernova Remnant G326.3-1.8 (MSH 15-56)\n",
      "29 The radio nebula surrounding the Vela pulsar\n",
      "30 A search for the radio counterpart of the unidentified γ-ray source 3EG J1410-6147\n",
      "31 The molecular clouds in the environs of the supernova remnants G349.7+0.2 and G18.8+0.3\n",
      "32 Radio emission from supernova remnants\n",
      "33 A multi-wavelength study of the unidentified TeV gamma-ray source HESS J1626-490\n",
      "34 A Fractal Origin for the Mass Spectrum of Interstellar Clouds\n",
      "35 The interstellar environment of our galaxy\n",
      "36 A Radio-Continuum Study of the Supernova Remnant MSH 11-61A\n",
      "37 The Galactic plane region near ℓ = 93°. III. Multi-wavelength emission from SNR 3C 434.1\n",
      "38 Revealing the Galactic H II Region G84.9+0.5 through 5 GHz Continuum and Polarization Emission and a Voigt Profile Analysis of Radio Recombination Line Observations\n",
      "39 A Survey for OH (1720 MHz) Maser Emission Toward Supernova Remnants\n",
      "40 Evidence of a Hadronic Origin for the TeV Source J1834-087\n",
      "41 Chandra Observations of SNR RCW 103\n",
      "42 Extended H<SUB>2</SUB> emission line sources from UWISH2\n",
      "43 Radio continuum and HI observations of the supernova remnant G296.8-00.3\n",
      "44 The Nature of Bilateral Supernova Remnants\n",
      "45 A new study of the supernova remnant G344.7-0.1 located in the vicinity of the unidentified TeV source HESS J1702-420\n",
      "46 Radio and X-ray study of two multi-shell supernova remnants: Kes 79 and G352.7-0.1\n",
      "47 Continuation of a survey of OH (1720 MHz) Maser Emission Towards Supernova Remnants\n",
      "48 Statistical studies of supernova remnants.\n",
      "49 Two Magnetar Candidates in HESS Supernova Remnants\n",
      "Page read  2\n",
      "The number of current page is  25\n",
      "50 An X-Ray Image of the Composite Supernova Remnant SNR G16.7+0.1\n",
      "51 MAGPIS: A Multi-Array Galactic Plane Imaging Survey\n",
      "52 A Survey of Hydroxyl toward Supernova Remnants: Evidence for Extended 1720 MHz Maser Emission\n",
      "53 Spitzer Observations of Molecular Hydrogen in Interacting Supernova Remnants\n",
      "54 Comparing Neutron Star Kicks to Supernova Remnant Asymmetries\n",
      "55 A Detailed X-Ray Investigation of PSR J2021+4026 and the γ-Cygni Supernova Remnant\n",
      "56 Exploring the X-ray emission properties of the supernova remnant G67.7+1.8 and its central X-ray sources\n",
      "57 XMM-Newton, Chandra, and CGPS observations of the Supernova Remnants G85.4+0.7 and G85.9-0.6\n",
      "58 The Evolution of Structure in X-Ray Clusters of Galaxies\n",
      "59 CO J = 1-0 and J = 2-1 Line Observations of the Molecular-cloud-blocked Supernova Remnant 3C434.1\n",
      "60 Discovery of the Young, Energetic Radio Pulsar PSR J1105-6107\n",
      "61 A Search for Radio Pulsars in Southern Supernova Remnants\n",
      "62 Ionization States and Plasma Structures of Mixed-Morphology Supernova Remnants Observed with ASCA\n",
      "63 A Systematic Survey for Broadened CO Emission toward Galactic Supernova Remnants\n",
      "64 Momentum Injection by Supernovae in the Interstellar Medium\n",
      "65 Interaction between the W51C Supernova Remnant and a Molecular Cloud. II. Discovery of Shocked CO and HCO<SUP>+</SUP>\n",
      "66 ROSAT Observations of the Supernova Remnant W51C\n",
      "67 Shock-excited Maser Emission from Supernova Remnants: G32.8-0.1, G337.8-0.1, G346.6-0.2, and the HB 3/W3 Complex\n",
      "68 The distance and neutral environment of the massive stellar cluster Westerlund 1\n",
      "69 A catalogue of Galactic supernova remnants from the Canadian Galactic plane survey. I. Flux densities, spectra, and polarization characteristics\n",
      "70 A Thorough Investigation of the Distance to the Supernova Remnant CTB109 and Its Pulsar AXP J2301+5852\n",
      "71 The Supernova Remnant G106.3+2.7 and Its Pulsar-Wind Nebula: Relics of Triggered Star Formation in a Complex Environment\n",
      "72 Tycho Brahe's 1572 supernova as a standard typeIa as revealed by its light-echo spectrum\n",
      "73 An association between a long-period pulsar and an old supernova remnant\n",
      "74 Chandra and XMM-Newton Study of the Supernova Remnant Kes 73 Hosting the Magnetar 1E 1841-045\n",
      "Page read  3\n",
      "The number of current page is  25\n",
      "75 The interaction of the supernova remnant VRO 42.05.01 with its HI environment.\n",
      "504 Server Error: Gateway Time-out for url: https://ui.adsabs.harvard.edu/abs/2006ApJ...647..350L/exportcitation\n",
      "76 Enhanced Abundances in Three Large-Diameter Mixed-Morphology Supernova Remnants\n",
      "77 Radio observations and spectrum of the SNR G127.1+0.5 and its central source 0125+628\n",
      "78 Radio observations of CTB80: detection of the snowplough in an old supernova remnant\n"
     ]
    },
    {
     "name": "stdout",
     "output_type": "stream",
     "text": [
      "79 Radio spectrum and distance of the SNR HB9\n",
      "80 X-ray and radio observations of the γ Cygni supernova remnant G78.2+2.1\n",
      "81 The Distances of SNR W41 and Overlapping H II Regions\n",
      "82 Distance and evolutionary state of the supernova remnant G18.1-0.1\n",
      "83 Discovery of X-Ray Emission from and Distance to the Supernova Remnant G84.2-0.8\n",
      "84 X-Ray Spectroscopy of PSR B1951+32 and Its Pulsar Wind Nebula\n",
      "85 A new optical supernova remnant in Crux.\n",
      "HTTPSConnectionPool(host='ui.adsabs.harvard.edu', port=443): Max retries exceeded with url: /abs/2009ApJ...691..875L/exportcitation (Caused by NewConnectionError('<urllib3.connection.VerifiedHTTPSConnection object at 0x117073eb8>: Failed to establish a new connection: [Errno 8] nodename nor servname provided, or not known',))\n",
      "86 Tools for Dissecting Supernova Remnants Observed with Chandra: Methods and Application to the Galactic Remnant W49B\n",
      "87 Typing Supernova Remnants Using X-Ray Line Emission Morphologies\n",
      "88 Using the X-ray Morphology of Young Supernova Remnants to Constrain Explosion Type, Ejecta Distribution, and Chemical Mixing\n",
      "89 The Morphologies and Kinematics of Supernova Remnants\n",
      "90 Optical emission of the supernova remnant G73.9+0.9\n",
      "91 Supernova feedback in an inhomogeneous interstellar medium\n",
      "92 The Southern Galactic Plane Survey: The Test Region\n",
      "93 Radio emission from 16 possible supernova remnants\n",
      "94 On the origin of asymmetries in bilateral supernova remnants\n",
      "95 Nonthermal X-Rays from Supernova Remnant G330.2+1.0 and the Characteristics of its Central Compact Object\n",
      "96 An Atomic and Molecular Study of the Interstellar Medium Around the Supernova Remnant RCW 103\n",
      "97 Constraining Explosion Type of Young Supernova Remnants Using 24 μm Emission Morphology\n",
      "98 The Parkes Survey of 21-CENTIMETER Absorption in Discrete-Source Spectra. III. 21- Centimeter Absorption Measurements on 41 Galactic Sources North of Declination -48 degrees\n",
      "99 Can Ejecta-dominated Supernova Remnants be Typed from Their X-Ray Spectra? The Case of G337.2-0.7\n",
      "Page read  4\n",
      "The number of current page is  25\n",
      "100 Can Ejecta-dominated Supernova Remnants be Typed from Their X-Ray Spectra? The Case of G337.2-0.7\n",
      "101 Distances to supernova remnants G20.4 + 0.1, G24.7 - 0.6, and G28.6 - 0.1 and new molecular cloud associations\n",
      "102 Revised Distances to 21 Supernova Remnants\n",
      "103 Distances to Supernova Remnants G31.9+0.0 and G54.4-0.3 Associated with Molecular Clouds\n",
      "104 Molecular and Ionic Shocks in the Supernova Remnant 3C 391\n"
     ]
    }
   ],
   "source": [
    "lp_ads = ListPapersExt()\n",
    "t0 = time.time()\n",
    "#lp_deep = lp_ads.dig_deep(my_p, nap=pl_nap(time.time()-t0, 5.), deep=2, only='citation')\n",
    "lp_deep = lp_ads.dig_deep(my_p, nap=10., deep=2, only='citation')"
   ]
  },
  {
   "cell_type": "code",
   "execution_count": null,
   "metadata": {},
   "outputs": [],
   "source": [
    "with open(\"deep_tmp.pkl\", \"wb\") as f:\n",
    "    pck.dump(lp_deep, f)"
   ]
  },
  {
   "cell_type": "code",
   "execution_count": null,
   "metadata": {},
   "outputs": [],
   "source": [
    "lp_deep.summary()"
   ]
  },
  {
   "cell_type": "code",
   "execution_count": null,
   "metadata": {},
   "outputs": [],
   "source": [
    "for a in []:\n",
    "    print(\"some\")"
   ]
  },
  {
   "cell_type": "code",
   "execution_count": null,
   "metadata": {},
   "outputs": [],
   "source": []
  }
 ],
 "metadata": {
  "kernelspec": {
   "display_name": "Python 3",
   "language": "python",
   "name": "python3"
  },
  "language_info": {
   "codemirror_mode": {
    "name": "ipython",
    "version": 3
   },
   "file_extension": ".py",
   "mimetype": "text/x-python",
   "name": "python",
   "nbconvert_exporter": "python",
   "pygments_lexer": "ipython3",
   "version": "3.6.2"
  }
 },
 "nbformat": 4,
 "nbformat_minor": 2
}
