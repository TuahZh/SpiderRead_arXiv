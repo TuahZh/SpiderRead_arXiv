{
 "cells": [
  {
   "cell_type": "code",
   "execution_count": 1,
   "metadata": {},
   "outputs": [],
   "source": [
    "from papers import *\n",
    "from ads import *"
   ]
  },
  {
   "cell_type": "code",
   "execution_count": 2,
   "metadata": {},
   "outputs": [
    {
     "name": "stdout",
     "output_type": "stream",
     "text": [
      "ID: arXiv:1502.02668\n",
      "Title: The Metal-enriched Thermal Composite Supernova Remnant Kesteven 41 (G337.8-0.1) in a Molecular Environment\n",
      "Authors: \n",
      "Date: 2015-01-00\n",
      "Abstract: The physical nature of thermal composite supernova remnants (SNRs) remains controversial. We have revisited the archival XMM-Newton and Chandra data of the thermal composite SNR Kesteven 41 (Kes 41 or G337.8-0.1) and performed a millimeter observation toward this source in the <SUP>12</SUP>CO, <SUP>13</SUP>CO, and C<SUP>18</SUP>O lines. The X-ray emission, mainly concentrated toward the southwestern part of the SNR, is characterized by distinct S and Ar He-like lines in the spectra. The X-ray spectra can be fitted with an absorbed nonequilibrium ionization collisional plasma model at a temperature of 1.3-2.6 keV and an ionization timescale of 0.1-1.2 × 10<SUP>12</SUP> cm<SUP>-3</SUP> s. The metal species S and Ar are overabundant, with 1.2-2.7 and 1.3-3.8 solar abundances, respectively, which strongly indicate the presence of a substantial ejecta component in the X-ray-emitting plasma of this SNR. Kes 41 is found to be associated with a giant molecular cloud (MC) at a systemic local standard of rest velocity of -50 km s<SUP>-1</SUP> and confined in a cavity delineated by a northern molecular shell, a western concave MC that features a discernible shell, and an H I cloud seen toward the southeast of the SNR. The birth of the SNR in a preexisting molecular cavity implies a mass of &gt;~ 18 M <SUB>☉</SUB> for the progenitor if it was not in a binary system. Thermal conduction and cloudlet evaporation seem to be feasible mechanisms to interpret the X-ray thermal composite morphology, and the scenario of gas reheating by the shock reflected from the cavity wall is quantitatively consistent with the observations. An updated list of thermal composite SNRs is also presented in this paper.\n",
      "Comments: \n",
      "Link: \n",
      "Subjects: \n",
      "\n"
     ]
    }
   ],
   "source": [
    "my_p = PaperExt(ads_id=\"2015ApJ...799..103Z\")\n",
    "print(my_p)"
   ]
  },
  {
   "cell_type": "code",
   "execution_count": null,
   "metadata": {},
   "outputs": [
    {
     "name": "stdout",
     "output_type": "stream",
     "text": [
      "The number of current page is  14\n",
      "0 Multipole Analysis of Radio Continuum Images of Supernova Remnants: Comparison of Type Ia and Core Collapse\n",
      "1 Nonequilibrium Ionization in Mixed-morphology Supernova Remnants\n",
      "2 A Suzaku X-ray study of the mixed-morphology supernova remnant Kes 69 and searching for its gamma-ray counterpart\n",
      "3 Unidentified γ-ray emission towards the SNR Kes 41 revisited\n",
      "4 Natal molecular cloud of SNR Kes 41. Complete characterisation\n",
      "5 Eigenvalue Method for NEI Unit in FLASH Code\n",
      "6 A revisited study of the unidentified $\\gamma$-ray emission towards the SNR Kes 41\n",
      "7 The Age Evolution of the Radio Morphology of Supernova Remnants\n",
      "8 Asymmetric Type-Ia supernova origin of W49B as revealed from spatially resolved X-ray spectroscopic study\n",
      "9 The gas-to-extinction ratio and the gas distribution in the Galaxy\n",
      "10 CTIO, ROSAT HRI, and Chandra ACIS Observations of the Archetypical Mixed-morphology Supernova Remnant W28 (G6.4-0.1)\n",
      "11 The GeV Gamma-Ray Emission Detected by Fermi-LAT Adjacent to SNR Kesteven 41\n",
      "12 Multi-wavelength Study of the Supernova Remnant Kes 79 (G33.6+0.1): On Its Supernova Properties and Expansion into a Molecular Environment\n",
      "13 GeV γ-ray Emission Detected by Fermi-LAT Probably Associated with the Thermal Composite Supernova Remnant Kesteven 41 in a Molecular Environment\n",
      "Sleep...\n",
      "Awake...\n",
      "The number of current page is  25\n",
      "0 Quantifying the Morphologies and Dynamical Evolution of Galaxy Clusters. I. The Method\n",
      "1 Expansion of the Supernova Remnant RCW 103\n",
      "2 Young Core-Collapse Supernova Remnants and Their Supernovae\n",
      "3 Discovery of thermal X-ray emission in the supernova remnant G337.8-0.1 (Kes 41)\n",
      "4 The Canadian Galactic Plane Survey\n",
      "5 A census of high-energy observations of Galactic supernova remnants\n",
      "6 Chandra Observations of SNR RCW 103\n",
      "7 Radio and X-ray study of two multi-shell supernova remnants: Kes 79 and G352.7-0.1\n",
      "8 VizieR Online Data Catalog: A Catalogue of Galactic Supernova Remnants (Green 2017)\n"
     ]
    }
   ],
   "source": [
    "lp_ads = ListPapersExt()\n",
    "t0 = time.time()\n",
    "lp_deep = lp_ads.dig_deep(my_p, nap=pl_nap(time.time()-t0, 5.), deep=2, only='citation')"
   ]
  },
  {
   "cell_type": "code",
   "execution_count": null,
   "metadata": {},
   "outputs": [],
   "source": [
    "with open(\"deep_tmp.pkl\", \"wb\") as f:\n",
    "    pck.dump(lp_deep, f)"
   ]
  },
  {
   "cell_type": "code",
   "execution_count": null,
   "metadata": {},
   "outputs": [],
   "source": [
    "lp_deep.summary()"
   ]
  },
  {
   "cell_type": "code",
   "execution_count": null,
   "metadata": {},
   "outputs": [],
   "source": [
    "for a in []:\n",
    "    print(\"some\")"
   ]
  },
  {
   "cell_type": "code",
   "execution_count": null,
   "metadata": {},
   "outputs": [],
   "source": []
  }
 ],
 "metadata": {
  "kernelspec": {
   "display_name": "Python 3",
   "language": "python",
   "name": "python3"
  },
  "language_info": {
   "codemirror_mode": {
    "name": "ipython",
    "version": 3
   },
   "file_extension": ".py",
   "mimetype": "text/x-python",
   "name": "python",
   "nbconvert_exporter": "python",
   "pygments_lexer": "ipython3",
   "version": "3.6.2"
  }
 },
 "nbformat": 4,
 "nbformat_minor": 2
}
