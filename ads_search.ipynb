{
 "cells": [
  {
   "cell_type": "code",
   "execution_count": 1,
   "metadata": {},
   "outputs": [],
   "source": [
    "from papers import *\n",
    "from ads import *\n",
    "# imports\n"
   ]
  },
  {
   "cell_type": "code",
   "execution_count": 2,
   "metadata": {},
   "outputs": [],
   "source": [
    "my_p = PaperExt(ads_id=\"2015ApJ...799..103Z\")"
   ]
  },
  {
   "cell_type": "code",
   "execution_count": 4,
   "metadata": {},
   "outputs": [
    {
     "name": "stdout",
     "output_type": "stream",
     "text": [
      "@ARTICLE{2015ApJ...799..103Z,\n",
      "       author = {{Zhang}, Gao-Yuan and {Chen}, Yang and {Su}, Yang and {Zhou}, Xin and\n",
      "         {Pannuti}, Thomas G. and {Zhou}, Ping},\n",
      "        title = \"{The Metal-enriched Thermal Composite Supernova Remnant Kesteven 41 (G337.8-0.1) in a Molecular Environment}\",\n",
      "      journal = {\\apj},\n",
      "     keywords = {ISM: individual objects: G337.8─0.1 \\&amp;equals Kesteven 41, ISM: molecules, ISM: supernova remnants, Astrophysics - High Energy Astrophysical Phenomena},\n",
      "         year = \"2015\",\n",
      "        month = \"Jan\",\n",
      "       volume = {799},\n",
      "       number = {1},\n",
      "          eid = {103},\n",
      "        pages = {103},\n",
      "          doi = {10.1088/0004-637X/799/1/103},\n",
      "archivePrefix = {arXiv},\n",
      "       eprint = {1502.02668},\n",
      " primaryClass = {astro-ph.HE},\n",
      "       adsurl = {https://ui.adsabs.harvard.edu/abs/2015ApJ...799..103Z},\n",
      "      adsnote = {Provided by the SAO/NASA Astrophysics Data System}\n",
      "}\n"
     ]
    }
   ],
   "source": [
    "print(my_p.bib_text)"
   ]
  },
  {
   "cell_type": "code",
   "execution_count": 5,
   "metadata": {},
   "outputs": [
    {
     "name": "stdout",
     "output_type": "stream",
     "text": [
      "The number of current page is  14\n",
      "0 Multipole Analysis of Radio Continuum Images of Supernova Remnants: Comparison of Type Ia and Core Collapse\n",
      "1 Nonequilibrium Ionization in Mixed-morphology Supernova Remnants\n",
      "2 A Suzaku X-ray study of the mixed-morphology supernova remnant Kes 69 and searching for its gamma-ray counterpart\n",
      "3 Unidentified γ-ray emission towards the SNR Kes 41 revisited\n",
      "4 Natal molecular cloud of SNR Kes 41. Complete characterisation\n",
      "5 Eigenvalue Method for NEI Unit in FLASH Code\n",
      "6 The Age Evolution of the Radio Morphology of Supernova Remnants\n",
      "7 A revisited study of the unidentified $\\gamma$-ray emission towards the SNR Kes 41\n",
      "8 Asymmetric Type-Ia supernova origin of W49B as revealed from spatially resolved X-ray spectroscopic study\n",
      "9 The gas-to-extinction ratio and the gas distribution in the Galaxy\n",
      "10 CTIO, ROSAT HRI, and Chandra ACIS Observations of the Archetypical Mixed-morphology Supernova Remnant W28 (G6.4-0.1)\n",
      "11 The GeV Gamma-Ray Emission Detected by Fermi-LAT Adjacent to SNR Kesteven 41\n",
      "12 Multi-wavelength Study of the Supernova Remnant Kes 79 (G33.6+0.1): On Its Supernova Properties and Expansion into a Molecular Environment\n",
      "13 GeV γ-ray Emission Detected by Fermi-LAT Probably Associated with the Thermal Composite Supernova Remnant Kesteven 41 in a Molecular Environment\n",
      "Sleep...\n",
      "Awake...\n",
      "Number of papers: 14\n",
      "Subjects: \n",
      "['']\n",
      "Key words: \n",
      "\n",
      "Exclude key words: \n",
      "Total scores:\n",
      "\n"
     ]
    }
   ],
   "source": [
    "test_lp = ads_get_ref_cit(\"https://ui.adsabs.harvard.edu/abs/2015ApJ...799..103Z/citations\")\n",
    "test_lp.summary()"
   ]
  },
  {
   "cell_type": "code",
   "execution_count": 6,
   "metadata": {},
   "outputs": [],
   "source": [
    "with open(\"tmp_list.pkl\", \"wb\") as f:\n",
    "    pck.dump(test_lp, f)"
   ]
  },
  {
   "cell_type": "code",
   "execution_count": 8,
   "metadata": {},
   "outputs": [
    {
     "name": "stdout",
     "output_type": "stream",
     "text": [
      "@ARTICLE{2019arXiv190911803R,\n",
      "       author = {{Ranasinghe}, Sujith and {Leahy}, Denis},\n",
      "        title = \"{Multipole Analysis of Radio Continuum Images of Supernova Remnants: Comparison of Type Ia and Core Collapse}\",\n",
      "      journal = {arXiv e-prints},\n",
      "     keywords = {Astrophysics - High Energy Astrophysical Phenomena},\n",
      "         year = \"2019\",\n",
      "        month = \"Sep\",\n",
      "          eid = {arXiv:1909.11803},\n",
      "        pages = {arXiv:1909.11803},\n",
      "archivePrefix = {arXiv},\n",
      "       eprint = {1909.11803},\n",
      " primaryClass = {astro-ph.HE},\n",
      "       adsurl = {https://ui.adsabs.harvard.edu/abs/2019arXiv190911803R},\n",
      "      adsnote = {Provided by the SAO/NASA Astrophysics Data System}\n",
      "}\n"
     ]
    }
   ],
   "source": [
    "print(test_lp.list_paper[0].bib_text)"
   ]
  },
  {
   "cell_type": "code",
   "execution_count": 26,
   "metadata": {},
   "outputs": [],
   "source": [
    "driver_exec_path = r\"/usr/local/bin/chromedriver\"\n",
    "\n",
    "class ListPapersExt(ListPapers):\n",
    "    \"\"\"Extend the ListPapers to ADS fields\"\"\"\n",
    "    def __init__(self, *args, **kwargs):\n",
    "        if(type(args[0]) is ListPapers):\n",
    "            attr_dict = args[0].__dict__\n",
    "            for kk in attr_dict:\n",
    "                setattr(self, kk, attr_dict[kk])\n",
    "        else:\n",
    "            super().__init__(*args, **kwargs)\n",
    "            \n",
    "    def filter_std_key_words(self, std_kw, exclude=False):\n",
    "        \"\"\"Make a new ListPaperExt object with the keywords in std_kw_list.\n",
    "        Or exclude them. \n",
    "        std_kw:   accept list of str\n",
    "                  or str\n",
    "        \"\"\"\n",
    "        if (type(std_kw) is str):\n",
    "            std_kw = [std_kw]\n",
    "        if (not exclude):\n",
    "            new_list = list([pp for pp in self.list_paper if self._std_kw_contain(pp, std_kw)])\n",
    "        else:\n",
    "            new_list = list([pp for pp in self.list_paper if not self._std_kw_contain(pp, std_kw)])\n",
    "        try:\n",
    "            return ListPapersExt(new_list, key_words=self.key_words, exclude_key_words=self.exclude_key_words, boost=self._boost)\n",
    "        except:\n",
    "            try:\n",
    "                return ListPapersExt(new_list, key_words=self.key_words, boost=self._boost)\n",
    "            except AttributeError:\n",
    "                return ListPapersExt(new_list)\n",
    "        raise\n",
    "        \n",
    "    def _std_kw_contain(self, pp, kw):\n",
    "        \"\"\"Return True if a paper pp contains any of kw as std_keywords.\"\"\"\n",
    "        # kw is a list\n",
    "        for kk in kw:\n",
    "            if (kk in pp.std_keywords):\n",
    "                return True\n",
    "        return False\n",
    "    \n",
    "    def all_std_keywords(self):\n",
    "        \"\"\"Show all the std key words from ADS\"\"\"\n",
    "        try:\n",
    "            self.std_kw_list\n",
    "        except AttributeError:\n",
    "            self.std_kw_list = []\n",
    "        for pp in self.list_paper:\n",
    "            #std_kw = [cc.strip() for cc in pp.std_keywords]\n",
    "            for ss in pp.std_keywords:\n",
    "                if (ss not in self.std_kw_list):\n",
    "                    self.std_kw_list.append(ss)\n",
    "        return self.std_kw_list\n",
    "            \n",
    "    def summary(self):\n",
    "        \"\"\"Change the way it summarizes.\"\"\"\n",
    "        super().summary()\n",
    "        print(\"Common keywords: \")\n",
    "        print(self.all_std_keywords())\n",
    "        \n",
    "    @staticmethod\n",
    "    def ext_ads_get_ref_cit(url, nap=5.):\n",
    "        \"\"\"Get the reference list or citation list from ADS.\"\"\"\n",
    "        wait_for_response = 10. #sec\n",
    "        try:\n",
    "            t0 = time.time()\n",
    "            options = Options()\n",
    "            options.add_argument(f'user-agent='+random.choice(user_agent_list))\n",
    "            driver = webdriver.Chrome(chrome_options=options, executable_path=driver_exec_path)\n",
    "            #driver = webdriver.Chrome(executable_path=r\"/usr/local/bin/chromedriver\")\n",
    "            driver.get(url)\n",
    "            element = WebDriverWait(driver, 50).until(\n",
    "                EC.presence_of_element_located((By.CLASS_NAME, 's-results-title'))\n",
    "                )\n",
    "            #el_per_page = driver.find_element_by_id(\"per-page-select\")\n",
    "            #el_per_page_500 = el_per_page.find_element_by_xpath(\"//select[@name='per-page-select']/option[text()='500']\")\n",
    "            #el_per_page_500.click()\n",
    "            ## Wait for respond\n",
    "            #time.sleep(wait_for_response)\n",
    "            source_code = driver.page_source\n",
    "            soup = BeautifulSoup(source_code, \"html.parser\")\n",
    "\n",
    "            bibcode_list_sp = soup.findAll(\"a\", {\"aria-label\":\"bibcode\"})\n",
    "            # Maximum is 500\n",
    "            page_loop = False\n",
    "            if (len(bibcode_list_sp) >= 25):\n",
    "                #print(\"Warning: this page has at least 500 papers, which means the list could be larger than that.\")\n",
    "                page_loop = True\n",
    "\n",
    "            print(\"The number of current page is \", len(bibcode_list_sp))\n",
    "\n",
    "            paper_list = []\n",
    "            count = 0\n",
    "            for bb in bibcode_list_sp:\n",
    "                tt = time.time()\n",
    "                paper1 = PaperExt(ads_id=bb.get_text().strip(), nap=pl_nap(tt-t0, nap))\n",
    "                paper_list.append(paper1)\n",
    "                print(count, paper1.title)\n",
    "                count += 1\n",
    "\n",
    "            count_page = 0\n",
    "            while(page_loop):\n",
    "                count_page += 1\n",
    "                print(\"Page read \", count_page)\n",
    "                np_button = driver.find_element(By.XPATH, \"//li/a[@class='page-control next-page']\")\n",
    "                try:\n",
    "                    np_button.click()\n",
    "                except WebDriverException:\n",
    "                    break\n",
    "                time.sleep(wait_for_response)\n",
    "                source_code = driver.page_source\n",
    "                soup = BeautifulSoup(source_code, \"html.parser\")\n",
    "                bibcode_list_sp = soup.findAll(\"a\", {\"aria-label\":\"bibcode\"})\n",
    "                print(\"The number of current page is \", len(bibcode_list_sp))\n",
    "                for bb in bibcode_list_sp:\n",
    "                    tt = time.time()\n",
    "                    paper1 = PaperExt(ads_id=bb.get_text().strip(), nap=pl_nap(tt-t0, nap))\n",
    "                    paper_list.append(paper1)\n",
    "                    print(count, paper1.title)\n",
    "                    count += 1\n",
    "                if (count_page>400):\n",
    "                    print(\"Warning: Pages exceed 400. Citation is over 10000. I quit.\")\n",
    "                    break\n",
    "        except:\n",
    "            raise\n",
    "        finally:\n",
    "            driver.quit()\n",
    "\n",
    "        print(\"Sleep...\")\n",
    "        time.sleep(random.random()*nap)\n",
    "        print(\"Awake...\")\n",
    "        return ListPapersExt(paper_list)\n",
    "    \n",
    "    def export_bib(self, file_name=\"cite.bib\", change_index=False):\n",
    "        \"\"\"Based on PaperExt\"\"\"\n",
    "        with open(file_name, \"w\") as f:\n",
    "            f.write(\"%% This file is created by 'export_bib' function in ListPapersExt module.\\n\\n\")\n",
    "            for pp in self.list_paper:\n",
    "                if(type(pp) is not PaperExt):\n",
    "                    print(\"Warning: paper may not contain any citation text.\")\n",
    "                    continue\n",
    "                if(pp.bib_text==\"\"):\n",
    "                    print(\"Warning: no bib information available.\")\n",
    "                f.write(pp.bib_text)\n",
    "                f.write(\"\\n\\n\")\n",
    "        return\n",
    "    \n",
    "    @staticmethod\n",
    "    def _change_index(*args, to_format=\"author+year\"):\n",
    "        \"\"\"Index change to other format.\n",
    "        Args[0] is the text, args[1] is bibcode, args[2] is authors, args[3] is year\"\"\"\n",
    "        if(to_format==\"arxiv\"):\n",
    "            pass\n",
    "        else:\n",
    "            pass\n",
    "        \n",
    "    def __add__(self, other_list):\n",
    "        \"\"\"Enable add.\"\"\"\n",
    "        return ListPapersExt(self.list_paper+other_list.list_paper)\n",
    "\n",
    "    @staticmethod\n",
    "    def dig_deep(pp, nap=5., deep=2, only=False):\n",
    "        \"\"\"Loop the search for referencs and citations\"\"\"\n",
    "        if (pp is not PaperExt):\n",
    "            raise TypeError(\"Paper need to be PaperExt!\")\n",
    "            \n",
    "        if (only==\"reference\"):\n",
    "            return ListPapersExt.ext_ext_ads_get_ref_cit(pp.referenc_url, nap=nap)\n",
    "        elif (only==\"citation\"):\n",
    "            return ListPapersExt.ext_ext_ads_get_ref_cit(pp.referenc_url, nap=nap)\n",
    "        else:\n",
    "            pass"
   ]
  },
  {
   "cell_type": "code",
   "execution_count": 27,
   "metadata": {},
   "outputs": [],
   "source": [
    "lp_ads = ListPapersExt(test_lp)"
   ]
  },
  {
   "cell_type": "code",
   "execution_count": 28,
   "metadata": {},
   "outputs": [
    {
     "data": {
      "text/plain": [
       "['Astrophysics - High Energy Astrophysical Phenomena',\n",
       " 'hydrodynamics',\n",
       " 'ISM: molecules',\n",
       " 'ISM: structure',\n",
       " 'methods: numerical',\n",
       " 'supernovae: general',\n",
       " 'ISM: individual objects: Kesteven 69 (G21.8 - 0.6)',\n",
       " 'ISM: supernova remnants',\n",
       " 'X-rays: ISM',\n",
       " 'gamma-rays: ISM',\n",
       " 'ISM: individual objects: Kes 41',\n",
       " 'gamma rays: ISM',\n",
       " 'atomic data',\n",
       " 'atomic processes',\n",
       " 'plasmas',\n",
       " 'Astrophysics - Instrumentation and Methods for Astrophysics',\n",
       " 'ISM: individual objects: W49B',\n",
       " 'nuclear reactions',\n",
       " 'nucleosynthesis',\n",
       " 'abundances',\n",
       " 'white dwarfs',\n",
       " 'dust',\n",
       " 'extinction',\n",
       " 'planetary nebulae: general',\n",
       " 'X-rays: binaries',\n",
       " 'Astrophysics - Astrophysics of Galaxies',\n",
       " 'X-rays: individual: W28 (G6.4─0.1 CXOU J175857.55─233400.3 3XMM J180058.5─232735',\n",
       " 'X-rays: stars',\n",
       " 'acceleration of particles',\n",
       " 'gamma rays: observations',\n",
       " 'supernova remnants',\n",
       " 'ISM: individual (Kes 41)',\n",
       " 'ISM: individual objects: G33.6+0.1 &amp; Kes 79',\n",
       " 'pulsars: individual: PSR J1852+0040']"
      ]
     },
     "execution_count": 28,
     "metadata": {},
     "output_type": "execute_result"
    }
   ],
   "source": [
    "lp_ads.all_std_keywords()"
   ]
  },
  {
   "cell_type": "code",
   "execution_count": 29,
   "metadata": {},
   "outputs": [
    {
     "name": "stdout",
     "output_type": "stream",
     "text": [
      "Number of papers: 11\n",
      "Subjects: \n",
      "['']\n",
      "Key words: \n",
      "\n",
      "Exclude key words: \n",
      "Total scores:\n",
      "\n",
      "Common keywords: \n",
      "['Astrophysics - High Energy Astrophysical Phenomena', 'hydrodynamics', 'ISM: molecules', 'ISM: structure', 'methods: numerical', 'supernovae: general', 'ISM: individual objects: Kesteven 69 (G21.8 - 0.6)', 'ISM: supernova remnants', 'X-rays: ISM', 'gamma-rays: ISM', 'ISM: individual objects: Kes 41', 'gamma rays: ISM', 'atomic data', 'atomic processes', 'plasmas', 'Astrophysics - Instrumentation and Methods for Astrophysics', 'ISM: individual objects: W49B', 'nuclear reactions', 'nucleosynthesis', 'abundances', 'white dwarfs', 'X-rays: individual: W28 (G6.4─0.1 CXOU J175857.55─233400.3 3XMM J180058.5─232735', 'X-rays: stars', 'ISM: individual objects: G33.6+0.1 &amp; Kes 79', 'pulsars: individual: PSR J1852+0040', 'acceleration of particles']\n"
     ]
    }
   ],
   "source": [
    "lp_new = lp_ads.filter_std_key_words(\"Astrophysics - High Energy Astrophysical Phenomena\")\n",
    "lp_new.summary()"
   ]
  },
  {
   "cell_type": "code",
   "execution_count": 35,
   "metadata": {},
   "outputs": [
    {
     "ename": "AttributeError",
     "evalue": "'PaperExt' object has no attribute 'ads_link'",
     "output_type": "error",
     "traceback": [
      "\u001b[0;31m---------------------------------------------------------------------------\u001b[0m",
      "\u001b[0;31mAttributeError\u001b[0m                            Traceback (most recent call last)",
      "\u001b[0;32m~/programs/anaconda/envs/web3/lib/python3.6/site-packages/IPython/core/formatters.py\u001b[0m in \u001b[0;36m__call__\u001b[0;34m(self, obj)\u001b[0m\n\u001b[1;32m    700\u001b[0m                 \u001b[0mtype_pprinters\u001b[0m\u001b[0;34m=\u001b[0m\u001b[0mself\u001b[0m\u001b[0;34m.\u001b[0m\u001b[0mtype_printers\u001b[0m\u001b[0;34m,\u001b[0m\u001b[0;34m\u001b[0m\u001b[0m\n\u001b[1;32m    701\u001b[0m                 deferred_pprinters=self.deferred_printers)\n\u001b[0;32m--> 702\u001b[0;31m             \u001b[0mprinter\u001b[0m\u001b[0;34m.\u001b[0m\u001b[0mpretty\u001b[0m\u001b[0;34m(\u001b[0m\u001b[0mobj\u001b[0m\u001b[0;34m)\u001b[0m\u001b[0;34m\u001b[0m\u001b[0m\n\u001b[0m\u001b[1;32m    703\u001b[0m             \u001b[0mprinter\u001b[0m\u001b[0;34m.\u001b[0m\u001b[0mflush\u001b[0m\u001b[0;34m(\u001b[0m\u001b[0;34m)\u001b[0m\u001b[0;34m\u001b[0m\u001b[0m\n\u001b[1;32m    704\u001b[0m             \u001b[0;32mreturn\u001b[0m \u001b[0mstream\u001b[0m\u001b[0;34m.\u001b[0m\u001b[0mgetvalue\u001b[0m\u001b[0;34m(\u001b[0m\u001b[0;34m)\u001b[0m\u001b[0;34m\u001b[0m\u001b[0m\n",
      "\u001b[0;32m~/programs/anaconda/envs/web3/lib/python3.6/site-packages/IPython/lib/pretty.py\u001b[0m in \u001b[0;36mpretty\u001b[0;34m(self, obj)\u001b[0m\n\u001b[1;32m    383\u001b[0m                 \u001b[0;32mif\u001b[0m \u001b[0mcls\u001b[0m \u001b[0;32min\u001b[0m \u001b[0mself\u001b[0m\u001b[0;34m.\u001b[0m\u001b[0mtype_pprinters\u001b[0m\u001b[0;34m:\u001b[0m\u001b[0;34m\u001b[0m\u001b[0m\n\u001b[1;32m    384\u001b[0m                     \u001b[0;31m# printer registered in self.type_pprinters\u001b[0m\u001b[0;34m\u001b[0m\u001b[0;34m\u001b[0m\u001b[0m\n\u001b[0;32m--> 385\u001b[0;31m                     \u001b[0;32mreturn\u001b[0m \u001b[0mself\u001b[0m\u001b[0;34m.\u001b[0m\u001b[0mtype_pprinters\u001b[0m\u001b[0;34m[\u001b[0m\u001b[0mcls\u001b[0m\u001b[0;34m]\u001b[0m\u001b[0;34m(\u001b[0m\u001b[0mobj\u001b[0m\u001b[0;34m,\u001b[0m \u001b[0mself\u001b[0m\u001b[0;34m,\u001b[0m \u001b[0mcycle\u001b[0m\u001b[0;34m)\u001b[0m\u001b[0;34m\u001b[0m\u001b[0m\n\u001b[0m\u001b[1;32m    386\u001b[0m                 \u001b[0;32melse\u001b[0m\u001b[0;34m:\u001b[0m\u001b[0;34m\u001b[0m\u001b[0m\n\u001b[1;32m    387\u001b[0m                     \u001b[0;31m# deferred printer\u001b[0m\u001b[0;34m\u001b[0m\u001b[0;34m\u001b[0m\u001b[0m\n",
      "\u001b[0;32m~/programs/anaconda/envs/web3/lib/python3.6/site-packages/IPython/lib/pretty.py\u001b[0m in \u001b[0;36minner\u001b[0;34m(obj, p, cycle)\u001b[0m\n\u001b[1;32m    561\u001b[0m                 \u001b[0mp\u001b[0m\u001b[0;34m.\u001b[0m\u001b[0mtext\u001b[0m\u001b[0;34m(\u001b[0m\u001b[0;34m','\u001b[0m\u001b[0;34m)\u001b[0m\u001b[0;34m\u001b[0m\u001b[0m\n\u001b[1;32m    562\u001b[0m                 \u001b[0mp\u001b[0m\u001b[0;34m.\u001b[0m\u001b[0mbreakable\u001b[0m\u001b[0;34m(\u001b[0m\u001b[0;34m)\u001b[0m\u001b[0;34m\u001b[0m\u001b[0m\n\u001b[0;32m--> 563\u001b[0;31m             \u001b[0mp\u001b[0m\u001b[0;34m.\u001b[0m\u001b[0mpretty\u001b[0m\u001b[0;34m(\u001b[0m\u001b[0mx\u001b[0m\u001b[0;34m)\u001b[0m\u001b[0;34m\u001b[0m\u001b[0m\n\u001b[0m\u001b[1;32m    564\u001b[0m         \u001b[0;32mif\u001b[0m \u001b[0mlen\u001b[0m\u001b[0;34m(\u001b[0m\u001b[0mobj\u001b[0m\u001b[0;34m)\u001b[0m \u001b[0;34m==\u001b[0m \u001b[0;36m1\u001b[0m \u001b[0;32mand\u001b[0m \u001b[0mtype\u001b[0m\u001b[0;34m(\u001b[0m\u001b[0mobj\u001b[0m\u001b[0;34m)\u001b[0m \u001b[0;32mis\u001b[0m \u001b[0mtuple\u001b[0m\u001b[0;34m:\u001b[0m\u001b[0;34m\u001b[0m\u001b[0m\n\u001b[1;32m    565\u001b[0m             \u001b[0;31m# Special case for 1-item tuples.\u001b[0m\u001b[0;34m\u001b[0m\u001b[0;34m\u001b[0m\u001b[0m\n",
      "\u001b[0;32m~/programs/anaconda/envs/web3/lib/python3.6/site-packages/IPython/lib/pretty.py\u001b[0m in \u001b[0;36mpretty\u001b[0;34m(self, obj)\u001b[0m\n\u001b[1;32m    400\u001b[0m                         \u001b[0;32mif\u001b[0m \u001b[0mcls\u001b[0m \u001b[0;32mis\u001b[0m \u001b[0;32mnot\u001b[0m \u001b[0mobject\u001b[0m\u001b[0;31m \u001b[0m\u001b[0;31m\\\u001b[0m\u001b[0;34m\u001b[0m\u001b[0m\n\u001b[1;32m    401\u001b[0m                                 \u001b[0;32mand\u001b[0m \u001b[0mcallable\u001b[0m\u001b[0;34m(\u001b[0m\u001b[0mcls\u001b[0m\u001b[0;34m.\u001b[0m\u001b[0m__dict__\u001b[0m\u001b[0;34m.\u001b[0m\u001b[0mget\u001b[0m\u001b[0;34m(\u001b[0m\u001b[0;34m'__repr__'\u001b[0m\u001b[0;34m)\u001b[0m\u001b[0;34m)\u001b[0m\u001b[0;34m:\u001b[0m\u001b[0;34m\u001b[0m\u001b[0m\n\u001b[0;32m--> 402\u001b[0;31m                             \u001b[0;32mreturn\u001b[0m \u001b[0m_repr_pprint\u001b[0m\u001b[0;34m(\u001b[0m\u001b[0mobj\u001b[0m\u001b[0;34m,\u001b[0m \u001b[0mself\u001b[0m\u001b[0;34m,\u001b[0m \u001b[0mcycle\u001b[0m\u001b[0;34m)\u001b[0m\u001b[0;34m\u001b[0m\u001b[0m\n\u001b[0m\u001b[1;32m    403\u001b[0m \u001b[0;34m\u001b[0m\u001b[0m\n\u001b[1;32m    404\u001b[0m             \u001b[0;32mreturn\u001b[0m \u001b[0m_default_pprint\u001b[0m\u001b[0;34m(\u001b[0m\u001b[0mobj\u001b[0m\u001b[0;34m,\u001b[0m \u001b[0mself\u001b[0m\u001b[0;34m,\u001b[0m \u001b[0mcycle\u001b[0m\u001b[0;34m)\u001b[0m\u001b[0;34m\u001b[0m\u001b[0m\n",
      "\u001b[0;32m~/programs/anaconda/envs/web3/lib/python3.6/site-packages/IPython/lib/pretty.py\u001b[0m in \u001b[0;36m_repr_pprint\u001b[0;34m(obj, p, cycle)\u001b[0m\n\u001b[1;32m    695\u001b[0m     \u001b[0;34m\"\"\"A pprint that just redirects to the normal repr function.\"\"\"\u001b[0m\u001b[0;34m\u001b[0m\u001b[0m\n\u001b[1;32m    696\u001b[0m     \u001b[0;31m# Find newlines and replace them with p.break_()\u001b[0m\u001b[0;34m\u001b[0m\u001b[0;34m\u001b[0m\u001b[0m\n\u001b[0;32m--> 697\u001b[0;31m     \u001b[0moutput\u001b[0m \u001b[0;34m=\u001b[0m \u001b[0mrepr\u001b[0m\u001b[0;34m(\u001b[0m\u001b[0mobj\u001b[0m\u001b[0;34m)\u001b[0m\u001b[0;34m\u001b[0m\u001b[0m\n\u001b[0m\u001b[1;32m    698\u001b[0m     \u001b[0;32mfor\u001b[0m \u001b[0midx\u001b[0m\u001b[0;34m,\u001b[0m\u001b[0moutput_line\u001b[0m \u001b[0;32min\u001b[0m \u001b[0menumerate\u001b[0m\u001b[0;34m(\u001b[0m\u001b[0moutput\u001b[0m\u001b[0;34m.\u001b[0m\u001b[0msplitlines\u001b[0m\u001b[0;34m(\u001b[0m\u001b[0;34m)\u001b[0m\u001b[0;34m)\u001b[0m\u001b[0;34m:\u001b[0m\u001b[0;34m\u001b[0m\u001b[0m\n\u001b[1;32m    699\u001b[0m         \u001b[0;32mif\u001b[0m \u001b[0midx\u001b[0m\u001b[0;34m:\u001b[0m\u001b[0;34m\u001b[0m\u001b[0m\n",
      "\u001b[0;32m~/programs/git/SpiderRead_arXiv/papers.py\u001b[0m in \u001b[0;36m__repr__\u001b[0;34m(self)\u001b[0m\n\u001b[1;32m    141\u001b[0m \u001b[0;34m\u001b[0m\u001b[0m\n\u001b[1;32m    142\u001b[0m     \u001b[0;32mdef\u001b[0m \u001b[0m__repr__\u001b[0m\u001b[0;34m(\u001b[0m\u001b[0mself\u001b[0m\u001b[0;34m)\u001b[0m\u001b[0;34m:\u001b[0m\u001b[0;34m\u001b[0m\u001b[0m\n\u001b[0;32m--> 143\u001b[0;31m         \u001b[0;32mreturn\u001b[0m \u001b[0;34m\"<Paper id:%s ads_link:%s>\"\u001b[0m \u001b[0;34m%\u001b[0m \u001b[0;34m(\u001b[0m\u001b[0mself\u001b[0m\u001b[0;34m.\u001b[0m\u001b[0marxiv_id\u001b[0m\u001b[0;34m,\u001b[0m \u001b[0mself\u001b[0m\u001b[0;34m.\u001b[0m\u001b[0mads_link\u001b[0m\u001b[0;34m)\u001b[0m\u001b[0;34m\u001b[0m\u001b[0m\n\u001b[0m\u001b[1;32m    144\u001b[0m \u001b[0;34m\u001b[0m\u001b[0m\n\u001b[1;32m    145\u001b[0m     \u001b[0;32mdef\u001b[0m \u001b[0m__str__\u001b[0m\u001b[0;34m(\u001b[0m\u001b[0mself\u001b[0m\u001b[0;34m)\u001b[0m\u001b[0;34m:\u001b[0m\u001b[0;34m\u001b[0m\u001b[0m\n",
      "\u001b[0;31mAttributeError\u001b[0m: 'PaperExt' object has no attribute 'ads_link'"
     ]
    }
   ],
   "source": [
    "lp_add = lp_new + lp_ads\n",
    "lp_add.list_paper"
   ]
  },
  {
   "cell_type": "code",
   "execution_count": 19,
   "metadata": {},
   "outputs": [
    {
     "name": "stdout",
     "output_type": "stream",
     "text": [
      "['ISM: supernova remnants', 'ISM: individual objects: Kes 41', 'gamma rays: ISM']\n"
     ]
    }
   ],
   "source": [
    "print(lp_ads[3].std_keywords)"
   ]
  },
  {
   "cell_type": "code",
   "execution_count": null,
   "metadata": {},
   "outputs": [],
   "source": []
  }
 ],
 "metadata": {
  "kernelspec": {
   "display_name": "Python 3",
   "language": "python",
   "name": "python3"
  },
  "language_info": {
   "codemirror_mode": {
    "name": "ipython",
    "version": 3
   },
   "file_extension": ".py",
   "mimetype": "text/x-python",
   "name": "python",
   "nbconvert_exporter": "python",
   "pygments_lexer": "ipython3",
   "version": "3.6.2"
  }
 },
 "nbformat": 4,
 "nbformat_minor": 2
}
