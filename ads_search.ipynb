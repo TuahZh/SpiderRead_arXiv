{
 "cells": [
  {
   "cell_type": "code",
   "execution_count": 1,
   "metadata": {},
   "outputs": [],
   "source": [
    "from papers import *"
   ]
  },
  {
   "cell_type": "code",
   "execution_count": null,
   "metadata": {},
   "outputs": [],
   "source": []
  },
  {
   "cell_type": "code",
   "execution_count": 2,
   "metadata": {},
   "outputs": [
    {
     "name": "stderr",
     "output_type": "stream",
     "text": [
      "/Users/gaoyuan/programs/git/SpiderRead_arXiv/papers.py:544: UserWarning: No parser was explicitly specified, so I'm using the best available HTML parser for this system (\"html.parser\"). This usually isn't a problem, but if you run this code on another system, or in a different virtual environment, it may use a different parser and behave differently.\n",
      "\n",
      "The code that caused this warning is on line 544 of the file /Users/gaoyuan/programs/git/SpiderRead_arXiv/papers.py. To get rid of this warning, pass the additional argument 'features=\"html.parser\"' to the BeautifulSoup constructor.\n",
      "\n",
      "  soup = BeautifulSoup(plain_text)\n"
     ]
    },
    {
     "name": "stdout",
     "output_type": "stream",
     "text": [
      "https://ui.adsabs.harvard.edu/abs/\n"
     ]
    },
    {
     "data": {
      "text/plain": [
       "['__class__',\n",
       " '__delattr__',\n",
       " '__dict__',\n",
       " '__dir__',\n",
       " '__doc__',\n",
       " '__eq__',\n",
       " '__format__',\n",
       " '__ge__',\n",
       " '__getattribute__',\n",
       " '__gt__',\n",
       " '__hash__',\n",
       " '__init__',\n",
       " '__init_subclass__',\n",
       " '__le__',\n",
       " '__lt__',\n",
       " '__module__',\n",
       " '__ne__',\n",
       " '__new__',\n",
       " '__reduce__',\n",
       " '__reduce_ex__',\n",
       " '__repr__',\n",
       " '__setattr__',\n",
       " '__sizeof__',\n",
       " '__str__',\n",
       " '__subclasshook__',\n",
       " '__weakref__',\n",
       " '_authors_in_line',\n",
       " '_find_ads_page',\n",
       " '_find_paper',\n",
       " '_read_ads_page',\n",
       " '_read_page',\n",
       " '_url_prefix',\n",
       " 'abstract',\n",
       " 'access_arxiv',\n",
       " 'ads_id',\n",
       " 'ads_pdf_url',\n",
       " 'arxiv_id',\n",
       " 'authors',\n",
       " 'citation_url',\n",
       " 'comments',\n",
       " 'customized_fields',\n",
       " 'date',\n",
       " 'doi',\n",
       " 'fetch_pdf',\n",
       " 'get_ads_id',\n",
       " 'get_ref_cit_url',\n",
       " 'link',\n",
       " 'link_ads',\n",
       " 'nap_interval',\n",
       " 'reference_url',\n",
       " 'search_online',\n",
       " 'std_keywords',\n",
       " 'subjects',\n",
       " 'title']"
      ]
     },
     "execution_count": 2,
     "metadata": {},
     "output_type": "execute_result"
    }
   ],
   "source": [
    "ads_p = PaperExt(ads_id=\"2010ApJ...714..320A\")\n",
    "print(ads_p._url_prefix)\n",
    "dir(ads_p)"
   ]
  },
  {
   "cell_type": "code",
   "execution_count": 3,
   "metadata": {},
   "outputs": [
    {
     "name": "stdout",
     "output_type": "stream",
     "text": [
      "['galaxies: formation', 'galaxies: ISM', 'Galaxy: general', 'Astrophysics - Cosmology and Extragalactic Astrophysics']\n"
     ]
    }
   ],
   "source": [
    "print(ads_p.std_keywords)"
   ]
  },
  {
   "cell_type": "code",
   "execution_count": 4,
   "metadata": {},
   "outputs": [
    {
     "name": "stdout",
     "output_type": "stream",
     "text": [
      "ID: arXiv:1003.3273\n",
      "Title: Do Hot Halos Around Galaxies Contain the Missing Baryons?\n",
      "Authors: Anderson, Michael E.; Bregman, Joel N.\n",
      "Date: 2010-05-00\n",
      "Abstract: Galaxies are missing most of their baryons, and many models predict these baryons lie in a hot halo around galaxies. We establish observationally motivated constraints on the mass and radii of these halos using a variety of independent arguments. First, the observed dispersion measure of pulsars in the Large Magellanic Cloud allows us to constrain the hot halo around the Milky Way: if it obeys the standard Navarro, Frenk, and White (NFW) profile, it must contain less than 4%-5% of the missing baryons from the Galaxy. This is similar to other upper limits on the Galactic hot halo, such as the soft X-ray background and the pressure around high-velocity clouds. Second, we note that the X-ray surface brightness of hot halos with NFW profiles around large isolated galaxies is high enough that such emission should be observed, unless their halos contain less than 10%-25% of their missing baryons. Third, we place constraints on the column density of hot halos using nondetections of O VII absorption along active galactic nucleus (AGN) sightlines: in general they must contain less than 70% of the missing baryons or extend to no more than 40 kpc. Flattening the density profile of galactic hot halos weakens the surface brightness constraint so that a typical L <SUB>*</SUB> galaxy may hold half its missing baryons in its halo, but the O VII constraint remains unchanged, and around the Milky Way a flattened profile may only hold 6%-13% of the missing baryons from the Galaxy ((2-4) × 10<SUP>10</SUP> M <SUB>sun</SUB>). We also show that AGN and supernovae at low to moderate redshift—the theoretical sources of winds responsible for driving out the missing baryons—do not produce the expected correlations with the baryonic Tully-Fisher relationship and, therefore, are insufficient to explain the missing baryons from galaxies. We conclude that most of missing baryons from galaxies do not lie in hot halos around the galaxies, and that the missing baryons never fell into the potential wells of protogalaxies in the first place. They may have been expelled from the galaxies as part of the process of galaxy formation.\n",
      "Comments: \n",
      "Link: \n",
      "Subjects: \n",
      "\n"
     ]
    }
   ],
   "source": [
    "print(ads_p)"
   ]
  },
  {
   "cell_type": "code",
   "execution_count": 5,
   "metadata": {},
   "outputs": [
    {
     "name": "stderr",
     "output_type": "stream",
     "text": [
      "/Users/gaoyuan/programs/git/SpiderRead_arXiv/papers.py:90: UserWarning: No parser was explicitly specified, so I'm using the best available HTML parser for this system (\"html.parser\"). This usually isn't a problem, but if you run this code on another system, or in a different virtual environment, it may use a different parser and behave differently.\n",
      "\n",
      "The code that caused this warning is on line 90 of the file /Users/gaoyuan/programs/git/SpiderRead_arXiv/papers.py. To get rid of this warning, pass the additional argument 'features=\"html.parser\"' to the BeautifulSoup constructor.\n",
      "\n",
      "  soup = BeautifulSoup(plain_text)\n"
     ]
    }
   ],
   "source": [
    "ads_p.access_arxiv()"
   ]
  },
  {
   "cell_type": "code",
   "execution_count": 6,
   "metadata": {},
   "outputs": [
    {
     "name": "stdout",
     "output_type": "stream",
     "text": [
      "ID: arXiv:1003.3273\n",
      "Title: Do Hot Haloes Around Galaxies Contain the Missing Baryons?\n",
      "Authors: Anderson, Michael E.; Bregman, Joel N.\n",
      "Date: 2010-05-00\n",
      "Abstract: Galaxies are missing most of their baryons, and many models predict these\n",
      "baryons lie in a hot halo around galaxies. We establish observationally\n",
      "motivated constraints on the mass and radii of these haloes using a variety of\n",
      "independent arguments. First, the observed dispersion measure of pulsars in the\n",
      "Large Magellanic Cloud allows us to constrain the hot halo around the Milky\n",
      "Way: if it obeys the standard NFW profile, it must contain less than 4-5% of\n",
      "the missing baryons from the Galaxy. This is similar to other upper limits on\n",
      "the Galactic hot halo, such as the soft X-ray background and the pressure\n",
      "around high velocity clouds. Second, we note that the X-ray surface brightness\n",
      "of hot haloes with NFW profiles around large isolated galaxies is high enough\n",
      "that such emission should be observed, unless their haloes contain less than\n",
      "10-25% of their missing baryons. Third, we place constraints on the column\n",
      "density of hot haloes using nondetections of OVII absorption along AGN\n",
      "sightlines: in general they must contain less than 70% of the missing baryons\n",
      "or extend to no more than 40 kpc. Flattening the density profile of galactic\n",
      "hot haloes weakens the surface brightness constraint so that a typical L$_*$\n",
      "galaxy may hold half its missing baryons in its halo, but the OVII constraint\n",
      "remains unchanged, and around the Milky Way a flattened profile may only hold\n",
      "$6-13%$ of the missing baryons from the Galaxy ($2-4 \\times 10^{10}\n",
      "M_{\\odot}$). We also show that AGN and supernovae at low to moderate redshift -\n",
      "the theoretical sources of winds responsible for driving out the missing\n",
      "baryons - do not produce the expected correlations with the baryonic\n",
      "Tully-Fisher relationship and so are insufficient to explain the missing\n",
      "baryons from galaxies. We conclude that most of missing baryons from galaxies\n",
      "do not lie in hot haloes around the galaxies, and that the missing baryons\n",
      "never fell into the potential wells of protogalaxies in the first place. They\n",
      "may have been expelled from the galaxies as part of the process of galaxy\n",
      "formation.\n",
      "Comments: accepted for publication in the Astrophysical Journal\n",
      "Link: https://arxiv.org/abs/arXiv:1003.3273\n",
      "Subjects: Cosmology and Nongalactic Astrophysics (astro-ph.CO)\n",
      "\n"
     ]
    }
   ],
   "source": [
    "print(ads_p)"
   ]
  },
  {
   "cell_type": "code",
   "execution_count": 25,
   "metadata": {},
   "outputs": [
    {
     "name": "stdout",
     "output_type": "stream",
     "text": [
      "<Response [200]>\n"
     ]
    }
   ],
   "source": [
    "# listpaper of reference\n",
    "# try:\n",
    "header = {\"User-Agent\":random.choice(user_agent_list), \n",
    "         \"x-requested-with\": \"XMLHttpRequest\",\n",
    "         \"accept\": \"text/html,application/xhtml+xml,application/xml;q=0.9,image/webp,image/apng,*/*;q=0.8,application/signed-exchange;v=b3\",\n",
    "         \"accept-encoding\": \"gzip, deflate, br\",\n",
    "         \"accept-language\": \"en;q=0.7,ru;q=0.6\",\n",
    "         \"cookie\": \"_ga=GA1.2.1792250097.1567225807; _gid=GA1.2.1943081228.1570263096; session-core=.eJwVkNtyqjAAAP8lz8ok4c6bbYESLbdTFXlhNA0QoqCAUOj470c_YHdn9g8c730JrD9wpJR1XdY3gtXAAm-CyWl8yc1um9zLCdLreh9HkbaePyHhLXKJrrQ-R2ABTk0PrPx47tgCsN8rb1nGXwoMkblEcAm1b2hYCFmyLhmqqsoYPBaANo3grHulu2eYNy9EYmRElbA3RbU6RKG5zl0anuK9B20nmu1gff5JsZ1sW_97f9pccp5Py_e2yJgCYZSMyUCrN807CZfSz9XFfY-LwtEJmjWCfPUJivqfo1WX67Esvnp9GnKvu846cQoGg56uhhlhrN5I4PoZzkxRitr4SXf5eNg5PIz7w4R8TthZFodAKLucKDd_Qiwa7E1dTNuz57odD7hpbDxSZJwq-DZKSVpG4SjtQi0Y9EJZVWjv8o_IrPs5TOPMSMTzYdc29549DyBVM3QMNQ1LWDYlRZZUDGUdgsfjPxouh_8.XZhQQA.og5rjsn0kXckpenLtKxZr0VquEQ; _gat=1; session=.eJw1jkELgjAYQP9KfGcPugxE6BAo1EFjZq3tIupWWtNsutLE_14IXR-8xxshuSjRFuB2SgsDkpKDO8IiAxcCEklGsBnGvKJxbrKYrkKCESW-zarjEH58tPfuy8Cja5h-biNUldai7v61R6q7IsllOTOQyDkNvOFW7af966zfnoOyXh8iubM3V6y2-MnpjXEwQLdCzS9gwfQFfYs2gw.XZid6Q.A2fiaR3Lhh_e_VsWh6-xc9niEek\",\n",
    "         \"referer\": \"https://ui.adsabs.harvard.edu/abs/2019arXiv190912307S/references\",\n",
    "         \"sec-fetch-mode\": \"navigate\",\n",
    "         \"sec-fetch-site\": \"same-origin\"}\n",
    "#user-agent: Mozilla/5.0 (Macintosh; Intel Mac OS X 10_14_6) AppleWebKit/537.36 (KHTML, like Gecko) Chrome/77.0.3865.90 Safari/537.36\n",
    "#x-requested-with: XMLHttpRequest}\n",
    "#source_code = requests.get(\"https://ui.adsabs.harvard.edu/abs/2019arXiv190912307S/references\", headers=header)\n",
    "source_code = requests.get(\"https://ui.adsabs.harvard.edu/search/p_=0&q=references(bibcode%3A2019arXiv190912307S)&sort=first_author%20asc%2C%20bibcode%20asc\", headers=header)\n",
    "\n",
    "print(source_code)"
   ]
  },
  {
   "cell_type": "code",
   "execution_count": 26,
   "metadata": {},
   "outputs": [
    {
     "name": "stdout",
     "output_type": "stream",
     "text": [
      "<!doctype html><html lang=\"en\"><head profile=\"http://a9.com/-/spec/opensearch/1.1/\"><meta charset=\"utf-8\"><base href=\"/\"><meta http-equiv=\"X-UA-Compatible\" content=\"IE=edge,chrome=1\"><meta name=\"viewport\" content=\"width=device-width,initial-scale=1\"><meta name=\"google-site-verification\" content=\"XxQuw38lagr8-TgtCyhAMP_6ELS9dy35fgrqo9dxw3o\"><title>NASA/ADS</title><meta name=\"description\" content=\"A powerful, streamlined new Astrophysics Data System\"><link rel=\"preload\" href=\"./styles/css/styles.css\" as=\"style\"><link rel=\"preload\" href=\"./libs/requirejs/require.js\" as=\"script\"><link rel=\"preload\" href=\"./config/shim.js\" as=\"script\"><link rel=\"stylesheet\" href=\"./styles/css/styles.css\"><link rel=\"icon\" type=\"image/png\" sizes=\"32x32\" href=\"./styles/img/favicon.ico\"><link rel=\"search\" type=\"application/opensearchdescription+xml\" href=\"https://ui.adsabs.harvard.edu/config/opensearch.xml\" title=\"ADS Search\"><noscript><style>#app-container {\n",
      "        display: none;\n",
      "      }\n",
      "      body {\n",
      "        overflow: hidden;\n",
      "        position: absolute;\n",
      "        width: 100%;\n",
      "        height: 100%;\n",
      "        display: flex;\n",
      "        justify-content: center;\n",
      "        align-items: center;\n",
      "      }\n",
      "      #noscriptmsg {\n",
      "        max-width: 450px;\n",
      "        padding: 10px;\n",
      "      }</style></noscript></head><body><noscript><div id=\"noscriptmsg\"><div class=\"h3\">JavaScript Required</div><hr class=\"hr\"><p>Sorry, but ADS requires JavaScript to be enabled.</p><p class=\"pull-right\"><a href=\"//ui.adsabs.harvard.edu\" class=\"btn btn-info\">Reload</a></p></div></noscript><div id=\"app-container\"><div id=\"body-template-container\"><div class=\"loading-screen\" style=\"display: none\"><div class=\"row\"><div class=\"col-xs-8 col-xs-offset-2\"><div class=\"logo__astrophysics\">astrophysics</div><div class=\"logo__data-system\">data system</div></div></div><div class=\"row\"><div class=\"col-xs-6 col-xs-offset-3\"><span class=\"sr-only\">loading...</span><div class=\"progress\"><div class=\"progress-bar\" role=\"progressbar\" id=\"app_loading_progress\" aria-valuenow=\"0\" aria-valuemin=\"0\" aria-valuemax=\"100\" style=\"width: 0%\"><div class=\"sr-only\">0% Complete</div></div></div><span class=\"loading-screen__loading\" id=\"app_loading_message\"></span></div></div></div></div></div><script type=\"application/ld+json\">{{{this}}}</script><script>// Progress Bar\n",
      "        (function () {\n",
      "          var loadingContainer = document.querySelector('.loading-screen');\n",
      "          var progressBar = document.getElementById('app_loading_progress');\n",
      "          var message = document.getElementById('app_loading_message');\n",
      "          var progressInner = document.querySelector('#app_loading_progress>div');\n",
      "          var progressValue = 0;\n",
      "\n",
      "          // show nothing for the first 3 seconds\n",
      "          setTimeout(function () {\n",
      "            loadingContainer.setAttribute('style', '');\n",
      "          }, 3000);\n",
      "\n",
      "          window.__setAppLoadingProgress = function (val, msg) {\n",
      "            if (val < progressValue) return;\n",
      "            try {\n",
      "              progressBar.setAttribute('aria-valuenow', val);\n",
      "              progressBar.style = 'width: ' + val + '%';\n",
      "              progressInner.innerText = val + '% Complete';\n",
      "              message.innerHTML = msg ? msg : message.innerHTML;\n",
      "              progressValue = val;\n",
      "            } catch (e) {\n",
      "              // do nothing\n",
      "            }\n",
      "          };\n",
      "          setTimeout(__setAppLoadingProgress, 200, 10);\n",
      "          setTimeout(__setAppLoadingProgress, 500, 15);\n",
      "          window.__setAppLoadingProgress(5, 'Downloading Assets');\n",
      "          window.__PAGE_LOAD_TIMESTAMP = new Date();\n",
      "\n",
      "          // Show a reload button if the page is taking too long\n",
      "          setTimeout(function check () {\n",
      "            if (progressValue !== 100) {\n",
      "              var msg = 'Loading the application is taking a long time... ';\n",
      "              msg += '<button role=\"button\" onclick=\"location.reload()\" class=\"btn btn-default\">Reload</button>';\n",
      "              window.__setAppLoadingProgress(progressValue, msg);\n",
      "            } else {\n",
      "              window.APP_LOADING_TIMER = setTimeout(check, 10000);\n",
      "            }\n",
      "          }, 10000);\n",
      "        })();</script><script src=\"./libs/requirejs/require.js\"></script><script src=\"./config/shim.js\"></script></body></html>\n"
     ]
    }
   ],
   "source": [
    "print(source_code.text)"
   ]
  },
  {
   "cell_type": "code",
   "execution_count": 27,
   "metadata": {},
   "outputs": [
    {
     "name": "stdout",
     "output_type": "stream",
     "text": [
      "-1\n"
     ]
    }
   ],
   "source": [
    "print(source_code.text.find(\"thermal\"))"
   ]
  },
  {
   "cell_type": "code",
   "execution_count": 28,
   "metadata": {},
   "outputs": [],
   "source": [
    "import selenium"
   ]
  },
  {
   "cell_type": "code",
   "execution_count": 16,
   "metadata": {},
   "outputs": [],
   "source": [
    "# imports\n",
    "from selenium import webdriver\n",
    "from selenium.webdriver.common.desired_capabilities import DesiredCapabilities\n",
    "from selenium.webdriver.common.by import By\n",
    "from selenium.webdriver.support.ui import WebDriverWait\n",
    "from selenium.webdriver.support import expected_conditions as EC\n",
    "from selenium.webdriver.chrome.options import Options"
   ]
  },
  {
   "cell_type": "code",
   "execution_count": 17,
   "metadata": {},
   "outputs": [
    {
     "name": "stderr",
     "output_type": "stream",
     "text": [
      "/Users/gaoyuan/programs/anaconda/envs/web3/lib/python3.6/site-packages/ipykernel_launcher.py:4: DeprecationWarning: use options instead of chrome_options\n",
      "  after removing the cwd from sys.path.\n"
     ]
    }
   ],
   "source": [
    "options = Options()\n",
    "\n",
    "options.add_argument(f'user-agent='+random.choice(user_agent_list))\n",
    "driver = webdriver.Chrome(chrome_options=options, executable_path=r\"/usr/local/bin/chromedriver\")\n",
    "driver.get(\"https://www.google.co.in\")\n"
   ]
  },
  {
   "cell_type": "code",
   "execution_count": 18,
   "metadata": {},
   "outputs": [
    {
     "data": {
      "text/plain": [
       "'Mozilla/5.0 (Windows NT 6.1; Win64; x64; Trident/7.0; rv:11.0) like Gecko'"
      ]
     },
     "execution_count": 18,
     "metadata": {},
     "output_type": "execute_result"
    }
   ],
   "source": [
    "driver.execute_script(\"return navigator.userAgent\")"
   ]
  },
  {
   "cell_type": "code",
   "execution_count": 22,
   "metadata": {},
   "outputs": [],
   "source": [
    "driver.get('https://ui.adsabs.harvard.edu/abs/2019arXiv190912307S/references')\n",
    "element = WebDriverWait(driver, 50).until(\n",
    "        EC.presence_of_element_located((By.CLASS_NAME, 's-results-title'))\n",
    "        )"
   ]
  },
  {
   "cell_type": "code",
   "execution_count": 24,
   "metadata": {},
   "outputs": [],
   "source": [
    "source_code = driver.page_source\n",
    "soup = BeautifulSoup(source_code)"
   ]
  },
  {
   "cell_type": "code",
   "execution_count": 25,
   "metadata": {},
   "outputs": [],
   "source": [
    "driver.quit()"
   ]
  },
  {
   "cell_type": "code",
   "execution_count": 27,
   "metadata": {},
   "outputs": [
    {
     "data": {
      "text/plain": [
       "<h3 class=\"s-results-title\">The thermal state of molecular clouds in the Galactic center: evidence for non-photon-driven heating</h3>"
      ]
     },
     "execution_count": 27,
     "metadata": {},
     "output_type": "execute_result"
    }
   ],
   "source": [
    "soup.find(\"h3\", {\"class\":'s-results-title'})"
   ]
  },
  {
   "cell_type": "code",
   "execution_count": 21,
   "metadata": {},
   "outputs": [],
   "source": [
    "driver.get(\"https://www.google.com\")"
   ]
  },
  {
   "cell_type": "code",
   "execution_count": null,
   "metadata": {},
   "outputs": [],
   "source": []
  }
 ],
 "metadata": {
  "kernelspec": {
   "display_name": "Python 3",
   "language": "python",
   "name": "python3"
  },
  "language_info": {
   "codemirror_mode": {
    "name": "ipython",
    "version": 3
   },
   "file_extension": ".py",
   "mimetype": "text/x-python",
   "name": "python",
   "nbconvert_exporter": "python",
   "pygments_lexer": "ipython3",
   "version": "3.6.2"
  }
 },
 "nbformat": 4,
 "nbformat_minor": 2
}
