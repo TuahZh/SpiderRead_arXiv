{
 "cells": [
  {
   "cell_type": "code",
   "execution_count": 1,
   "metadata": {},
   "outputs": [
    {
     "name": "stdout",
     "output_type": "stream",
     "text": [
      "Populating the interactive namespace from numpy and matplotlib\n"
     ]
    }
   ],
   "source": [
    "%pylab inline\n",
    "from papers import *"
   ]
  },
  {
   "cell_type": "code",
   "execution_count": 2,
   "metadata": {},
   "outputs": [
    {
     "name": "stdout",
     "output_type": "stream",
     "text": [
      "New submissions for Thu, 10 Oct 19\n",
      "Sleep...\n",
      "Awake...\n"
     ]
    }
   ],
   "source": [
    "pl, ts = arxiv_reading()\n",
    "with open(\"./list_pkls/\"+ts.split(\",\")[-1].strip().replace(\" \", \"_\")+\"_paper_list.pkl\", \"wb\") as f:\n",
    "    pck.dump(pl, f)\n",
    "    \n",
    "lp_c = ListPapers(pl)"
   ]
  },
  {
   "cell_type": "code",
   "execution_count": 3,
   "metadata": {},
   "outputs": [
    {
     "name": "stdout",
     "output_type": "stream",
     "text": [
      "Number of papers: 59\n",
      "Subjects: \n",
      "['Instrumentation and Methods for Astrophysics (astro-ph.IM)', 'Astrophysics of Galaxies (astro-ph.GA)', 'Solar and Stellar Astrophysics (astro-ph.SR)', 'Fluid Dynamics (physics.flu-dyn)', 'Plasma Physics (physics.plasm-ph)', 'Earth and Planetary Astrophysics (astro-ph.EP)', 'Cosmology and Nongalactic Astrophysics (astro-ph.CO)', 'High Energy Astrophysical Phenomena (astro-ph.HE)', 'General Relativity and Quantum Cosmology (gr-qc)', 'Data Analysis, Statistics and Probability (physics.data-an)', 'Physics and Society (physics.soc-ph)', 'Systems and Control (eess.SY)', 'Robotics (cs.RO)', 'Space Physics (physics.space-ph)', 'High Energy Physics - Phenomenology (hep-ph)', 'Nuclear Theory (nucl-th)', 'Signal Processing (eess.SP)']\n",
      "Key words: \n",
      "\n",
      "Exclude key words: \n",
      "Total scores:\n",
      "\n"
     ]
    }
   ],
   "source": [
    "lp_c.summary()"
   ]
  },
  {
   "cell_type": "code",
   "execution_count": 4,
   "metadata": {},
   "outputs": [
    {
     "name": "stdout",
     "output_type": "stream",
     "text": [
      "Number of papers: 59\n",
      "Subjects: \n",
      "['Instrumentation and Methods for Astrophysics (astro-ph.IM)', 'Astrophysics of Galaxies (astro-ph.GA)', 'Solar and Stellar Astrophysics (astro-ph.SR)', 'Fluid Dynamics (physics.flu-dyn)', 'Plasma Physics (physics.plasm-ph)', 'Earth and Planetary Astrophysics (astro-ph.EP)', 'Cosmology and Nongalactic Astrophysics (astro-ph.CO)', 'High Energy Astrophysical Phenomena (astro-ph.HE)', 'General Relativity and Quantum Cosmology (gr-qc)', 'Data Analysis, Statistics and Probability (physics.data-an)', 'Physics and Society (physics.soc-ph)', 'Systems and Control (eess.SY)', 'Robotics (cs.RO)', 'Space Physics (physics.space-ph)', 'High Energy Physics - Phenomenology (hep-ph)', 'Nuclear Theory (nucl-th)', 'Signal Processing (eess.SP)']\n",
      "Key words: \n",
      "['Chemistry', 'Galactic center', 'SNR', 'Supernova Remnant', 'Cosmic Ray']\n",
      "Exclude key words: \n",
      "Total scores:\n",
      "[0.0, 0.0, 0.0, 2.576116130761227, 0.0, 0.0, 0.0, 0.0, 0.0, 0.0, 0.0, 0.0, 0.0, 0.0, 0.0, 0.0, 0.0, 0.0, 5.9305380746196006, 0.0, 0.0, 0.0, 0.0, 0.0, 0.0, 2.0829193944935329, 0.0, 0.0, 0.0, 0.0, 0.0, 0.0, 0.0, 0.0, 0.0, 0.0, 0.0, 0.0, 0.0, 0.0, 0.0, 0.0, 0.0, 0.0, 0.0, 0.0, 0.0, 0.0, 0.0, 0.0, 0.0, 0.0, 5.0286999178444169, 2.4009430896657489, 0.0, 0.0, 0.0, 0.0, 0.0]\n"
     ]
    }
   ],
   "source": [
    "lp_c.add_key_words([\"Chemistry\", \"Galactic center\", \"SNR\", \"Supernova Remnant\"])\n",
    "lp_c.add_key_words(\"Cosmic Ray\", boost=0.5)\n",
    "lp_c.summary()\n"
   ]
  },
  {
   "cell_type": "code",
   "execution_count": 5,
   "metadata": {},
   "outputs": [
    {
     "name": "stdout",
     "output_type": "stream",
     "text": [
      "ID: arXiv:1910.03631\n",
      "Title: AutoSource: Radio-astronomical source-finding with convolutional  autoencoders\n",
      "Authors: V. Lukic; F. De Gasperin; M. Brüggen\n",
      "Date: New submissions for Thu, 10 Oct 19\n",
      "Abstract: Finding and classifying astronomical sources is key in the scientific\n",
      "exploitation of radio surveys. Source-finding usually involves identifying the\n",
      "parts of an image belonging to an astronomical source, against some estimated\n",
      "background. This can be problematic in the radio regime, owing to the presence\n",
      "of correlated noise, which can interfere with the signal from the source. In\n",
      "the current work we present AutoSource, a novel method based on a deep learning\n",
      "technique, to identify the positions of radio sources, and compare the results\n",
      "to a Gaussian-fitting method. Since the deep learning approach allows the\n",
      "generation of more training images, it should perform well in the\n",
      "source-finding task. We test the source-finding methods on artificial data\n",
      "created for the data challenge of the Square Kilometre Array (SKA). We\n",
      "investigate sources that are divided into three classes: star-forming galaxies\n",
      "(SFGs) and two classes of Active Galactic Nuclei (AGN). The artifical data is\n",
      "given at two different frequencies (560 MHz and 1400 MHz), three total\n",
      "integration times (8 h, 100 h, 1000 h) and three signal-to-noise ratios (1, 2,\n",
      "and 5). At lower SNRs, AutoSource tends to outperform a Gaussian-fitting\n",
      "approach in the recovery of SFGs and all sources, although at the lowest SNR of\n",
      "1, the better performance is likely due to chance matches. The Gaussian-fitting\n",
      "method performs better in the recovery of the AGN-type sources at lower SNRs.\n",
      "At a higher SNR, AutoSource performs better on average in the recovery of AGN\n",
      "sources, whereas the Gaussian-fitting method performs better in the recovery of\n",
      "SFGs and all sources. AutoSource usually performs better at shorter total\n",
      "integration times, and detects more true positives and misses fewer sources\n",
      "compared to the Gaussian-fitting method, however it detects more false\n",
      "positives.\n",
      "Comments: 28 pages, 18 figures, submitted to Galaxies\n",
      "Link: \n",
      "Subjects: Instrumentation and Methods for Astrophysics (astro-ph.IM)\n",
      "\n",
      "The total score is: 5.93\n",
      "\n",
      "ID: arXiv:1910.04111\n",
      "Title: Stability of Nitrogen in Planetary Atmospheres in Contact with Liquid  Water\n",
      "Authors: Renyu Hu; Hector Delgado Diaz\n",
      "Date: New submissions for Thu, 10 Oct 19\n",
      "Abstract: Molecular nitrogen is the most commonly assumed background gas that supports\n",
      "habitability on rocky planets. Despite its chemical inertness, nitrogen\n",
      "molecule is broken by lightning, hot volcanic vents, and bolide impacts, and\n",
      "can be converted into soluble nitrogen compounds and then sequestered in the\n",
      "ocean. The very stability of nitrogen, and that of nitrogen-based habitability,\n",
      "is thus called into question. Here we determine the lifetime of molecular\n",
      "nitrogen vis-a-vis aqueous sequestration, by developing a novel model that\n",
      "couples atmospheric photochemistry and oceanic chemistry. We find that HNO, the\n",
      "dominant nitrogen compounds produced in anoxic atmospheres, is converted to N2O\n",
      "in the ocean, rather than oxidized to nitrites or nitrates as previously\n",
      "assumed. This N2O is then released back into the atmosphere and quickly\n",
      "converted to N2. We also find that the deposition rate of NO is severely\n",
      "limited by the kinetics of the aqueous-phase reaction that converts NO to\n",
      "nitrites in the ocean. Putting these insights together, we conclude that the\n",
      "atmosphere must produce nitrogen species at least as oxidized as NO2 and HNO2\n",
      "to enable aqueous sequestration. The lifetime of molecular nitrogen in anoxic\n",
      "atmospheres is determined to be >1 billion years on temperate planets of both\n",
      "Sun-like and M dwarf stars. This result upholds the validity of molecular\n",
      "nitrogen as a universal background gas on rocky planets.\n",
      "Comments: ApJ accepted\n",
      "Link: \n",
      "Subjects: Earth and Planetary Astrophysics (astro-ph.EP)\n",
      "\n",
      "The total score is: 5.03\n",
      "\n",
      "ID: arXiv:1910.03588\n",
      "Title: The Role of the Parker Instability in Structuring the Interstellar  Medium\n",
      "Authors: Evan Heintz; Chad Bustard; Ellen Zweibel\n",
      "Date: New submissions for Thu, 10 Oct 19\n",
      "Abstract: The Parker instability, a Rayleigh-Taylor like instability of thermal gas\n",
      "supported against gravity by magnetic fields and cosmic rays, is thought to be\n",
      "dynamically important for galaxy evolution, possibly promoting molecular cloud\n",
      "formation and the galactic dynamo. In previous work, we examined the effect of\n",
      "three different cosmic ray transport models on the Parker instability:\n",
      "decoupled ($\\gamma_c = 0$), locked to the thermal gas ($\\gamma_c = 4/3$) and\n",
      "coupled to the gas with streaming by self-confinement. We expand upon that work\n",
      "here by considering radiative cooling, a smooth gravitational potential, and\n",
      "simulations into the nonlinear regime. We determine that cosmic ray transport\n",
      "away from compression points, whether by diffusion or streaming, is the largest\n",
      "driver of the instability. Heating due to cosmic ray streaming is also\n",
      "destabilizing and especially affects the nonlinear regime. While cooling\n",
      "de-pressurizes the dense gas, streaming cosmic rays heat and inflate the\n",
      "diffuse extraplanar gas, greatly modifying the phase structure of the medium.\n",
      "In 3D, we find that the fastest growth favors short wavelength modes in the\n",
      "horizontal direction perpendicular to the background magnetic field; this is\n",
      "imprinted on Faraday rotation measure maps that may be used to detect the\n",
      "Parker instability. The modifications to the Parker instability that we observe\n",
      "in this work have large implications for the structure and evolution of\n",
      "galaxies, and they highlight the major role that cosmic rays play in shaping\n",
      "their environments.\n",
      "Comments: 24 pages, 20 figures, 1 table, submitted to ApJ\n",
      "Link: \n",
      "Subjects: Astrophysics of Galaxies (astro-ph.GA)\n",
      "\n",
      "The total score is: 2.58\n",
      "\n"
     ]
    }
   ],
   "source": [
    "lp_c.head()"
   ]
  },
  {
   "cell_type": "code",
   "execution_count": 6,
   "metadata": {},
   "outputs": [
    {
     "name": "stdout",
     "output_type": "stream",
     "text": [
      "Number of papers: 49\n",
      "Subjects: \n",
      "['Instrumentation and Methods for Astrophysics (astro-ph.IM)', 'Astrophysics of Galaxies (astro-ph.GA)', 'Solar and Stellar Astrophysics (astro-ph.SR)', 'Fluid Dynamics (physics.flu-dyn)', 'Plasma Physics (physics.plasm-ph)', 'Cosmology and Nongalactic Astrophysics (astro-ph.CO)', 'High Energy Astrophysical Phenomena (astro-ph.HE)', 'General Relativity and Quantum Cosmology (gr-qc)', 'Data Analysis, Statistics and Probability (physics.data-an)', 'Physics and Society (physics.soc-ph)', 'Systems and Control (eess.SY)', 'Robotics (cs.RO)', 'Space Physics (physics.space-ph)', 'High Energy Physics - Phenomenology (hep-ph)', 'Nuclear Theory (nucl-th)', 'Signal Processing (eess.SP)']\n",
      "Key words: \n",
      "['Chemistry', 'Galactic center', 'SNR', 'Supernova Remnant', 'Cosmic Ray']\n",
      "Exclude key words: \n",
      "Total scores:\n",
      "[0.0, 0.0, 0.0, 2.4131683757249043, 0.0, 0.0, 0.0, 0.0, 0.0, 0.0, 0.0, 0.0, 0.0, 0.0, 0.0, 0.0, 5.6461472143419513, 0.0, 0.0, 0.0, 0.0, 1.9530323836709984, 0.0, 0.0, 0.0, 0.0, 0.0, 0.0, 0.0, 0.0, 0.0, 0.0, 0.0, 0.0, 0.0, 0.0, 0.0, 0.0, 0.0, 0.0, 0.0, 0.0, 0.0, 2.2497188374964909, 0.0, 0.0, 0.0, 0.0, 0.0]\n"
     ]
    }
   ],
   "source": [
    "lp_d = lp_c.filter_subjects('Earth and Planetary Astrophysics (astro-ph.EP)', exclude=True)\n",
    "lp_d.summary()"
   ]
  },
  {
   "cell_type": "code",
   "execution_count": 7,
   "metadata": {},
   "outputs": [
    {
     "name": "stdout",
     "output_type": "stream",
     "text": [
      "ID: arXiv:1910.03631\n",
      "Title: AutoSource: Radio-astronomical source-finding with convolutional autoencoders\n",
      "Authors: Lukic, V.; De Gasperin, F.; Brüggen, M.\n",
      "Date: 2019/10/08\n",
      "Abstract: Finding and classifying astronomical sources is key in the scientific\n",
      "exploitation of radio surveys. Source-finding usually involves identifying the\n",
      "parts of an image belonging to an astronomical source, against some estimated\n",
      "background. This can be problematic in the radio regime, owing to the presence\n",
      "of correlated noise, which can interfere with the signal from the source. In\n",
      "the current work we present AutoSource, a novel method based on a deep learning\n",
      "technique, to identify the positions of radio sources, and compare the results\n",
      "to a Gaussian-fitting method. Since the deep learning approach allows the\n",
      "generation of more training images, it should perform well in the\n",
      "source-finding task. We test the source-finding methods on artificial data\n",
      "created for the data challenge of the Square Kilometre Array (SKA). We\n",
      "investigate sources that are divided into three classes: star-forming galaxies\n",
      "(SFGs) and two classes of Active Galactic Nuclei (AGN). The artifical data is\n",
      "given at two different frequencies (560 MHz and 1400 MHz), three total\n",
      "integration times (8 h, 100 h, 1000 h) and three signal-to-noise ratios (1, 2,\n",
      "and 5). At lower SNRs, AutoSource tends to outperform a Gaussian-fitting\n",
      "approach in the recovery of SFGs and all sources, although at the lowest SNR of\n",
      "1, the better performance is likely due to chance matches. The Gaussian-fitting\n",
      "method performs better in the recovery of the AGN-type sources at lower SNRs.\n",
      "At a higher SNR, AutoSource performs better on average in the recovery of AGN\n",
      "sources, whereas the Gaussian-fitting method performs better in the recovery of\n",
      "SFGs and all sources. AutoSource usually performs better at shorter total\n",
      "integration times, and detects more true positives and misses fewer sources\n",
      "compared to the Gaussian-fitting method, however it detects more false\n",
      "positives.\n",
      "Comments: 28 pages, 18 figures, submitted to Galaxies\n",
      "Link: https://arxiv.org/abs/arXiv:1910.03631\n",
      "Subjects: Instrumentation and Methods for Astrophysics (astro-ph.IM)\n",
      "\n",
      "The total score is: 5.65\n",
      "\n",
      "ID: arXiv:1910.03588\n",
      "Title: The Role of the Parker Instability in Structuring the Interstellar Medium\n",
      "Authors: Heintz, Evan; Bustard, Chad; Zweibel, Ellen\n",
      "Date: 2019/10/08\n",
      "Abstract: The Parker instability, a Rayleigh-Taylor like instability of thermal gas\n",
      "supported against gravity by magnetic fields and cosmic rays, is thought to be\n",
      "dynamically important for galaxy evolution, possibly promoting molecular cloud\n",
      "formation and the galactic dynamo. In previous work, we examined the effect of\n",
      "three different cosmic ray transport models on the Parker instability:\n",
      "decoupled ($γ_c = 0$), locked to the thermal gas ($γ_c = 4/3$) and\n",
      "coupled to the gas with streaming by self-confinement. We expand upon that work\n",
      "here by considering radiative cooling, a smooth gravitational potential, and\n",
      "simulations into the nonlinear regime. We determine that cosmic ray transport\n",
      "away from compression points, whether by diffusion or streaming, is the largest\n",
      "driver of the instability. Heating due to cosmic ray streaming is also\n",
      "destabilizing and especially affects the nonlinear regime. While cooling\n",
      "de-pressurizes the dense gas, streaming cosmic rays heat and inflate the\n",
      "diffuse extraplanar gas, greatly modifying the phase structure of the medium.\n",
      "In 3D, we find that the fastest growth favors short wavelength modes in the\n",
      "horizontal direction perpendicular to the background magnetic field; this is\n",
      "imprinted on Faraday rotation measure maps that may be used to detect the\n",
      "Parker instability. The modifications to the Parker instability that we observe\n",
      "in this work have large implications for the structure and evolution of\n",
      "galaxies, and they highlight the major role that cosmic rays play in shaping\n",
      "their environments.\n",
      "Comments: 24 pages, 20 figures, 1 table, submitted to ApJ\n",
      "Link: https://arxiv.org/abs/arXiv:1910.03588\n",
      "Subjects: Astrophysics of Galaxies (astro-ph.GA)\n",
      "\n",
      "The total score is: 2.41\n",
      "\n",
      "ID: arXiv:1910.04113\n",
      "Title: The AMS-02 beryllium and its implication for Cosmic Ray transport\n",
      "Authors: Evoli, Carmelo; Morlino, Giovanni; Blasi, Pasquale; Aloisio, Roberto\n",
      "Date: 2019/10/09\n",
      "Abstract: The flux of unstable secondary Cosmic Ray nuclei, produced by spallation\n",
      "processes in the Interstellar Medium, can be used to constrain the residence\n",
      "time of Cosmic Rays inside the Galaxy. Among them, $^{10}$Be is especially\n",
      "useful because of its relatively long half-life of 1.39 Myr . In the framework\n",
      "of the diffusive halo model we describe Cosmic Ray transport taking into\n",
      "account all relevant interaction channels and accounting for the decay of\n",
      "unstable secondary nuclei. We then compare our results with the data collected\n",
      "by the Alpha Magnetic Spectrometer (AMS-02) on board the International Space\n",
      "Station for the flux ratios Be/C, B/C, C/O and Be/B as well as C and O absolute\n",
      "fluxes. These measurements, and especially the Be/B ratio, allow us to single\n",
      "out the flux of $^{10}$Be and infer a best fit propagation time of CRs in the\n",
      "Galaxy. Our results show that, if the cross sections for the production of\n",
      "secondary elements through spallation are taken at face value, AMS-02\n",
      "measurements are compatible with the standard picture based on CR diffusion in\n",
      "a halo of size $H\\sim 3-6$ kpc. Taking into account the uncertainties in the\n",
      "cross sections, this conclusion becomes less reliable, although still\n",
      "compatible with the standard picture. Implications of our findings for\n",
      "alternative models of CR transport are discussed.\n",
      "Comments: 10 pages, 6 figures\n",
      "Link: https://arxiv.org/abs/arXiv:1910.04113\n",
      "Subjects: High Energy Astrophysical Phenomena (astro-ph.HE)\n",
      "\n",
      "The total score is: 2.25\n",
      "\n"
     ]
    }
   ],
   "source": [
    "lp_d.head(sync=True)"
   ]
  },
  {
   "cell_type": "code",
   "execution_count": 8,
   "metadata": {},
   "outputs": [
    {
     "name": "stdout",
     "output_type": "stream",
     "text": [
      "{'chemistry': 1.0, 'galactic center': 1.0, 'snr': 1.0, 'supernova remnant': 1.0, 'cosmic ray': 0.5}\n"
     ]
    }
   ],
   "source": [
    "print(lp_c._boost)"
   ]
  },
  {
   "cell_type": "code",
   "execution_count": 9,
   "metadata": {},
   "outputs": [
    {
     "data": {
      "text/plain": [
       "'arXiv:1910.03580'"
      ]
     },
     "execution_count": 9,
     "metadata": {},
     "output_type": "execute_result"
    }
   ],
   "source": [
    "lp_c[0].arxiv_id"
   ]
  },
  {
   "cell_type": "code",
   "execution_count": null,
   "metadata": {},
   "outputs": [],
   "source": []
  }
 ],
 "metadata": {
  "kernelspec": {
   "display_name": "Python 3",
   "language": "python",
   "name": "python3"
  },
  "language_info": {
   "codemirror_mode": {
    "name": "ipython",
    "version": 3
   },
   "file_extension": ".py",
   "mimetype": "text/x-python",
   "name": "python",
   "nbconvert_exporter": "python",
   "pygments_lexer": "ipython3",
   "version": "3.6.2"
  }
 },
 "nbformat": 4,
 "nbformat_minor": 2
}
