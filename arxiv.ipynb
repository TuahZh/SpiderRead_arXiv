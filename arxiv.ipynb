{
 "cells": [
  {
   "cell_type": "code",
   "execution_count": 1,
   "metadata": {},
   "outputs": [
    {
     "name": "stdout",
     "output_type": "stream",
     "text": [
      "Populating the interactive namespace from numpy and matplotlib\n"
     ]
    }
   ],
   "source": [
    "%pylab inline\n",
    "from papers import *"
   ]
  },
  {
   "cell_type": "code",
   "execution_count": 2,
   "metadata": {},
   "outputs": [
    {
     "name": "stdout",
     "output_type": "stream",
     "text": [
      "New submissions for Wed,  9 Oct 19\n",
      "Sleep...\n",
      "Awake...\n"
     ]
    }
   ],
   "source": [
    "pl, ts = arxiv_reading()\n",
    "with open(\"./list_pkls/\"+ts.split(\",\")[-1].strip().replace(\" \", \"_\")+\"_paper_list.pkl\", \"wb\") as f:\n",
    "    pck.dump(pl, f)\n",
    "    \n",
    "lp_c = ListPapers(pl)"
   ]
  },
  {
   "cell_type": "code",
   "execution_count": 3,
   "metadata": {},
   "outputs": [
    {
     "name": "stdout",
     "output_type": "stream",
     "text": [
      "Number of papers: 59\n",
      "Subjects: \n",
      "['High Energy Astrophysical Phenomena (astro-ph.HE)', 'General Relativity and Quantum Cosmology (gr-qc)', 'Instrumentation and Methods for Astrophysics (astro-ph.IM)', 'Astrophysics of Galaxies (astro-ph.GA)', 'Applications (stat.AP)', 'Methodology (stat.ME)', 'Solar and Stellar Astrophysics (astro-ph.SR)', 'Earth and Planetary Astrophysics (astro-ph.EP)', 'Cosmology and Nongalactic Astrophysics (astro-ph.CO)', 'High Energy Physics - Phenomenology (hep-ph)', 'High Energy Physics - Theory (hep-th)', 'Plasma Physics (physics.plasm-ph)', 'Space Physics (physics.space-ph)']\n",
      "Key words: \n",
      "\n",
      "Exclude key words: \n",
      "Total scores:\n",
      "\n"
     ]
    }
   ],
   "source": [
    "lp_c.summary()"
   ]
  },
  {
   "cell_type": "code",
   "execution_count": 4,
   "metadata": {},
   "outputs": [
    {
     "name": "stdout",
     "output_type": "stream",
     "text": [
      "Number of papers: 59\n",
      "Subjects: \n",
      "['High Energy Astrophysical Phenomena (astro-ph.HE)', 'General Relativity and Quantum Cosmology (gr-qc)', 'Instrumentation and Methods for Astrophysics (astro-ph.IM)', 'Astrophysics of Galaxies (astro-ph.GA)', 'Applications (stat.AP)', 'Methodology (stat.ME)', 'Solar and Stellar Astrophysics (astro-ph.SR)', 'Earth and Planetary Astrophysics (astro-ph.EP)', 'Cosmology and Nongalactic Astrophysics (astro-ph.CO)', 'High Energy Physics - Phenomenology (hep-ph)', 'High Energy Physics - Theory (hep-th)', 'Plasma Physics (physics.plasm-ph)', 'Space Physics (physics.space-ph)']\n",
      "Key words: \n",
      "['Chemistry', 'Galactic center', 'SNR', 'Supernova Remnant', 'Cosmic Ray']\n",
      "Exclude key words: \n",
      "Total scores:\n",
      "[0.0, 0.0, 0.0, 0.0, 0.0, 0.0, 0.0, 0.0, 0.0, 0.0, 0.0, 0.0, 0.0, 0.0, 0.0, 0.0, 0.0, 0.0, 0.0, 0.0, 3.661933962965747, 0.0, 0.0, 0.0, 0.0, 0.0, 0.0, 0.0, 0.0, 0.0, 0.0, 0.0, 0.0, 0.0, 4.6653931431784805, 0.0, 0.0, 0.0, 0.0, 3.9158089333488917, 0.0, 0.0, 0.0, 0.0, 0.0, 0.0, 0.0, 0.0, 0.0, 0.0, 0.0, 0.0, 0.0, 0.0, 0.0, 0.0, 0.0, 0.0, 0.0]\n"
     ]
    }
   ],
   "source": [
    "lp_c.add_key_words([\"Chemistry\", \"Galactic center\", \"SNR\", \"Supernova Remnant\"])\n",
    "lp_c.add_key_words(\"Cosmic Ray\", boost=0.5)\n",
    "lp_c.summary()\n"
   ]
  },
  {
   "cell_type": "code",
   "execution_count": 5,
   "metadata": {},
   "outputs": [
    {
     "name": "stdout",
     "output_type": "stream",
     "text": [
      "ID: arXiv:1910.03308\n",
      "Title: Cloud-cloud collisions in the common foot point of molecular loops 1 and  2 in the Galactic Center\n",
      "Authors: Rei Enokiya; Kazufumi Torii; Yasuo Fukui\n",
      "Date: New submissions for Wed,  9 Oct 19\n",
      "Abstract: Recent large-area, deep CO surveys in the Galactic disk have revealed the\n",
      "formation of ~50 high-mass stars or clusters triggered by cloud-cloud\n",
      "collisions (CCCs). Although the Galactic Center (GC) -- which contains the\n",
      "highest volume density of molecular gas -- is the most favorable place for\n",
      "cloud collisions, systematic studies of CCCs in that region are still\n",
      "untouched. Here we report for the first time evidence of CCCs in the common\n",
      "foot point of molecular loops 1 and 2 in the GC. We have investigated the\n",
      "distribution of molecular gas toward the foot point by using a methodology for\n",
      "identifying CCCs, and we have discovered clear signatures of CCCs. Using the\n",
      "estimated displacements and relative velocities of the clouds, we find the\n",
      "elapsed time since the beginnings of the collisions to be 105-6 yr. We consider\n",
      "possible origins for previously reported peculiar velocity features in the foot\n",
      "point and discuss star formation triggered by CCCs in the GC.\n",
      "Comments: 27 pages, 11 figures, 2 tables, accepted PASJ\n",
      "Link: \n",
      "Subjects: Astrophysics of Galaxies (astro-ph.GA)\n",
      "\n",
      "The total score is: 4.67\n",
      "\n",
      "ID: arXiv:1910.03357\n",
      "Title: Trigonometric Parallaxes Of High-Mass Star Forming Regions: Our View Of  The Milky Way\n",
      "Authors: M. J. Reid; K. M. Menten; A. Brunthaler; X. W. Zheng; T. M. Dame; Y. Xu; J. Li; N. Sakai; Y. Wu; K. Immer; B. Zhang; A. Sanna; L. Moscadelli; K. L. J. Rygl; A. Bartkiewicz; B. Hu; L. H. Quiroga-Nunez; H. J. van Langevelde\n",
      "Date: New submissions for Wed,  9 Oct 19\n",
      "Abstract: We compile and analyze ~200 trigonometric parallaxes and proper motions of\n",
      "molecular masers associated with very young high-mass stars. These measurements\n",
      "strongly suggest that the Milky Way is a four-arm spiral. Fitting log-periodic\n",
      "spirals to the locations of the masers, allows us to significantly expand our\n",
      "view of the structure of the Milky Way. We present an updated model for its\n",
      "spiral structure and incorporate it into our previously published\n",
      "parallax-based distance-estimation program for sources associated with spiral\n",
      "arms. Modeling the three-dimensional space motions yields estimates of the\n",
      "distance to the Galactic center, Ro = 8.15 +/- 0.15 kpc, the circular rotation\n",
      "speed at the Sun's position, To = 236 +/- 7 km/s, and the nature of the\n",
      "rotation curve. Our data strongly constrain the full circular velocity of the\n",
      "Sun, To + Vsun = 247 +/- 4 km/s, and its angular velocity, (To + Vsun)/Ro =\n",
      "30.32 +/- 0.27 km/s/kpc. Transforming the measured space motions to a\n",
      "Galactocentric frame which rotates with the Galaxy, we find non-circular\n",
      "velocity components typically about 10 km/s. However, near the Galactic bar and\n",
      "in a portion of the Perseus arm, we find significantly larger non-circular\n",
      "motions. Young high-mass stars within 7 kpc of the Galactic center have a scale\n",
      "height of only 19 pc and, thus, are well suited to define the Galactic plane.\n",
      "We find that the orientation of the plane is consistent with the IAU-defined\n",
      "plane to within +/-0.1 deg., and that the Sun is offset toward the north\n",
      "Galactic pole by Zsun = 5.5 +/- 5.8 pc. Accounting for this offset places the\n",
      "central supermassive black hole, Sgr A*, in the midplane of the Galaxy. Using\n",
      "our improved Galactic parameters, we predict the Hulse-Taylor binary pulsar to\n",
      "be at a distance of 6.54 +/- 0.24 kpc, assuming its orbital decay from\n",
      "gravitational radiation follows general relativity.\n",
      "Comments: 47 pages; 11 figures, 4 tables\n",
      "Link: \n",
      "Subjects: Astrophysics of Galaxies (astro-ph.GA)\n",
      "\n",
      "The total score is: 3.92\n",
      "\n",
      "ID: arXiv:1910.03052\n",
      "Title: The Role of Pressure Anisotropy in Cosmic Ray Hydrodynamics\n",
      "Authors: Ellen G. Zweibel\n",
      "Date: New submissions for Wed,  9 Oct 19\n",
      "Abstract: Cosmic ray propagation in the Milky Way and other galaxies is largely\n",
      "diffusive, with mean free path determined primarily by pitch angle scattering\n",
      "from hydromagnetic waves with wavelength of order the cosmic ray gyroradius. In\n",
      "the theory of cosmic ray self confinement, the waves are generated by\n",
      "instabilities driven by the cosmic rays themselves. The dominant instability is\n",
      "due to bulk motion, or streaming, of the cosmic rays, parallel to the\n",
      "background magnetic field B, and transfers cosmic ray momentum and energy to\n",
      "the thermal gas as well as confining the cosmic rays. Classical arguments and\n",
      "recent numerical simulations show that self confinement due to the streaming\n",
      "instability breaks down unless the cosmic ray pressure and thermal gas density\n",
      "gradients parallel to B are aligned, a condition which is unlikely to always be\n",
      "satisfied We investigate an alternative mechanism for cosmic ray self\n",
      "confinement and heating of thermal gas based on pressure anisotropy\n",
      "instability. Although pressure anisotropy is demonstrably less effective than\n",
      "streaming instability as a self confinement and heating mechanism on global\n",
      "scales, it may be important on mesoscales, particularly near sites of cosmic\n",
      "ray injection.\n",
      "Comments: Submitted to The Astrophysical Journal\n",
      "Link: \n",
      "Subjects: High Energy Astrophysical Phenomena (astro-ph.HE); Astrophysics of Galaxies (astro-ph.GA); Plasma Physics (physics.plasm-ph)\n",
      "\n",
      "The total score is: 3.66\n",
      "\n"
     ]
    }
   ],
   "source": [
    "lp_c.head()"
   ]
  },
  {
   "cell_type": "code",
   "execution_count": 6,
   "metadata": {},
   "outputs": [
    {
     "name": "stdout",
     "output_type": "stream",
     "text": [
      "Number of papers: 51\n",
      "Subjects: \n",
      "['High Energy Astrophysical Phenomena (astro-ph.HE)', 'General Relativity and Quantum Cosmology (gr-qc)', 'Instrumentation and Methods for Astrophysics (astro-ph.IM)', 'Astrophysics of Galaxies (astro-ph.GA)', 'Applications (stat.AP)', 'Methodology (stat.ME)', 'Solar and Stellar Astrophysics (astro-ph.SR)', 'Cosmology and Nongalactic Astrophysics (astro-ph.CO)', 'High Energy Physics - Phenomenology (hep-ph)', 'High Energy Physics - Theory (hep-th)', 'Plasma Physics (physics.plasm-ph)', 'Space Physics (physics.space-ph)']\n",
      "Key words: \n",
      "['Chemistry', 'Galactic center', 'SNR', 'Supernova Remnant', 'Cosmic Ray']\n",
      "Exclude key words: \n",
      "Total scores:\n",
      "[0.0, 0.0, 0.0, 0.0, 0.0, 0.0, 0.0, 0.0, 0.0, 0.0, 0.0, 0.0, 0.0, 0.0, 0.0, 0.0, 0.0, 3.5162785242829893, 0.0, 0.0, 0.0, 0.0, 0.0, 0.0, 0.0, 0.0, 0.0, 0.0, 0.0, 4.440315122605897, 0.0, 0.0, 0.0, 0.0, 3.7202534219003787, 0.0, 0.0, 0.0, 0.0, 0.0, 0.0, 0.0, 0.0, 0.0, 0.0, 0.0, 0.0, 0.0, 0.0, 0.0, 0.0]\n"
     ]
    }
   ],
   "source": [
    "lp_d = lp_c.filter_subjects('Earth and Planetary Astrophysics (astro-ph.EP)', exclude=True)\n",
    "lp_d.summary()"
   ]
  },
  {
   "cell_type": "code",
   "execution_count": 7,
   "metadata": {},
   "outputs": [
    {
     "name": "stdout",
     "output_type": "stream",
     "text": [
      "ID: arXiv:1910.03308\n",
      "Title: Cloud-cloud collisions in the common foot point of molecular loops 1 and 2 in the Galactic Center\n",
      "Authors: Enokiya, Rei; Torii, Kazufumi; Fukui, Yasuo\n",
      "Date: 2019/10/08\n",
      "Abstract: Recent large-area, deep CO surveys in the Galactic disk have revealed the\n",
      "formation of ~50 high-mass stars or clusters triggered by cloud-cloud\n",
      "collisions (CCCs). Although the Galactic Center (GC) -- which contains the\n",
      "highest volume density of molecular gas -- is the most favorable place for\n",
      "cloud collisions, systematic studies of CCCs in that region are still\n",
      "untouched. Here we report for the first time evidence of CCCs in the common\n",
      "foot point of molecular loops 1 and 2 in the GC. We have investigated the\n",
      "distribution of molecular gas toward the foot point by using a methodology for\n",
      "identifying CCCs, and we have discovered clear signatures of CCCs. Using the\n",
      "estimated displacements and relative velocities of the clouds, we find the\n",
      "elapsed time since the beginnings of the collisions to be 105-6 yr. We consider\n",
      "possible origins for previously reported peculiar velocity features in the foot\n",
      "point and discuss star formation triggered by CCCs in the GC.\n",
      "Comments: 27 pages, 11 figures, 2 tables, accepted PASJ\n",
      "Link: https://arxiv.org/abs/arXiv:1910.03308\n",
      "Subjects: Astrophysics of Galaxies (astro-ph.GA)\n",
      "\n",
      "The total score is: 4.44\n",
      "\n",
      "ID: arXiv:1910.03357\n",
      "Title: Trigonometric Parallaxes Of High-Mass Star Forming Regions: Our View Of The Milky Way\n",
      "Authors: Reid, M. J.; Menten, K. M.; Brunthaler, A.; Zheng, X. W.; Dame, T. M.; Xu, Y.; Li, J.; Sakai, N.; Wu, Y.; Immer, K.; Zhang, B.; Sanna, A.; Moscadelli, L.; Rygl, K. L. J.; Bartkiewicz, A.; Hu, B.; Quiroga-Nunez, L. H.; van Langevelde, H. J.\n",
      "Date: 2019/10/08\n",
      "Abstract: We compile and analyze ~200 trigonometric parallaxes and proper motions of\n",
      "molecular masers associated with very young high-mass stars. These measurements\n",
      "strongly suggest that the Milky Way is a four-arm spiral. Fitting log-periodic\n",
      "spirals to the locations of the masers, allows us to significantly expand our\n",
      "view of the structure of the Milky Way. We present an updated model for its\n",
      "spiral structure and incorporate it into our previously published\n",
      "parallax-based distance-estimation program for sources associated with spiral\n",
      "arms. Modeling the three-dimensional space motions yields estimates of the\n",
      "distance to the Galactic center, Ro = 8.15 +/- 0.15 kpc, the circular rotation\n",
      "speed at the Sun's position, To = 236 +/- 7 km/s, and the nature of the\n",
      "rotation curve. Our data strongly constrain the full circular velocity of the\n",
      "Sun, To + Vsun = 247 +/- 4 km/s, and its angular velocity, (To + Vsun)/Ro =\n",
      "30.32 +/- 0.27 km/s/kpc. Transforming the measured space motions to a\n",
      "Galactocentric frame which rotates with the Galaxy, we find non-circular\n",
      "velocity components typically about 10 km/s. However, near the Galactic bar and\n",
      "in a portion of the Perseus arm, we find significantly larger non-circular\n",
      "motions. Young high-mass stars within 7 kpc of the Galactic center have a scale\n",
      "height of only 19 pc and, thus, are well suited to define the Galactic plane.\n",
      "We find that the orientation of the plane is consistent with the IAU-defined\n",
      "plane to within +/-0.1 deg., and that the Sun is offset toward the north\n",
      "Galactic pole by Zsun = 5.5 +/- 5.8 pc. Accounting for this offset places the\n",
      "central supermassive black hole, Sgr A*, in the midplane of the Galaxy. Using\n",
      "our improved Galactic parameters, we predict the Hulse-Taylor binary pulsar to\n",
      "be at a distance of 6.54 +/- 0.24 kpc, assuming its orbital decay from\n",
      "gravitational radiation follows general relativity.\n",
      "Comments: 47 pages; 11 figures, 4 tables\n",
      "Link: https://arxiv.org/abs/arXiv:1910.03357\n",
      "Subjects: Astrophysics of Galaxies (astro-ph.GA)\n",
      "\n",
      "The total score is: 3.72\n",
      "\n",
      "ID: arXiv:1910.03052\n",
      "Title: The Role of Pressure Anisotropy in Cosmic Ray Hydrodynamics\n",
      "Authors: Zweibel, Ellen G.\n",
      "Date: 2019/10/07\n",
      "Abstract: Cosmic ray propagation in the Milky Way and other galaxies is largely\n",
      "diffusive, with mean free path determined primarily by pitch angle scattering\n",
      "from hydromagnetic waves with wavelength of order the cosmic ray gyroradius. In\n",
      "the theory of cosmic ray self confinement, the waves are generated by\n",
      "instabilities driven by the cosmic rays themselves. The dominant instability is\n",
      "due to bulk motion, or streaming, of the cosmic rays, parallel to the\n",
      "background magnetic field B, and transfers cosmic ray momentum and energy to\n",
      "the thermal gas as well as confining the cosmic rays. Classical arguments and\n",
      "recent numerical simulations show that self confinement due to the streaming\n",
      "instability breaks down unless the cosmic ray pressure and thermal gas density\n",
      "gradients parallel to B are aligned, a condition which is unlikely to always be\n",
      "satisfied We investigate an alternative mechanism for cosmic ray self\n",
      "confinement and heating of thermal gas based on pressure anisotropy\n",
      "instability. Although pressure anisotropy is demonstrably less effective than\n",
      "streaming instability as a self confinement and heating mechanism on global\n",
      "scales, it may be important on mesoscales, particularly near sites of cosmic\n",
      "ray injection.\n",
      "Comments: Submitted to The Astrophysical Journal\n",
      "Link: https://arxiv.org/abs/arXiv:1910.03052\n",
      "Subjects: High Energy Astrophysical Phenomena (astro-ph.HE); Astrophysics of Galaxies (astro-ph.GA); Plasma Physics (physics.plasm-ph)\n",
      "\n",
      "The total score is: 3.52\n",
      "\n"
     ]
    }
   ],
   "source": [
    "lp_d.head(sync=True)"
   ]
  },
  {
   "cell_type": "code",
   "execution_count": 8,
   "metadata": {},
   "outputs": [
    {
     "name": "stdout",
     "output_type": "stream",
     "text": [
      "{'chemistry': 1.0, 'galactic center': 1.0, 'snr': 1.0, 'supernova remnant': 1.0, 'cosmic ray': 0.5}\n"
     ]
    }
   ],
   "source": [
    "print(lp_c._boost)"
   ]
  },
  {
   "cell_type": "code",
   "execution_count": 9,
   "metadata": {},
   "outputs": [
    {
     "data": {
      "text/plain": [
       "'arXiv:1910.02956'"
      ]
     },
     "execution_count": 9,
     "metadata": {},
     "output_type": "execute_result"
    }
   ],
   "source": [
    "lp_c[0].arxiv_id"
   ]
  },
  {
   "cell_type": "code",
   "execution_count": null,
   "metadata": {},
   "outputs": [],
   "source": []
  }
 ],
 "metadata": {
  "kernelspec": {
   "display_name": "Python 3",
   "language": "python",
   "name": "python3"
  },
  "language_info": {
   "codemirror_mode": {
    "name": "ipython",
    "version": 3
   },
   "file_extension": ".py",
   "mimetype": "text/x-python",
   "name": "python",
   "nbconvert_exporter": "python",
   "pygments_lexer": "ipython3",
   "version": "3.6.2"
  }
 },
 "nbformat": 4,
 "nbformat_minor": 2
}
