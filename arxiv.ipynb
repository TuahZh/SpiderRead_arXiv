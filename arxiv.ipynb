{
 "cells": [
  {
   "cell_type": "code",
   "execution_count": 1,
   "metadata": {},
   "outputs": [
    {
     "name": "stdout",
     "output_type": "stream",
     "text": [
      "Populating the interactive namespace from numpy and matplotlib\n"
     ]
    }
   ],
   "source": [
    "%pylab inline\n",
    "from papers import *"
   ]
  },
  {
   "cell_type": "code",
   "execution_count": 2,
   "metadata": {},
   "outputs": [
    {
     "name": "stdout",
     "output_type": "stream",
     "text": [
      "New submissions for Mon,  7 Oct 19\n",
      "Sleep...\n",
      "Awake...\n"
     ]
    }
   ],
   "source": [
    "pl, ts = arxiv_reading()\n",
    "with open(\"./list_pkls/\"+ts.split(\",\")[-1].strip().replace(\" \", \"_\")+\"_paper_list.pkl\", \"wb\") as f:\n",
    "    pck.dump(pl, f)\n",
    "    \n",
    "lp_c = ListPapers(pl)"
   ]
  },
  {
   "cell_type": "code",
   "execution_count": 3,
   "metadata": {},
   "outputs": [
    {
     "name": "stdout",
     "output_type": "stream",
     "text": [
      "Number of papers: 36\n",
      "Subjects: \n",
      "['Solar and Stellar Astrophysics (astro-ph.SR)', 'Instrumentation and Methods for Astrophysics (astro-ph.IM)', 'Fluid Dynamics (physics.flu-dyn)', 'Astrophysics of Galaxies (astro-ph.GA)', 'Cosmology and Nongalactic Astrophysics (astro-ph.CO)', 'Earth and Planetary Astrophysics (astro-ph.EP)', 'General Relativity and Quantum Cosmology (gr-qc)', 'High Energy Astrophysical Phenomena (astro-ph.HE)', 'Quantum Physics (quant-ph)', 'High Energy Physics - Theory (hep-th)', 'High Energy Physics - Experiment (hep-ex)', 'Instrumentation and Detectors (physics.ins-det)']\n",
      "Key words: \n",
      "\n",
      "Exclude key words: \n",
      "Total scores:\n",
      "\n"
     ]
    }
   ],
   "source": [
    "lp_c.summary()"
   ]
  },
  {
   "cell_type": "code",
   "execution_count": 4,
   "metadata": {},
   "outputs": [
    {
     "name": "stdout",
     "output_type": "stream",
     "text": [
      "Number of papers: 36\n",
      "Subjects: \n",
      "['Solar and Stellar Astrophysics (astro-ph.SR)', 'Instrumentation and Methods for Astrophysics (astro-ph.IM)', 'Fluid Dynamics (physics.flu-dyn)', 'Astrophysics of Galaxies (astro-ph.GA)', 'Cosmology and Nongalactic Astrophysics (astro-ph.CO)', 'Earth and Planetary Astrophysics (astro-ph.EP)', 'General Relativity and Quantum Cosmology (gr-qc)', 'High Energy Astrophysical Phenomena (astro-ph.HE)', 'Quantum Physics (quant-ph)', 'High Energy Physics - Theory (hep-th)', 'High Energy Physics - Experiment (hep-ex)', 'Instrumentation and Detectors (physics.ins-det)']\n",
      "Key words: \n",
      "['Chemistry', 'Galactic center', 'SNR', 'Supernova Remnant', 'Cosmic Ray']\n",
      "Exclude key words: \n",
      "Total scores:\n",
      "[0.0, 0.0, 2.8727636354391248, 0.0, 0.0, 0.0, 0.0, 0.0, 0.0, 9.337844162970578, 0.0, 0.0, 0.0, 0.0, 0.0, 0.0, 0.0, 0.0, 0.0, 0.0, 0.0, 0.0, 0.0, 0.0, 0.0, 0.0, 3.0729870113865014, 0.0, 0.0, 0.0, 0.0, 0.0, 0.0, 0.0, 0.0, 0.0]\n"
     ]
    }
   ],
   "source": [
    "lp_c.add_key_words([\"Chemistry\", \"Galactic center\", \"SNR\", \"Supernova Remnant\"])\n",
    "lp_c.add_key_words(\"Cosmic Ray\", boost=0.5)\n",
    "lp_c.summary()\n"
   ]
  },
  {
   "cell_type": "code",
   "execution_count": 5,
   "metadata": {},
   "outputs": [
    {
     "name": "stdout",
     "output_type": "stream",
     "text": [
      "ID: arXiv:1910.01668\n",
      "Title: Evolving Supernova Remnants in Multiphase Interstellar Media\n",
      "Authors: Marco A. Villagran; P.F. Velázquez; D.O. Gómez; E.B. Giacani\n",
      "Date: New submissions for Mon,  7 Oct 19\n",
      "Abstract: We performed three-dimensional magnetohydrodynamic simulations to study the\n",
      "evolution of a supernova remnant (SNR) in a turbulent neutral atomic\n",
      "interstellar medium. The media used as background shares characteristics with\n",
      "the Solar neighbourhood and the SNR has mass and energy similar to those of a\n",
      "Type Ia object. Our initial conditions consist of dense clouds in a diluted\n",
      "medium, with the main difference between simulations being the average\n",
      "magnitude of the magnetic field. We measured amplifications of the magnetic\n",
      "energy of up to 34$\\%$ and we generated synthetic maps that illustrate how the\n",
      "same object can show different apparent geometries and physical properties when\n",
      "observed through different lines of sight.\n",
      "Comments: \n",
      "Link: \n",
      "Subjects: Astrophysics of Galaxies (astro-ph.GA); High Energy Astrophysical Phenomena (astro-ph.HE); Solar and Stellar Astrophysics (astro-ph.SR)\n",
      "\n",
      "The total score is: 9.34\n",
      "\n",
      "ID: arXiv:1910.01926\n",
      "Title: On the origin of jet-like features in bow shock pulsar wind nebulae\n",
      "Authors: Barbara Olmi; Niccolò Bucciantini\n",
      "Date: New submissions for Mon,  7 Oct 19\n",
      "Abstract: Bow shock pulsar wind nebulae are a large class of non-thermal synchrotron\n",
      "sources associated to old pulsars, that have emerged from their parent\n",
      "supernova remnant and are directly interacting with the interstellar medium.\n",
      "Within this class a few objects show extended X-ray features, generally\n",
      "referred as \"jets\", that defies all the expectations from the canonical MHD\n",
      "models, being strongly misaligned respect to the pulsar direction of motion. It\n",
      "has been suggested that these jets might originate from high energy particles\n",
      "that escape from the system. Here we investigate this possibility, computing\n",
      "particle trajectories on top of a 3D relativistic MHD model of the flow and\n",
      "magnetic field structure, and we show not only that beamed escape is possible,\n",
      "but that it can easily be asymmetric and charge separated, which as we will\n",
      "discuss are important aspects to explain known objects.\n",
      "Comments: 8 pages, 4 figures\n",
      "Link: \n",
      "Subjects: High Energy Astrophysical Phenomena (astro-ph.HE)\n",
      "\n",
      "The total score is: 3.07\n",
      "\n",
      "ID: arXiv:1910.01646\n",
      "Title: Searching for Solar Siblings in APOGEE and $Gaia$ DR2 with N-body  Simulations\n",
      "Authors: Jeremy J. Webb; Natalie Price-Jones; Jo Bovy; Simon Portegies Zwart; Jason A. S. Hunt; J. Ted Mackereth; Henry W. Leung\n",
      "Date: New submissions for Mon,  7 Oct 19\n",
      "Abstract: We make use of APOGEE and $Gaia$ data to identify stars that are consistent\n",
      "with being born in the same star cluster as the Sun. We limit our analysis to\n",
      "stars that match solar abundances within their uncertainties, as they could\n",
      "have formed from the same Giant Molecular Cloud (GMC) as the Sun. We constrain\n",
      "the range of orbital actions that solar siblings can have with a suite of\n",
      "simulations of solar birth clusters evolved in static and time-dependent tidal\n",
      "fields. In the static tidal field, which contains a bulge, disk, and halo,\n",
      "simulated solar siblings all have $5.8 < J_R < 7.4$ km $\\rm s^{-1}$ kpc, $1848\n",
      "< L_z < 1868$ km $\\rm s^{-1}$ kpc, and $0.27 < J_z < 0.49$ km $\\rm s^{-1}$ kpc.\n",
      "Given the actions of stars in APOGEE and $Gaia$, we find one star (Solar\n",
      "Sibling 1) that meets these criteria and shares chemistry with the Sun.\n",
      "Incorporating the effects of a bar and spiral arms increases the range of\n",
      "possible $J_R$ and $L_z$ for cluster escapers, extending the candidate list to\n",
      "203 stars. Adding GMCs to the potential can eject solar siblings out of the\n",
      "plane of the disk and increase their $J_z$, resulting in a final candidate list\n",
      "of 550 stars. The entire suite of simulations indicate that solar siblings\n",
      "should have $J_R < 116$ km $\\rm s^{-1}$ kpc, $353 < L_z < 2110$ km $\\rm s^{-1}$\n",
      "kpc, and $J_z < 0.8$ km $\\rm s^{-1}$ kpc. Given these criteria, it is most\n",
      "likely that the Sun's birth cluster has reached dissolution and is not the\n",
      "commonly cited open cluster M67.\n",
      "Comments: 11 pages, 9 figures, 3 tables, Submitted for publication in MNRAS\n",
      "Link: \n",
      "Subjects: Astrophysics of Galaxies (astro-ph.GA)\n",
      "\n",
      "The total score is: 2.87\n",
      "\n"
     ]
    }
   ],
   "source": [
    "lp_c.head()"
   ]
  },
  {
   "cell_type": "code",
   "execution_count": 6,
   "metadata": {},
   "outputs": [
    {
     "name": "stdout",
     "output_type": "stream",
     "text": [
      "Number of papers: 32\n",
      "Subjects: \n",
      "['Solar and Stellar Astrophysics (astro-ph.SR)', 'Instrumentation and Methods for Astrophysics (astro-ph.IM)', 'Fluid Dynamics (physics.flu-dyn)', 'Astrophysics of Galaxies (astro-ph.GA)', 'Cosmology and Nongalactic Astrophysics (astro-ph.CO)', 'General Relativity and Quantum Cosmology (gr-qc)', 'High Energy Astrophysical Phenomena (astro-ph.HE)', 'Quantum Physics (quant-ph)', 'High Energy Physics - Theory (hep-th)', 'High Energy Physics - Experiment (hep-ex)', 'Instrumentation and Detectors (physics.ins-det)']\n",
      "Key words: \n",
      "['Chemistry', 'Galactic center', 'SNR', 'Supernova Remnant', 'Cosmic Ray']\n",
      "Exclude key words: \n",
      "Total scores:\n",
      "[0.0, 0.0, 2.7658708857048588, 0.0, 0.0, 0.0, 0.0, 0.0, 8.9705103212306021, 0.0, 0.0, 0.0, 0.0, 0.0, 0.0, 0.0, 0.0, 0.0, 0.0, 0.0, 0.0, 0.0, 0.0, 2.9393021906123384, 0.0, 0.0, 0.0, 0.0, 0.0, 0.0, 0.0, 0.0]\n"
     ]
    }
   ],
   "source": [
    "lp_d = lp_c.filter_subjects('Earth and Planetary Astrophysics (astro-ph.EP)', exclude=True)\n",
    "lp_d.summary()"
   ]
  },
  {
   "cell_type": "code",
   "execution_count": 7,
   "metadata": {},
   "outputs": [
    {
     "name": "stdout",
     "output_type": "stream",
     "text": [
      "ID: arXiv:1910.01668\n",
      "Title: Evolving Supernova Remnants in Multiphase Interstellar Media\n",
      "Authors: Villagran, Marco A.; Velázquez, P. F.; Gómez, D. O.; Giacani, E. B.\n",
      "Date: 2019/10/03\n",
      "Abstract: We performed three-dimensional magnetohydrodynamic simulations to study the\n",
      "evolution of a supernova remnant (SNR) in a turbulent neutral atomic\n",
      "interstellar medium. The media used as background shares characteristics with\n",
      "the Solar neighbourhood and the SNR has mass and energy similar to those of a\n",
      "Type Ia object. Our initial conditions consist of dense clouds in a diluted\n",
      "medium, with the main difference between simulations being the average\n",
      "magnitude of the magnetic field. We measured amplifications of the magnetic\n",
      "energy of up to 34$\\%$ and we generated synthetic maps that illustrate how the\n",
      "same object can show different apparent geometries and physical properties when\n",
      "observed through different lines of sight.\n",
      "Comments: \n",
      "Link: https://arxiv.org/abs/arXiv:1910.01668\n",
      "Subjects: Astrophysics of Galaxies (astro-ph.GA); High Energy Astrophysical Phenomena (astro-ph.HE); Solar and Stellar Astrophysics (astro-ph.SR)\n",
      "\n",
      "The total score is: 8.97\n",
      "\n",
      "ID: arXiv:1910.01926\n",
      "Title: On the origin of jet-like features in bow shock pulsar wind nebulae\n",
      "Authors: Olmi, Barbara; Bucciantini, Niccolò\n",
      "Date: 2019/10/04\n",
      "Abstract: Bow shock pulsar wind nebulae are a large class of non-thermal synchrotron\n",
      "sources associated to old pulsars, that have emerged from their parent\n",
      "supernova remnant and are directly interacting with the interstellar medium.\n",
      "Within this class a few objects show extended X-ray features, generally\n",
      "referred as \"jets\", that defies all the expectations from the canonical MHD\n",
      "models, being strongly misaligned respect to the pulsar direction of motion. It\n",
      "has been suggested that these jets might originate from high energy particles\n",
      "that escape from the system. Here we investigate this possibility, computing\n",
      "particle trajectories on top of a 3D relativistic MHD model of the flow and\n",
      "magnetic field structure, and we show not only that beamed escape is possible,\n",
      "but that it can easily be asymmetric and charge separated, which as we will\n",
      "discuss are important aspects to explain known objects.\n",
      "Comments: 8 pages, 4 figures\n",
      "Link: https://arxiv.org/abs/arXiv:1910.01926\n",
      "Subjects: High Energy Astrophysical Phenomena (astro-ph.HE)\n",
      "\n",
      "The total score is: 2.94\n",
      "\n",
      "ID: arXiv:1910.01646\n",
      "Title: Searching for Solar Siblings in APOGEE and $Gaia$ DR2 with N-body Simulations\n",
      "Authors: Webb, Jeremy J.; Price-Jones, Natalie; Bovy, Jo; Zwart, Simon Portegies; Hunt, Jason A. S.; Mackereth, J. Ted; Leung, Henry W.\n",
      "Date: 2019/10/03\n",
      "Abstract: We make use of APOGEE and $Gaia$ data to identify stars that are consistent\n",
      "with being born in the same star cluster as the Sun. We limit our analysis to\n",
      "stars that match solar abundances within their uncertainties, as they could\n",
      "have formed from the same Giant Molecular Cloud (GMC) as the Sun. We constrain\n",
      "the range of orbital actions that solar siblings can have with a suite of\n",
      "simulations of solar birth clusters evolved in static and time-dependent tidal\n",
      "fields. In the static tidal field, which contains a bulge, disk, and halo,\n",
      "simulated solar siblings all have $5.8 < J_R < 7.4$ km $\\rm s^{-1}$ kpc, $1848\n",
      "< L_z < 1868$ km $\\rm s^{-1}$ kpc, and $0.27 < J_z < 0.49$ km $\\rm s^{-1}$ kpc.\n",
      "Given the actions of stars in APOGEE and $Gaia$, we find one star (Solar\n",
      "Sibling 1) that meets these criteria and shares chemistry with the Sun.\n",
      "Incorporating the effects of a bar and spiral arms increases the range of\n",
      "possible $J_R$ and $L_z$ for cluster escapers, extending the candidate list to\n",
      "203 stars. Adding GMCs to the potential can eject solar siblings out of the\n",
      "plane of the disk and increase their $J_z$, resulting in a final candidate list\n",
      "of 550 stars. The entire suite of simulations indicate that solar siblings\n",
      "should have $J_R < 116$ km $\\rm s^{-1}$ kpc, $353 < L_z < 2110$ km $\\rm s^{-1}$\n",
      "kpc, and $J_z < 0.8$ km $\\rm s^{-1}$ kpc. Given these criteria, it is most\n",
      "likely that the Sun's birth cluster has reached dissolution and is not the\n",
      "commonly cited open cluster M67.\n",
      "Comments: 11 pages, 9 figures, 3 tables, Submitted for publication in MNRAS\n",
      "Link: https://arxiv.org/abs/arXiv:1910.01646\n",
      "Subjects: Astrophysics of Galaxies (astro-ph.GA)\n",
      "\n",
      "The total score is: 2.77\n",
      "\n"
     ]
    }
   ],
   "source": [
    "lp_d.head(sync=True)"
   ]
  },
  {
   "cell_type": "code",
   "execution_count": 8,
   "metadata": {},
   "outputs": [
    {
     "name": "stdout",
     "output_type": "stream",
     "text": [
      "{'chemistry': 1.0, 'galactic center': 1.0, 'snr': 1.0, 'supernova remnant': 1.0, 'cosmic ray': 0.5}\n"
     ]
    }
   ],
   "source": [
    "print(lp_c._boost)"
   ]
  },
  {
   "cell_type": "code",
   "execution_count": 12,
   "metadata": {},
   "outputs": [
    {
     "data": {
      "text/plain": [
       "'arXiv:1910.01643'"
      ]
     },
     "execution_count": 12,
     "metadata": {},
     "output_type": "execute_result"
    }
   ],
   "source": [
    "lp_c[0].arxiv_id"
   ]
  },
  {
   "cell_type": "code",
   "execution_count": 13,
   "metadata": {},
   "outputs": [
    {
     "data": {
      "text/plain": [
       "['__class__',\n",
       " '__delattr__',\n",
       " '__dict__',\n",
       " '__dir__',\n",
       " '__doc__',\n",
       " '__eq__',\n",
       " '__format__',\n",
       " '__ge__',\n",
       " '__getattribute__',\n",
       " '__getitem__',\n",
       " '__gt__',\n",
       " '__hash__',\n",
       " '__init__',\n",
       " '__init_subclass__',\n",
       " '__le__',\n",
       " '__len__',\n",
       " '__lt__',\n",
       " '__module__',\n",
       " '__ne__',\n",
       " '__new__',\n",
       " '__reduce__',\n",
       " '__reduce_ex__',\n",
       " '__repr__',\n",
       " '__setattr__',\n",
       " '__sizeof__',\n",
       " '__str__',\n",
       " '__subclasshook__',\n",
       " '__weakref__',\n",
       " '_boost',\n",
       " '_idf',\n",
       " '_kw_match',\n",
       " '_kw_n',\n",
       " '_subj_contain',\n",
       " '_tfnorm',\n",
       " '_update_tot_scores',\n",
       " 'add_key_words',\n",
       " 'all_subjects',\n",
       " 'aver_length',\n",
       " 'cal_key_word_scores',\n",
       " 'del_key_word',\n",
       " 'exclude_key_words',\n",
       " 'filter_subjects',\n",
       " 'head',\n",
       " 'key_words',\n",
       " 'list_paper',\n",
       " 'reset_exclude',\n",
       " 'scores',\n",
       " 'search_keyword',\n",
       " 'subjects_list',\n",
       " 'summary',\n",
       " 'tot_num',\n",
       " 'tot_scores']"
      ]
     },
     "execution_count": 13,
     "metadata": {},
     "output_type": "execute_result"
    }
   ],
   "source": [
    "dir(lp_c)"
   ]
  },
  {
   "cell_type": "code",
   "execution_count": null,
   "metadata": {},
   "outputs": [],
   "source": []
  }
 ],
 "metadata": {
  "kernelspec": {
   "display_name": "Python 3",
   "language": "python",
   "name": "python3"
  },
  "language_info": {
   "codemirror_mode": {
    "name": "ipython",
    "version": 3
   },
   "file_extension": ".py",
   "mimetype": "text/x-python",
   "name": "python",
   "nbconvert_exporter": "python",
   "pygments_lexer": "ipython3",
   "version": "3.6.2"
  }
 },
 "nbformat": 4,
 "nbformat_minor": 2
}
