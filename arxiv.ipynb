{
 "cells": [
  {
   "cell_type": "code",
   "execution_count": 1,
   "metadata": {},
   "outputs": [
    {
     "name": "stdout",
     "output_type": "stream",
     "text": [
      "Populating the interactive namespace from numpy and matplotlib\n"
     ]
    }
   ],
   "source": [
    "%pylab inline\n",
    "from papers import *"
   ]
  },
  {
   "cell_type": "code",
   "execution_count": 2,
   "metadata": {},
   "outputs": [
    {
     "name": "stdout",
     "output_type": "stream",
     "text": [
      "New submissions for Wed,  6 Nov 19\n",
      "Sleep...\n",
      "Awake...\n"
     ]
    }
   ],
   "source": [
    "pl, ts = arxiv_reading()\n",
    "with open(\"./list_pkls/\"+ts.split(\",\")[-1].strip().replace(\" \", \"_\")+\"_paper_list.pkl\", \"wb\") as f:\n",
    "    pck.dump(pl, f)\n",
    "    \n",
    "lp_c = ListPapers(pl)"
   ]
  },
  {
   "cell_type": "code",
   "execution_count": 3,
   "metadata": {},
   "outputs": [
    {
     "name": "stdout",
     "output_type": "stream",
     "text": [
      "Number of papers: 50\n",
      "Subjects: \n",
      "['Solar and Stellar Astrophysics (astro-ph.SR)', 'Astrophysics of Galaxies (astro-ph.GA)', 'High Energy Astrophysical Phenomena (astro-ph.HE)', 'Earth and Planetary Astrophysics (astro-ph.EP)', 'Instrumentation and Methods for Astrophysics (astro-ph.IM)', 'Cosmology and Nongalactic Astrophysics (astro-ph.CO)', 'Machine Learning (cs.LG)', 'General Relativity and Quantum Cosmology (gr-qc)', 'High Energy Physics - Phenomenology (hep-ph)', 'High Energy Physics - Theory (hep-th)', 'Nuclear Theory (nucl-th)']\n",
      "Key words: \n",
      "\n",
      "Exclude key words: \n",
      "Total scores:\n",
      "\n"
     ]
    }
   ],
   "source": [
    "lp_c.summary()"
   ]
  },
  {
   "cell_type": "code",
   "execution_count": 4,
   "metadata": {},
   "outputs": [
    {
     "name": "stdout",
     "output_type": "stream",
     "text": [
      "Number of papers: 50\n",
      "Subjects: \n",
      "['Solar and Stellar Astrophysics (astro-ph.SR)', 'Astrophysics of Galaxies (astro-ph.GA)', 'High Energy Astrophysical Phenomena (astro-ph.HE)', 'Earth and Planetary Astrophysics (astro-ph.EP)', 'Instrumentation and Methods for Astrophysics (astro-ph.IM)', 'Cosmology and Nongalactic Astrophysics (astro-ph.CO)', 'Machine Learning (cs.LG)', 'General Relativity and Quantum Cosmology (gr-qc)', 'High Energy Physics - Phenomenology (hep-ph)', 'High Energy Physics - Theory (hep-th)', 'Nuclear Theory (nucl-th)']\n",
      "Key words: \n",
      "['Chemistry', 'Galactic center', 'SNR', 'Supernova Remnant', 'MHD', 'turbulence', 'central parsec', 'Sgr A', 'Cosmic Ray']\n",
      "Exclude key words: \n",
      "Total scores:\n",
      "[0.0, 0.0, 0.0, 0.0, 0.0, 0.0, 0.0, 0.0, 0.0, 0.0, 0.0, 0.0, 3.5475946684417652, 0.0, 0.0, 0.0, 0.0, 0.0, 0.0, 0.0, 0.0, 0.0, 0.0, 0.0, 0.0, 0.0, 0.0, 0.0, 0.0, 0.0, 0.0, 0.0, 0.0, 0.0, 0.0, 0.0, 0.0, 0.0, 0.0, 0.0, 9.7813391418676652, 0.0, 0.0, 0.0, 0.0, 0.0, 0.0, 0.0, 0.0, 0.0]\n"
     ]
    }
   ],
   "source": [
    "lp_c.add_key_words([\"Chemistry\", \"Galactic center\", \"SNR\", \"Supernova Remnant\", \"MHD\", \"turbulence\", \\\n",
    "                   \"central parsec\", \"Sgr A\"])\n",
    "lp_c.add_key_words(\"Cosmic Ray\", boost=0.5)\n",
    "lp_c.summary()\n"
   ]
  },
  {
   "cell_type": "code",
   "execution_count": 5,
   "metadata": {},
   "outputs": [
    {
     "name": "stdout",
     "output_type": "stream",
     "text": [
      "ID: arXiv:1911.01838\n",
      "Title: General relativistic magnetohydrodynamic dynamo in thick accretion  disks: fully nonlinear simulations\n",
      "Authors: N. Tomei; L. Del Zanna; M. Bugli; N. Bucciantini\n",
      "Date: New submissions for Wed,  6 Nov 19\n",
      "Abstract: The recent imaging of the M87 black hole at millimeter wavelengths by the\n",
      "Event Horizon Telescope (EHT) collaboration has triggered a renewed interest in\n",
      "numerical models for the accretion of magnetized plasma in the regime of\n",
      "general relativistic magnetohydrodynamics (GRMHD). Here non-ideal simulations,\n",
      "including both the resistive effects and, above all, the mean-field dynamo\n",
      "action due to sub-scale, unresolved turbulence, are applied for the first time\n",
      "to such systems in the fully nonlinear regime. Combined with the differential\n",
      "rotation of the disk, the dynamo process is able to produce an exponential\n",
      "growth of any initial seed magnetic field up to the values required to explain\n",
      "the observations, when the instability tends to saturate even in the absence of\n",
      "artificial quenching effects. Before reaching the final saturation stage we\n",
      "observe a secondary regime of exponential growing, where the magnetic field\n",
      "increases more slowly due to accretion, which is modifying the underlying\n",
      "equilibrium. By varying the dynamo coefficient we obtain different growth\n",
      "rates, though the field seems to saturate at approximately the same level, at\n",
      "least for the limited range of parameters explored here, providing substantial\n",
      "values for the MAD parameter for magnetized accretion. For reasonable values of\n",
      "the central mass density and the commonly employed recipes for synchrotron\n",
      "emission by relativistically hot electrons, our model is able to reproduce\n",
      "naturally the observed flux of Sgr A*, the next target for EHT.\n",
      "Comments: 15 pages, 13 figures\n",
      "Link: \n",
      "Subjects: High Energy Astrophysical Phenomena (astro-ph.HE)\n",
      "\n",
      "The total score is: 9.78\n",
      "\n",
      "ID: arXiv:1911.01467\n",
      "Title: The effect of our local motion on the Sandage-Loeb test of the cosmic  expansion\n",
      "Authors: Takuya Inoue; Eiichiro Komatsu; Wako Aoki; Takeshi Chiba; Toru Misawa; Tomonori Usuda\n",
      "Date: New submissions for Wed,  6 Nov 19\n",
      "Abstract: Redshifts of an astronomical body measured at multiple epochs (e.g.,\n",
      "separated by 10 years) are different due to the cosmic expansion. This\n",
      "so-called Sandage-Loeb test offers a direct measurement of the expansion rate\n",
      "of the Universe. However, acceleration in the motion of Solar System with\n",
      "respect to the cosmic microwave background also changes redshifts measured at\n",
      "multiple epochs. If not accounted for, it yields a biased cosmological\n",
      "inference. To address this, we calculate the acceleration of Solar System with\n",
      "respect to the Local Group of galaxies to quantify the change in the measured\n",
      "redshift due to local motion. Our study is motivated by the recent\n",
      "determination of the mass of Large Magellanic Cloud (LMC), which indicates a\n",
      "significant fraction of the Milky Way mass. We find that the acceleration\n",
      "towards the Galactic Center dominates, which gives a redshift change of 7 cm/s\n",
      "in 10 years, while the accelerations due to LMC and M31 cannot be ignored\n",
      "depending on lines of sight. We create all-sky maps of the expected change in\n",
      "redshift and the corresponding uncertainty, which can be used to correct for\n",
      "this effect.\n",
      "Comments: 6 pages, 3 figures. Accepted for publication in PASJ\n",
      "Link: \n",
      "Subjects: Cosmology and Nongalactic Astrophysics (astro-ph.CO); Astrophysics of Galaxies (astro-ph.GA)\n",
      "\n",
      "The total score is: 3.55\n",
      "\n",
      "ID: arXiv:1911.01660\n",
      "Title: The thermal radiative wind in low mass X-ray binary H 1743-322: II. iron  line predictions from Monte Carlo radiation transfer\n",
      "Authors: Ryota Tomaru; Chris Done; Ken Ohsuga; Hirokazu Odaka; Tadayuki Takahashi\n",
      "Date: New submissions for Wed,  6 Nov 19\n",
      "Abstract: We show the best current simulations of the absorption and emission features\n",
      "predicted from thermal-radiative winds produced from X-ray illumination of the\n",
      "outer accretion disc in binary systems. We use the density and velocity\n",
      "structure derived from a radiation hydrodynamic code as input to a Monte-Carlo\n",
      "radiation transport calculation. The initial conditions are matched to those of\n",
      "the black hole binary system H1743-322 in its soft, disc dominated state, where\n",
      "wind features are seen in Chandra grating data. Our simulation fits well to the\n",
      "observed line profile, showing that these physical wind models can be the\n",
      "origin of the absorption features seen, rather than requiring a magnetically\n",
      "driven wind. We show how the velocity structure is key observable discriminator\n",
      "between magnetic and thermal winds. Magnetic winds are faster at smaller radii,\n",
      "whereas thermal winds transition to a static atmosphere at smaller radii. New\n",
      "data from XRISM (due for launch Jan 2022) will give an unprecedented view of\n",
      "the physics of the wind launch and acceleration processes, but the existence of\n",
      "static atmospheres in small disc systems already rules out magnetic winds which\n",
      "assume self-similar magnetic fields from the entire disc as the origin of the\n",
      "absorption features seen.\n",
      "Comments: 8 gages, 9 figures, submitted to MNRAS\n",
      "Link: \n",
      "Subjects: High Energy Astrophysical Phenomena (astro-ph.HE)\n",
      "\n",
      "The total score is: 0.00\n",
      "\n"
     ]
    }
   ],
   "source": [
    "lp_c.head()"
   ]
  },
  {
   "cell_type": "code",
   "execution_count": 6,
   "metadata": {},
   "outputs": [
    {
     "name": "stdout",
     "output_type": "stream",
     "text": [
      "Number of papers: 43\n",
      "Subjects: \n",
      "['Solar and Stellar Astrophysics (astro-ph.SR)', 'Astrophysics of Galaxies (astro-ph.GA)', 'High Energy Astrophysical Phenomena (astro-ph.HE)', 'Instrumentation and Methods for Astrophysics (astro-ph.IM)', 'Cosmology and Nongalactic Astrophysics (astro-ph.CO)', 'Machine Learning (cs.LG)', 'General Relativity and Quantum Cosmology (gr-qc)', 'High Energy Physics - Phenomenology (hep-ph)', 'High Energy Physics - Theory (hep-th)', 'Nuclear Theory (nucl-th)']\n",
      "Key words: \n",
      "['Chemistry', 'Galactic center', 'SNR', 'Supernova Remnant', 'MHD', 'turbulence', 'central parsec', 'Sgr A', 'Cosmic Ray']\n",
      "Exclude key words: \n",
      "Total scores:\n",
      "[0.0, 0.0, 0.0, 0.0, 0.0, 0.0, 0.0, 0.0, 0.0, 0.0, 0.0, 3.3782373893262316, 0.0, 0.0, 0.0, 0.0, 0.0, 0.0, 0.0, 0.0, 0.0, 0.0, 0.0, 0.0, 0.0, 0.0, 0.0, 0.0, 0.0, 0.0, 0.0, 0.0, 0.0, 9.3076230345995921, 0.0, 0.0, 0.0, 0.0, 0.0, 0.0, 0.0, 0.0, 0.0]\n"
     ]
    }
   ],
   "source": [
    "lp_d = lp_c.filter_subjects('Earth and Planetary Astrophysics (astro-ph.EP)', exclude=True)\n",
    "lp_d.summary()"
   ]
  },
  {
   "cell_type": "code",
   "execution_count": 7,
   "metadata": {},
   "outputs": [],
   "source": [
    "sigp_n = np.array(lp_d.tot_scores)[np.array(lp_d.tot_scores)>0.].size"
   ]
  },
  {
   "cell_type": "code",
   "execution_count": 8,
   "metadata": {
    "scrolled": false
   },
   "outputs": [
    {
     "name": "stdout",
     "output_type": "stream",
     "text": [
      "ID: arXiv:1911.01838\n",
      "Title: General relativistic magnetohydrodynamic dynamo in thick accretion disks: fully nonlinear simulations\n",
      "Authors: Tomei, N.; Del Zanna, L.; Bugli, M.; Bucciantini, N.\n",
      "Date: 2019/11/05\n",
      "Abstract: The recent imaging of the M87 black hole at millimeter wavelengths by the\n",
      "Event Horizon Telescope (EHT) collaboration has triggered a renewed interest in\n",
      "numerical models for the accretion of magnetized plasma in the regime of\n",
      "general relativistic magnetohydrodynamics (GRMHD). Here non-ideal simulations,\n",
      "including both the resistive effects and, above all, the mean-field dynamo\n",
      "action due to sub-scale, unresolved turbulence, are applied for the first time\n",
      "to such systems in the fully nonlinear regime. Combined with the differential\n",
      "rotation of the disk, the dynamo process is able to produce an exponential\n",
      "growth of any initial seed magnetic field up to the values required to explain\n",
      "the observations, when the instability tends to saturate even in the absence of\n",
      "artificial quenching effects. Before reaching the final saturation stage we\n",
      "observe a secondary regime of exponential growing, where the magnetic field\n",
      "increases more slowly due to accretion, which is modifying the underlying\n",
      "equilibrium. By varying the dynamo coefficient we obtain different growth\n",
      "rates, though the field seems to saturate at approximately the same level, at\n",
      "least for the limited range of parameters explored here, providing substantial\n",
      "values for the MAD parameter for magnetized accretion. For reasonable values of\n",
      "the central mass density and the commonly employed recipes for synchrotron\n",
      "emission by relativistically hot electrons, our model is able to reproduce\n",
      "naturally the observed flux of Sgr A*, the next target for EHT.\n",
      "Comments: 15 pages, 13 figures\n",
      "Link: https://arxiv.org/abs/arXiv:1911.01838\n",
      "Subjects: High Energy Astrophysical Phenomena (astro-ph.HE)\n",
      "\n",
      "The total score is: 9.31\n",
      "\n",
      "ID: arXiv:1911.01467\n",
      "Title: The effect of our local motion on the Sandage-Loeb test of the cosmic expansion\n",
      "Authors: Inoue, Takuya; Komatsu, Eiichiro; Aoki, Wako; Chiba, Takeshi; Misawa, Toru; Usuda, Tomonori\n",
      "Date: 2019/11/04\n",
      "Abstract: Redshifts of an astronomical body measured at multiple epochs (e.g.,\n",
      "separated by 10 years) are different due to the cosmic expansion. This\n",
      "so-called Sandage-Loeb test offers a direct measurement of the expansion rate\n",
      "of the Universe. However, acceleration in the motion of Solar System with\n",
      "respect to the cosmic microwave background also changes redshifts measured at\n",
      "multiple epochs. If not accounted for, it yields a biased cosmological\n",
      "inference. To address this, we calculate the acceleration of Solar System with\n",
      "respect to the Local Group of galaxies to quantify the change in the measured\n",
      "redshift due to local motion. Our study is motivated by the recent\n",
      "determination of the mass of Large Magellanic Cloud (LMC), which indicates a\n",
      "significant fraction of the Milky Way mass. We find that the acceleration\n",
      "towards the Galactic Center dominates, which gives a redshift change of 7 cm/s\n",
      "in 10 years, while the accelerations due to LMC and M31 cannot be ignored\n",
      "depending on lines of sight. We create all-sky maps of the expected change in\n",
      "redshift and the corresponding uncertainty, which can be used to correct for\n",
      "this effect.\n",
      "Comments: 6 pages, 3 figures. Accepted for publication in PASJ\n",
      "Link: https://arxiv.org/abs/arXiv:1911.01467\n",
      "Subjects: Cosmology and Nongalactic Astrophysics (astro-ph.CO); Astrophysics of Galaxies (astro-ph.GA)\n",
      "\n",
      "The total score is: 3.38\n",
      "\n"
     ]
    }
   ],
   "source": [
    "lp_d.head(sync=True, n=sigp_n)"
   ]
  },
  {
   "cell_type": "code",
   "execution_count": 9,
   "metadata": {},
   "outputs": [
    {
     "name": "stdout",
     "output_type": "stream",
     "text": [
      "{'chemistry': 1.0, 'galactic center': 1.0, 'snr': 1.0, 'supernova remnant': 1.0, 'mhd': 1.0, 'turbulence': 1.0, 'central parsec': 1.0, 'sgr a': 1.0, 'cosmic ray': 0.5}\n"
     ]
    }
   ],
   "source": [
    "print(lp_c._boost)"
   ]
  },
  {
   "cell_type": "code",
   "execution_count": 10,
   "metadata": {},
   "outputs": [
    {
     "data": {
      "text/plain": [
       "'arXiv:1911.01424'"
      ]
     },
     "execution_count": 10,
     "metadata": {},
     "output_type": "execute_result"
    }
   ],
   "source": [
    "lp_c[0].arxiv_id"
   ]
  },
  {
   "cell_type": "code",
   "execution_count": null,
   "metadata": {},
   "outputs": [],
   "source": []
  }
 ],
 "metadata": {
  "kernelspec": {
   "display_name": "Python 3",
   "language": "python",
   "name": "python3"
  },
  "language_info": {
   "codemirror_mode": {
    "name": "ipython",
    "version": 3
   },
   "file_extension": ".py",
   "mimetype": "text/x-python",
   "name": "python",
   "nbconvert_exporter": "python",
   "pygments_lexer": "ipython3",
   "version": "3.6.2"
  }
 },
 "nbformat": 4,
 "nbformat_minor": 2
}
