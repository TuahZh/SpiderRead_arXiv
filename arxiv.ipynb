{
 "cells": [
  {
   "cell_type": "code",
   "execution_count": 1,
   "metadata": {},
   "outputs": [
    {
     "name": "stdout",
     "output_type": "stream",
     "text": [
      "Populating the interactive namespace from numpy and matplotlib\n"
     ]
    }
   ],
   "source": [
    "%pylab inline\n",
    "from papers import *"
   ]
  },
  {
   "cell_type": "code",
   "execution_count": 2,
   "metadata": {},
   "outputs": [
    {
     "name": "stderr",
     "output_type": "stream",
     "text": [
      "/Users/gaoyuan/programs/git/SpiderRead_arXiv/papers.py:156: UserWarning: No parser was explicitly specified, so I'm using the best available HTML parser for this system (\"html.parser\"). This usually isn't a problem, but if you run this code on another system, or in a different virtual environment, it may use a different parser and behave differently.\n",
      "\n",
      "The code that caused this warning is on line 156 of the file /Users/gaoyuan/programs/git/SpiderRead_arXiv/papers.py. To get rid of this warning, pass the additional argument 'features=\"html.parser\"' to the BeautifulSoup constructor.\n",
      "\n",
      "  soup = BeautifulSoup(plain_text)\n"
     ]
    },
    {
     "name": "stdout",
     "output_type": "stream",
     "text": [
      "New submissions for Fri,  4 Oct 19\n",
      "Sleep...\n",
      "Awake...\n"
     ]
    }
   ],
   "source": [
    "pl, ts = arxiv_reading()\n",
    "with open(\"./list_pkls/\"+ts.split(\",\")[-1].strip().replace(\" \", \"_\")+\"_paper_list.pkl\", \"wb\") as f:\n",
    "    pck.dump(pl, f)\n",
    "    \n",
    "lp_c = ListPapers(pl)"
   ]
  },
  {
   "cell_type": "code",
   "execution_count": 3,
   "metadata": {},
   "outputs": [
    {
     "name": "stdout",
     "output_type": "stream",
     "text": [
      "Number of papers: 51\n",
      "Subjects: \n",
      "['Astrophysics of Galaxies (astro-ph.GA)', 'Cosmology and Nongalactic Astrophysics (astro-ph.CO)', 'Solar and Stellar Astrophysics (astro-ph.SR)', 'Earth and Planetary Astrophysics (astro-ph.EP)', 'Instrumentation and Methods for Astrophysics (astro-ph.IM)', 'High Energy Astrophysical Phenomena (astro-ph.HE)', 'High Energy Physics - Theory (hep-th)', 'Nuclear Theory (nucl-th)', 'Space Physics (physics.space-ph)', 'General Relativity and Quantum Cosmology (gr-qc)']\n",
      "Key words: \n",
      "\n",
      "Exclude key words: \n",
      "Total scores:\n",
      "\n"
     ]
    }
   ],
   "source": [
    "lp_c.summary()"
   ]
  },
  {
   "cell_type": "code",
   "execution_count": 4,
   "metadata": {},
   "outputs": [
    {
     "name": "stdout",
     "output_type": "stream",
     "text": [
      "Number of papers: 51\n",
      "Subjects: \n",
      "['Astrophysics of Galaxies (astro-ph.GA)', 'Cosmology and Nongalactic Astrophysics (astro-ph.CO)', 'Solar and Stellar Astrophysics (astro-ph.SR)', 'Earth and Planetary Astrophysics (astro-ph.EP)', 'Instrumentation and Methods for Astrophysics (astro-ph.IM)', 'High Energy Astrophysical Phenomena (astro-ph.HE)', 'High Energy Physics - Theory (hep-th)', 'Nuclear Theory (nucl-th)', 'Space Physics (physics.space-ph)', 'General Relativity and Quantum Cosmology (gr-qc)']\n",
      "Key words: \n",
      "['Chemistry', 'Galactic center', 'SNR', 'Supernova Remnant', 'Cosmic Ray']\n",
      "Exclude key words: \n",
      "Total scores:\n",
      "[0.0, 0.0, 0.0, 0.0, 0.0, 0.0, 0.0, 0.0, 0.0, 0.0, 0.0, 0.0, 3.3168297931300303, 0.0, 2.4233513667064859, 0.0, 0.0, 0.0, 0.0, 0.0, 0.0, 4.89014580842331, 0.0, 0.0, 0.0, 0.0, 0.0, 0.0, 0.0, 0.0, 0.0, 0.0, 0.0, 0.0, 0.0, 0.0, 0.0, 0.0, 0.0, 0.0, 6.5088740606364084, 0.0, 0.0, 0.0, 2.1360839189845477, 0.0, 0.0, 0.0, 0.0, 0.0, 0.0]\n"
     ]
    }
   ],
   "source": [
    "lp_c.add_key_words([\"Chemistry\", \"Galactic center\", \"SNR\", \"Supernova Remnant\"])\n",
    "lp_c.add_key_words(\"Cosmic Ray\", boost=0.5)\n",
    "lp_c.summary()\n"
   ]
  },
  {
   "cell_type": "code",
   "execution_count": 5,
   "metadata": {},
   "outputs": [
    {
     "name": "stdout",
     "output_type": "stream",
     "text": [
      "ID: arXiv:1910.01554\n",
      "Title: The role of C/O in nitrile astrochemistry in PDRs and planet-forming  disks\n",
      "Authors: Romane Le Gal; Madison T. Brady; Karin I. Öberg; Evelyne Roueff; Franck Le Petit\n",
      "Date: New submissions for Fri,  4 Oct 19\n",
      "Abstract: Complex nitriles, such as HC3N, and CH3CN, are observed in a wide variety of\n",
      "astrophysical environments, including at relatively high abundances in\n",
      "photon-dominated regions (PDR) and the UV exposed atmospheres of planet-forming\n",
      "disks. The latter have been inferred to be oxygen-poor, suggesting that these\n",
      "observations may be explained by organic chemistry in C-rich environments. In\n",
      "this study we first explore if the PDR complex nitrile observations can be\n",
      "explained by gas-phase PDR chemistry alone if the elemental C/O ratio is\n",
      "elevated. In the case of the Horsehead PDR, we find that gas-phase chemistry\n",
      "with C/O $\\gtrsim$ 0.9 can indeed explain the observed nitrile abundances,\n",
      "increasing predicted abundances by several orders of magnitude compared to\n",
      "standard C/O assumptions. We also find that the nitrile abundances are\n",
      "sensitive to the cosmic ray ionization treatment, and provide constraints on\n",
      "the branching ratios between CH3CN and CH3NC productions. In a fiducial disk\n",
      "model, an elevated C/O ratio increases the CH3CN and HC3N productions by more\n",
      "than an order of magnitude, bringing abundance predictions within an order of\n",
      "magnitude to what has been inferred from observations. The C/O ratio appears to\n",
      "be a key variable in predicting and interpreting complex organic molecule\n",
      "abundances in photon-dominated regions across a range of scales.\n",
      "Comments: 15 pages, 7 figures, 2 tables, accepted for publication in ApJ\n",
      "Link: \n",
      "Subjects: Earth and Planetary Astrophysics (astro-ph.EP); Astrophysics of Galaxies (astro-ph.GA); Solar and Stellar Astrophysics (astro-ph.SR)\n",
      "\n",
      "The total score is: 6.51\n",
      "\n",
      "ID: arXiv:1910.01261\n",
      "Title: Positive Ion Chemistry in an N$_2$-CH$_4$ Plasma Discharge: Key  Precursors to the Growth of Titan Tholins\n",
      "Authors: David Dubois; Nathalie Carrasco; Lora Jovanovic; Ludovic Vettier; Thomas Gautier; Joseph Westlake\n",
      "Date: New submissions for Fri,  4 Oct 19\n",
      "Abstract: Titan is unique in the solar system as it hosts a dense atmosphere mainly\n",
      "made of N$_2$ and CH$_4$. Cassini-Huygens revealed the presence of an intense\n",
      "atmospheric photochemistry initiated by the photo-dissociation and ionization\n",
      "of N$_2$ and CH$_4$. In the upper atmosphere, Cassini detected signatures\n",
      "compatible with the presence of heavily charged molecules, precursors for the\n",
      "solid core of the aerosols. However, the processes coupling ion chemistry and\n",
      "aerosol formation and growth are still mostly unknown. In this study, we\n",
      "investigated the cation chemistry responsible for an efficient organic growth\n",
      "that we observe in Titan's upper atmosphere, simulated using the PAMPRE plasma\n",
      "reactor. Cation precursors were measured by in situ ion mass spectrometry in a\n",
      "cold plasma and compared with INMS observations taken during the T40 flyby. A\n",
      "series of positive ion measurements were performed in three CH$_4$ mixing\n",
      "ratios (1%, 5% and 10%) showing a variability in ion population. Low CH$_4$\n",
      "concentrations result in an abundance of amine cations such as NH$_4^+$ whereas\n",
      "aliphatic compounds dominate at higher methane concentrations. In conditions of\n",
      "favored tholin production, the presence of C2 compounds such as HCNH$^+$ and\n",
      "C$_2$H$_5^+$ is found to be consistent with copolymeric growth structures seen\n",
      "in tholin material. The observed abundance of these two ions particularly in\n",
      "conditions with lower CH$_4$ amounts is consistent with modeling work\n",
      "simulating aerosol growth in Titan's ionosphere, which includes mass exchange\n",
      "primarily between HCNH$^+$ and C$_2$H$_5^+$ and negatively charged particles.\n",
      "These results also confirm the prevalent role of C2 cations as precursors to\n",
      "molecular growth and subsequent mass transfer to the charged aerosol particles\n",
      "as the CH$_4$ abundance decreases towards lower altitudes.\n",
      "Comments: 39 pages, 20 figures, 3 tables, Accepted for publication in Icarus (abstract shortened)\n",
      "Link: \n",
      "Subjects: Earth and Planetary Astrophysics (astro-ph.EP)\n",
      "\n",
      "The total score is: 4.89\n",
      "\n",
      "ID: arXiv:1910.01163\n",
      "Title: Evolution of giant molecular clouds across cosmic time\n",
      "Authors: David Guszejnov; Michael Y. Grudić; Stella S. R. Offner; Michael Boylan-Kolchin; Claude-André Faucher-Gigère; Andrew Wetzel; Samantha M. Benincasa; Sarah Loebman\n",
      "Date: New submissions for Fri,  4 Oct 19\n",
      "Abstract: Giant molecular clouds (GMCs) are well-studied in the local Universe,\n",
      "however, exactly how their properties vary during galaxy evolution is poorly\n",
      "understood due to challenging resolution requirements, both observational and\n",
      "computational. We present the first time-dependent analysis of giant molecular\n",
      "clouds in a Milky Way-like galaxy and an LMC-like dwarf galaxy of the FIRE-2\n",
      "(Feedback In Realistic Environments) simulation suite, which have sufficient\n",
      "resolution to predict the bulk properties of GMCs in cosmological galaxy\n",
      "formation self-consistently. We show explicitly that the majority of star\n",
      "formation outside the galactic center occurs within self-gravitating gas\n",
      "structures that have properties consistent with observed bound GMCs. We find\n",
      "that the typical cloud bulk properties such as mass and surface density do not\n",
      "vary more than a factor of 2 in any systematic way after the first Gyr of\n",
      "cosmic evolution within a given galaxy from its progenitor. While the median\n",
      "properties are constant, the tails of the distributions can briefly undergo\n",
      "drastic changes, which can produce very massive and dense self-gravitating gas\n",
      "clouds. Once the galaxy forms, we identify only two systematic trends in bulk\n",
      "properties over cosmic time: a steady increase in metallicity produced by\n",
      "previous stellar populations and a weak decrease in bulk cloud temperatures.\n",
      "With the exception of metallicity we find no significant differences in cloud\n",
      "properties between the Milky Way-like and dwarf galaxies. These results have\n",
      "important implications for cosmological star and star cluster formation and put\n",
      "especially strong constraints on theories relating the stellar initial mass\n",
      "function to cloud properties.\n",
      "Comments: 15 pages, 11 figures Submitted to MNRAS\n",
      "Link: \n",
      "Subjects: Astrophysics of Galaxies (astro-ph.GA)\n",
      "\n",
      "The total score is: 3.32\n",
      "\n"
     ]
    }
   ],
   "source": [
    "lp_c.head()"
   ]
  },
  {
   "cell_type": "code",
   "execution_count": 6,
   "metadata": {},
   "outputs": [
    {
     "name": "stdout",
     "output_type": "stream",
     "text": [
      "Number of papers: 39\n",
      "Subjects: \n",
      "['Astrophysics of Galaxies (astro-ph.GA)', 'Cosmology and Nongalactic Astrophysics (astro-ph.CO)', 'Solar and Stellar Astrophysics (astro-ph.SR)', 'Instrumentation and Methods for Astrophysics (astro-ph.IM)', 'High Energy Astrophysical Phenomena (astro-ph.HE)', 'High Energy Physics - Theory (hep-th)', 'Nuclear Theory (nucl-th)', 'Space Physics (physics.space-ph)', 'General Relativity and Quantum Cosmology (gr-qc)']\n",
      "Key words: \n",
      "['Chemistry', 'Galactic center', 'SNR', 'Supernova Remnant', 'Cosmic Ray']\n",
      "Exclude key words: \n",
      "Total scores:\n",
      "[0.0, 0.0, 0.0, 0.0, 0.0, 0.0, 0.0, 0.0, 0.0, 0.0, 0.0, 3.0544909702349208, 2.4857602540639654, 0.0, 0.0, 0.0, 0.0, 0.0, 0.0, 0.0, 0.0, 0.0, 0.0, 0.0, 0.0, 0.0, 0.0, 0.0, 0.0, 0.0, 0.0, 0.0, 0.0, 0.0, 2.1900709439781565, 0.0, 0.0, 0.0, 0.0]\n"
     ]
    }
   ],
   "source": [
    "lp_d = lp_c.filter_subjects('Earth and Planetary Astrophysics (astro-ph.EP)', exclude=True)\n",
    "lp_d.summary()"
   ]
  },
  {
   "cell_type": "code",
   "execution_count": 7,
   "metadata": {},
   "outputs": [
    {
     "name": "stderr",
     "output_type": "stream",
     "text": [
      "/Users/gaoyuan/programs/git/SpiderRead_arXiv/papers.py:90: UserWarning: No parser was explicitly specified, so I'm using the best available HTML parser for this system (\"html.parser\"). This usually isn't a problem, but if you run this code on another system, or in a different virtual environment, it may use a different parser and behave differently.\n",
      "\n",
      "The code that caused this warning is on line 90 of the file /Users/gaoyuan/programs/git/SpiderRead_arXiv/papers.py. To get rid of this warning, pass the additional argument 'features=\"html.parser\"' to the BeautifulSoup constructor.\n",
      "\n",
      "  soup = BeautifulSoup(plain_text)\n"
     ]
    },
    {
     "name": "stdout",
     "output_type": "stream",
     "text": [
      "ID: arXiv:1910.01163\n",
      "Title: Evolution of giant molecular clouds across cosmic time\n",
      "Authors: Guszejnov, David; Grudić, Michael Y.; Offner, Stella S. R.; Boylan-Kolchin, Michael; Faucher-Gigère, Claude-André; Wetzel, Andrew; Benincasa, Samantha M.; Loebman, Sarah\n",
      "Date: 2019/10/02\n",
      "Abstract: Giant molecular clouds (GMCs) are well-studied in the local Universe,\n",
      "however, exactly how their properties vary during galaxy evolution is poorly\n",
      "understood due to challenging resolution requirements, both observational and\n",
      "computational. We present the first time-dependent analysis of giant molecular\n",
      "clouds in a Milky Way-like galaxy and an LMC-like dwarf galaxy of the FIRE-2\n",
      "(Feedback In Realistic Environments) simulation suite, which have sufficient\n",
      "resolution to predict the bulk properties of GMCs in cosmological galaxy\n",
      "formation self-consistently. We show explicitly that the majority of star\n",
      "formation outside the galactic center occurs within self-gravitating gas\n",
      "structures that have properties consistent with observed bound GMCs. We find\n",
      "that the typical cloud bulk properties such as mass and surface density do not\n",
      "vary more than a factor of 2 in any systematic way after the first Gyr of\n",
      "cosmic evolution within a given galaxy from its progenitor. While the median\n",
      "properties are constant, the tails of the distributions can briefly undergo\n",
      "drastic changes, which can produce very massive and dense self-gravitating gas\n",
      "clouds. Once the galaxy forms, we identify only two systematic trends in bulk\n",
      "properties over cosmic time: a steady increase in metallicity produced by\n",
      "previous stellar populations and a weak decrease in bulk cloud temperatures.\n",
      "With the exception of metallicity we find no significant differences in cloud\n",
      "properties between the Milky Way-like and dwarf galaxies. These results have\n",
      "important implications for cosmological star and star cluster formation and put\n",
      "especially strong constraints on theories relating the stellar initial mass\n",
      "function to cloud properties.\n",
      "Comments: 15 pages, 11 figures Submitted to MNRAS\n",
      "Link: https://arxiv.org/abs/arXiv:1910.01163\n",
      "Subjects: Astrophysics of Galaxies (astro-ph.GA)\n",
      "\n",
      "The total score is: 3.05\n",
      "\n",
      "ID: arXiv:1910.01172\n",
      "Title: Test particle simulations of cosmic rays\n",
      "Authors: Mertsch, Philipp\n",
      "Date: 2019/10/02\n",
      "Abstract: Modelling of cosmic ray transport and interpretation of cosmic ray data\n",
      "ultimately rely on a solid understanding of the interactions of charged\n",
      "particles with turbulent magnetic fields. The paradigm over the last 50 years\n",
      "has been the so-called quasi-linear theory, despite some well-known issues. In\n",
      "the absence of a widely accepted extension of quasi-linear theory,\n",
      "wave-particle interactions must also be studied in numerical simulations where\n",
      "the equations of motion are directly solved in a realisation of the turbulent\n",
      "magnetic field. The applications of such test particle simulations of cosmic\n",
      "rays are manifold: testing transport theories, computing parameters like\n",
      "diffusion coefficients or making predictions for phenomena beyond standard\n",
      "quasi-linear theory, e.g. for cosmic ray small-scale anisotropies. In this\n",
      "review, we seek to give a low-level introduction to test particle simulations\n",
      "of cosmic rays, enabling readers to run their own test particle simulations. We\n",
      "start with a review of quasi-linear theory, highlighting some of its issues and\n",
      "suggested extensions. Next, we summarise the state-of-the-art in test particle\n",
      "simulations and give concrete recipes for generating synthetic turbulence. We\n",
      "present a couple of examples for applications of such simulations and comment\n",
      "on an important conceptual detail in the backtracking of particles.\n",
      "Comments: 23 pages, 3 figures; invited review for Topical Collection of Astrophysics and Space Sciences\n",
      "Link: https://arxiv.org/abs/arXiv:1910.01172\n",
      "Subjects: High Energy Astrophysical Phenomena (astro-ph.HE); Astrophysics of Galaxies (astro-ph.GA)\n",
      "\n",
      "The total score is: 2.49\n",
      "\n",
      "ID: arXiv:1910.01576\n",
      "Title: Time dependence of the p/He ratio in cosmic rays according to the force-field approximation\n",
      "Authors: Corti, Claudio; Bindi, Veronica; Consolandi, Cristina; Freeman, Christopher; Kuhlman, Andrew; Light, Christopher; Palermo, Matteo; Wang, Siqi\n",
      "Date: 2019/09/30\n",
      "Abstract: We study the predictions for the p/He ratio in galactic cosmic rays according\n",
      "to the force-field approximation. The dependence of the time variation of p/He\n",
      "on the local interstellar spectrum (LIS) shape and on the mass-to-charge ratio,\n",
      "A/Z, is analyzed in detail. We find that, depending on the rigidity range and\n",
      "the sign of the spectral index of the p/He LIS ratio, the p/He time variation\n",
      "can be correlated or anti-correlated with the phase of the solar cycle. We show\n",
      "that the A/Z dependence is the most probable cause for the p/He decrease\n",
      "recently observed by AMS-02 after 2015 between 2 and 3 GV.\n",
      "Comments: Proceeding of the 36th International Cosmic Ray Conference (ICRC19)\n",
      "Link: https://arxiv.org/abs/arXiv:1910.01576\n",
      "Subjects: High Energy Astrophysical Phenomena (astro-ph.HE); Solar and Stellar Astrophysics (astro-ph.SR); Space Physics (physics.space-ph)\n",
      "\n",
      "The total score is: 2.19\n",
      "\n"
     ]
    }
   ],
   "source": [
    "lp_d.head(sync=True)"
   ]
  },
  {
   "cell_type": "code",
   "execution_count": 8,
   "metadata": {},
   "outputs": [
    {
     "name": "stdout",
     "output_type": "stream",
     "text": [
      "{'chemistry': 1.0, 'galactic center': 1.0, 'snr': 1.0, 'supernova remnant': 1.0, 'cosmic ray': 0.5}\n"
     ]
    }
   ],
   "source": [
    "print(lp_c._boost)"
   ]
  },
  {
   "cell_type": "code",
   "execution_count": null,
   "metadata": {},
   "outputs": [],
   "source": []
  }
 ],
 "metadata": {
  "kernelspec": {
   "display_name": "Python 3",
   "language": "python",
   "name": "python3"
  },
  "language_info": {
   "codemirror_mode": {
    "name": "ipython",
    "version": 3
   },
   "file_extension": ".py",
   "mimetype": "text/x-python",
   "name": "python",
   "nbconvert_exporter": "python",
   "pygments_lexer": "ipython3",
   "version": "3.6.2"
  }
 },
 "nbformat": 4,
 "nbformat_minor": 2
}
